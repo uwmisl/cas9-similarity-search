{
 "cells": [
  {
   "cell_type": "markdown",
   "metadata": {},
   "source": [
    "# This notebook must be run in the GitHub repository published in Bee et al. 2021, along with the `.h5` files included in this directory"
   ]
  },
  {
   "cell_type": "code",
   "execution_count": 2,
   "metadata": {},
   "outputs": [
    {
     "name": "stdout",
     "output_type": "stream",
     "text": [
      "Populating the interactive namespace from numpy and matplotlib\n"
     ]
    }
   ],
   "source": [
    "%pylab notebook\n",
    "\n",
    "# # Run on CPU not GPU\n",
    "# import os\n",
    "# os.environ[\"CUDA_VISIBLE_DEVICES\"] = \"-1\"\n",
    "\n",
    "import tensorflow as tf\n",
    "from tensorflow.keras import layers\n",
    "\n",
    "import cupyck\n",
    "\n",
    "import primo.models\n",
    "import primo.datasets\n",
    "# import primo.tools.filepath as filepaths\n",
    "import primo.tools.sequences as seqtools\n",
    "import pandas as pd\n"
   ]
  },
  {
   "cell_type": "code",
   "execution_count": 3,
   "metadata": {},
   "outputs": [],
   "source": [
    "sess_args = {\n",
    "    \"max_seqlen\": 240\n",
    "}\n",
    "try:\n",
    "    session = cupyck.GPUSession(**sess_args)\n",
    "except RuntimeError:\n",
    "    print \"GPU startup failed. falling back to multicore backend.\"\n",
    "    session = cupyck.MulticoreSession()\n",
    "simulator = primo.models.Simulator(session)"
   ]
  },
  {
   "cell_type": "code",
   "execution_count": 4,
   "metadata": {},
   "outputs": [
    {
     "name": "stdout",
     "output_type": "stream",
     "text": [
      "WARNING:tensorflow:From /usr/local/lib/python2.7/dist-packages/tensorflow_core/python/ops/init_ops.py:97: calling __init__ (from tensorflow.python.ops.init_ops) with dtype is deprecated and will be removed in a future version.\n",
      "Instructions for updating:\n",
      "Call initializer instance with the dtype argument instead of passing it to the constructor\n",
      "WARNING:tensorflow:From /usr/local/lib/python2.7/dist-packages/tensorflow_core/python/ops/init_ops.py:97: calling __init__ (from tensorflow.python.ops.init_ops) with dtype is deprecated and will be removed in a future version.\n",
      "Instructions for updating:\n",
      "Call initializer instance with the dtype argument instead of passing it to the constructor\n",
      "WARNING:tensorflow:From /usr/local/lib/python2.7/dist-packages/tensorflow_core/python/ops/resource_variable_ops.py:1630: calling __init__ (from tensorflow.python.ops.resource_variable_ops) with constraint is deprecated and will be removed in a future version.\n",
      "Instructions for updating:\n",
      "If using Keras pass *_constraint arguments to layers.\n",
      "WARNING:tensorflow:No training configuration found in save file: the model was *not* compiled. Compile it manually.\n",
      "WARNING:tensorflow:No training configuration found in save file: the model was *not* compiled. Compile it manually.\n"
     ]
    }
   ],
   "source": [
    "# Load the model to be examined\n",
    "encoder_20 = tf.keras.models.load_model('/tf/primo/data/models/encoder_model_20_3.h5')\n",
    "encoder_80 = tf.keras.models.load_model('/tf/primo/data/models/encoder_model_80_3.h5')"
   ]
  },
  {
   "cell_type": "code",
   "execution_count": 5,
   "metadata": {},
   "outputs": [],
   "source": [
    "### \n",
    "# Define utilities\n",
    "###\n",
    "\n",
    "def confidence_by_base(sequences):\n",
    "    \"\"\"Takes a batch of softmax sequences, and returns vector of average confidence in each position\n",
    "    \n",
    "    sequences: Number of exmaple x Number of bases x 4\n",
    "    \n",
    "    Returns: 1 x number of bases\n",
    "    \"\"\"\n",
    "    # reduce last dimension to max base number\n",
    "    return np.mean(np.max(sequences, axis=-1), axis=0)\n",
    "\n",
    "def entropy_by_base(sequences):\n",
    "    x = np.sum(sequences, axis=0)\n",
    "    x /= np.sum(x, axis=1)[:, None]\n",
    "    entropy = -np.sum(x * np.log(x + 1e-10), axis=1)\n",
    "    return entropy\n",
    "\n",
    "def base_distribution(sequences):\n",
    "    one_hots = one_hot(sequences)\n",
    "    bases = np.sum(one_hots, axis=0)\n",
    "\n",
    "def one_hot(nparray, depth = 0, on_value = 1, off_value = 0):\n",
    "    if depth == 0:\n",
    "        depth = np.max(nparray) + 1\n",
    "    assert np.max(nparray) < depth, \"the max index of nparray: {} is larger than depth: {}\".format(np.max(nparray), depth)\n",
    "    shape = nparray.shape\n",
    "    out = np.ones(shape + (depth,), dtype=np.float32) * off_value\n",
    "    indices = []\n",
    "    for i in range(nparray.ndim):\n",
    "        tiles = [1] * nparray.ndim\n",
    "        s = [1] * nparray.ndim\n",
    "        s[i] = -1\n",
    "        r = np.arange(shape[i]).reshape(s)\n",
    "        if i > 0:\n",
    "            tiles[i-1] = shape[i-1]\n",
    "            r = np.tile(r, tiles)\n",
    "        indices.append(r)\n",
    "    indices.append(nparray)\n",
    "    out[tuple(indices)] = on_value\n",
    "    return out\n",
    "\n",
    "def get_multiple_batchs(n, generator):\n",
    "    indices = None\n",
    "    values = None\n",
    "    for _ in range(n):\n",
    "        i, v = next(generator)\n",
    "        if indices is None:\n",
    "            indices = i\n",
    "            values = v\n",
    "        else:\n",
    "            indices = np.concatenate([indices, i])\n",
    "            values = np.concatenate([values, v])\n",
    "    return indices, values"
   ]
  },
  {
   "cell_type": "code",
   "execution_count": 6,
   "metadata": {},
   "outputs": [],
   "source": [
    "# ###\n",
    "# # Load queries and see what they encode to\n",
    "# ###\n",
    "# query_features = pd.read_hdf('/tf/primo/data/queries/features.h5')\n",
    "# query_seqs = seqtools.onehots_to_seqs(encoder.predict(query_features))\n",
    "# print(\"Query Seqs: \\n\" + \"\\n\".join(query_seqs))\n",
    "\n",
    "# def seq_str_to_input(seq):\n",
    "#     return np.transpose(seqtools.seqs_to_onehots(seq), [1, 0, 2])"
   ]
  },
  {
   "cell_type": "code",
   "execution_count": 7,
   "metadata": {},
   "outputs": [],
   "source": [
    "###\n",
    "# Use data batch generators to get a batch of random training and validation\n",
    "# data\n",
    "###encoder_1site_triplet_20220128_1\n",
    "\n",
    "def keras_batch_generator(dataset_batch_generator, similarity_threshold):\n",
    "    # Yield datasets\n",
    "    while True:\n",
    "        # This tuple contains:\n",
    "        # indices: a positive integer uniquely identifying an image. This index is obtained by enumerating all the images in the dataset (before splitting them into test/train/validate datasets)\n",
    "        # pairs:\n",
    "        indices, pairs = next(dataset_batch_generator)\n",
    "        # The Euclidean distances between the two vectors in each pair\n",
    "        distances = np.sqrt(np.square(pairs[:,0,:] - pairs[:,1,:]).sum(1))\n",
    "        # Whether or not the images in this pair should be considered 'similar'. This is a boolean value, represented by an int (0 or 1), and is determined by whether the aforementioned Euclidean distances between image feature vectors are under some pre-deterined \"similarity threshold\".\n",
    "        similar = (distances < similarity_threshold).astype(int)\n",
    "        # Yield a pair of sequences, and 0-or-1 indicating whether they're similar.\n",
    "        yield pairs, similar\n",
    "        \n",
    "batch_size = 200\n",
    "similarity_threshold = 75\n",
    "\n",
    "validation_dataset = primo.datasets.OpenImagesVal('/tf/open_images/validation/')\n",
    "\n",
    "# Generators for balanced pairs\n",
    "val_pair_generator = keras_batch_generator(\n",
    "    validation_dataset.balanced_pairs(batch_size, similarity_threshold), \n",
    "    similarity_threshold)\n",
    "\n",
    "# Get pairs (250 batches x 200 batch size = 50k pairs)\n",
    "val_feat_pairs, val_truth = get_multiple_batchs(250, val_pair_generator) \n"
   ]
  },
  {
   "cell_type": "markdown",
   "metadata": {},
   "source": [
    "### 80 nt encoded"
   ]
  },
  {
   "cell_type": "code",
   "execution_count": 8,
   "metadata": {},
   "outputs": [
    {
     "data": {
      "application/javascript": "/* Put everything inside the global mpl namespace */\nwindow.mpl = {};\n\n\nmpl.get_websocket_type = function() {\n    if (typeof(WebSocket) !== 'undefined') {\n        return WebSocket;\n    } else if (typeof(MozWebSocket) !== 'undefined') {\n        return MozWebSocket;\n    } else {\n        alert('Your browser does not have WebSocket support.' +\n              'Please try Chrome, Safari or Firefox ≥ 6. ' +\n              'Firefox 4 and 5 are also supported but you ' +\n              'have to enable WebSockets in about:config.');\n    };\n}\n\nmpl.figure = function(figure_id, websocket, ondownload, parent_element) {\n    this.id = figure_id;\n\n    this.ws = websocket;\n\n    this.supports_binary = (this.ws.binaryType != undefined);\n\n    if (!this.supports_binary) {\n        var warnings = document.getElementById(\"mpl-warnings\");\n        if (warnings) {\n            warnings.style.display = 'block';\n            warnings.textContent = (\n                \"This browser does not support binary websocket messages. \" +\n                    \"Performance may be slow.\");\n        }\n    }\n\n    this.imageObj = new Image();\n\n    this.context = undefined;\n    this.message = undefined;\n    this.canvas = undefined;\n    this.rubberband_canvas = undefined;\n    this.rubberband_context = undefined;\n    this.format_dropdown = undefined;\n\n    this.image_mode = 'full';\n\n    this.root = $('<div/>');\n    this._root_extra_style(this.root)\n    this.root.attr('style', 'display: inline-block');\n\n    $(parent_element).append(this.root);\n\n    this._init_header(this);\n    this._init_canvas(this);\n    this._init_toolbar(this);\n\n    var fig = this;\n\n    this.waiting = false;\n\n    this.ws.onopen =  function () {\n            fig.send_message(\"supports_binary\", {value: fig.supports_binary});\n            fig.send_message(\"send_image_mode\", {});\n            if (mpl.ratio != 1) {\n                fig.send_message(\"set_dpi_ratio\", {'dpi_ratio': mpl.ratio});\n            }\n            fig.send_message(\"refresh\", {});\n        }\n\n    this.imageObj.onload = function() {\n            if (fig.image_mode == 'full') {\n                // Full images could contain transparency (where diff images\n                // almost always do), so we need to clear the canvas so that\n                // there is no ghosting.\n                fig.context.clearRect(0, 0, fig.canvas.width, fig.canvas.height);\n            }\n            fig.context.drawImage(fig.imageObj, 0, 0);\n        };\n\n    this.imageObj.onunload = function() {\n        fig.ws.close();\n    }\n\n    this.ws.onmessage = this._make_on_message_function(this);\n\n    this.ondownload = ondownload;\n}\n\nmpl.figure.prototype._init_header = function() {\n    var titlebar = $(\n        '<div class=\"ui-dialog-titlebar ui-widget-header ui-corner-all ' +\n        'ui-helper-clearfix\"/>');\n    var titletext = $(\n        '<div class=\"ui-dialog-title\" style=\"width: 100%; ' +\n        'text-align: center; padding: 3px;\"/>');\n    titlebar.append(titletext)\n    this.root.append(titlebar);\n    this.header = titletext[0];\n}\n\n\n\nmpl.figure.prototype._canvas_extra_style = function(canvas_div) {\n\n}\n\n\nmpl.figure.prototype._root_extra_style = function(canvas_div) {\n\n}\n\nmpl.figure.prototype._init_canvas = function() {\n    var fig = this;\n\n    var canvas_div = $('<div/>');\n\n    canvas_div.attr('style', 'position: relative; clear: both; outline: 0');\n\n    function canvas_keyboard_event(event) {\n        return fig.key_event(event, event['data']);\n    }\n\n    canvas_div.keydown('key_press', canvas_keyboard_event);\n    canvas_div.keyup('key_release', canvas_keyboard_event);\n    this.canvas_div = canvas_div\n    this._canvas_extra_style(canvas_div)\n    this.root.append(canvas_div);\n\n    var canvas = $('<canvas/>');\n    canvas.addClass('mpl-canvas');\n    canvas.attr('style', \"left: 0; top: 0; z-index: 0; outline: 0\")\n\n    this.canvas = canvas[0];\n    this.context = canvas[0].getContext(\"2d\");\n\n    var backingStore = this.context.backingStorePixelRatio ||\n\tthis.context.webkitBackingStorePixelRatio ||\n\tthis.context.mozBackingStorePixelRatio ||\n\tthis.context.msBackingStorePixelRatio ||\n\tthis.context.oBackingStorePixelRatio ||\n\tthis.context.backingStorePixelRatio || 1;\n\n    mpl.ratio = (window.devicePixelRatio || 1) / backingStore;\n\n    var rubberband = $('<canvas/>');\n    rubberband.attr('style', \"position: absolute; left: 0; top: 0; z-index: 1;\")\n\n    var pass_mouse_events = true;\n\n    canvas_div.resizable({\n        start: function(event, ui) {\n            pass_mouse_events = false;\n        },\n        resize: function(event, ui) {\n            fig.request_resize(ui.size.width, ui.size.height);\n        },\n        stop: function(event, ui) {\n            pass_mouse_events = true;\n            fig.request_resize(ui.size.width, ui.size.height);\n        },\n    });\n\n    function mouse_event_fn(event) {\n        if (pass_mouse_events)\n            return fig.mouse_event(event, event['data']);\n    }\n\n    rubberband.mousedown('button_press', mouse_event_fn);\n    rubberband.mouseup('button_release', mouse_event_fn);\n    // Throttle sequential mouse events to 1 every 20ms.\n    rubberband.mousemove('motion_notify', mouse_event_fn);\n\n    rubberband.mouseenter('figure_enter', mouse_event_fn);\n    rubberband.mouseleave('figure_leave', mouse_event_fn);\n\n    canvas_div.on(\"wheel\", function (event) {\n        event = event.originalEvent;\n        event['data'] = 'scroll'\n        if (event.deltaY < 0) {\n            event.step = 1;\n        } else {\n            event.step = -1;\n        }\n        mouse_event_fn(event);\n    });\n\n    canvas_div.append(canvas);\n    canvas_div.append(rubberband);\n\n    this.rubberband = rubberband;\n    this.rubberband_canvas = rubberband[0];\n    this.rubberband_context = rubberband[0].getContext(\"2d\");\n    this.rubberband_context.strokeStyle = \"#000000\";\n\n    this._resize_canvas = function(width, height) {\n        // Keep the size of the canvas, canvas container, and rubber band\n        // canvas in synch.\n        canvas_div.css('width', width)\n        canvas_div.css('height', height)\n\n        canvas.attr('width', width * mpl.ratio);\n        canvas.attr('height', height * mpl.ratio);\n        canvas.attr('style', 'width: ' + width + 'px; height: ' + height + 'px;');\n\n        rubberband.attr('width', width);\n        rubberband.attr('height', height);\n    }\n\n    // Set the figure to an initial 600x600px, this will subsequently be updated\n    // upon first draw.\n    this._resize_canvas(600, 600);\n\n    // Disable right mouse context menu.\n    $(this.rubberband_canvas).bind(\"contextmenu\",function(e){\n        return false;\n    });\n\n    function set_focus () {\n        canvas.focus();\n        canvas_div.focus();\n    }\n\n    window.setTimeout(set_focus, 100);\n}\n\nmpl.figure.prototype._init_toolbar = function() {\n    var fig = this;\n\n    var nav_element = $('<div/>')\n    nav_element.attr('style', 'width: 100%');\n    this.root.append(nav_element);\n\n    // Define a callback function for later on.\n    function toolbar_event(event) {\n        return fig.toolbar_button_onclick(event['data']);\n    }\n    function toolbar_mouse_event(event) {\n        return fig.toolbar_button_onmouseover(event['data']);\n    }\n\n    for(var toolbar_ind in mpl.toolbar_items) {\n        var name = mpl.toolbar_items[toolbar_ind][0];\n        var tooltip = mpl.toolbar_items[toolbar_ind][1];\n        var image = mpl.toolbar_items[toolbar_ind][2];\n        var method_name = mpl.toolbar_items[toolbar_ind][3];\n\n        if (!name) {\n            // put a spacer in here.\n            continue;\n        }\n        var button = $('<button/>');\n        button.addClass('ui-button ui-widget ui-state-default ui-corner-all ' +\n                        'ui-button-icon-only');\n        button.attr('role', 'button');\n        button.attr('aria-disabled', 'false');\n        button.click(method_name, toolbar_event);\n        button.mouseover(tooltip, toolbar_mouse_event);\n\n        var icon_img = $('<span/>');\n        icon_img.addClass('ui-button-icon-primary ui-icon');\n        icon_img.addClass(image);\n        icon_img.addClass('ui-corner-all');\n\n        var tooltip_span = $('<span/>');\n        tooltip_span.addClass('ui-button-text');\n        tooltip_span.html(tooltip);\n\n        button.append(icon_img);\n        button.append(tooltip_span);\n\n        nav_element.append(button);\n    }\n\n    var fmt_picker_span = $('<span/>');\n\n    var fmt_picker = $('<select/>');\n    fmt_picker.addClass('mpl-toolbar-option ui-widget ui-widget-content');\n    fmt_picker_span.append(fmt_picker);\n    nav_element.append(fmt_picker_span);\n    this.format_dropdown = fmt_picker[0];\n\n    for (var ind in mpl.extensions) {\n        var fmt = mpl.extensions[ind];\n        var option = $(\n            '<option/>', {selected: fmt === mpl.default_extension}).html(fmt);\n        fmt_picker.append(option)\n    }\n\n    // Add hover states to the ui-buttons\n    $( \".ui-button\" ).hover(\n        function() { $(this).addClass(\"ui-state-hover\");},\n        function() { $(this).removeClass(\"ui-state-hover\");}\n    );\n\n    var status_bar = $('<span class=\"mpl-message\"/>');\n    nav_element.append(status_bar);\n    this.message = status_bar[0];\n}\n\nmpl.figure.prototype.request_resize = function(x_pixels, y_pixels) {\n    // Request matplotlib to resize the figure. Matplotlib will then trigger a resize in the client,\n    // which will in turn request a refresh of the image.\n    this.send_message('resize', {'width': x_pixels, 'height': y_pixels});\n}\n\nmpl.figure.prototype.send_message = function(type, properties) {\n    properties['type'] = type;\n    properties['figure_id'] = this.id;\n    this.ws.send(JSON.stringify(properties));\n}\n\nmpl.figure.prototype.send_draw_message = function() {\n    if (!this.waiting) {\n        this.waiting = true;\n        this.ws.send(JSON.stringify({type: \"draw\", figure_id: this.id}));\n    }\n}\n\n\nmpl.figure.prototype.handle_save = function(fig, msg) {\n    var format_dropdown = fig.format_dropdown;\n    var format = format_dropdown.options[format_dropdown.selectedIndex].value;\n    fig.ondownload(fig, format);\n}\n\n\nmpl.figure.prototype.handle_resize = function(fig, msg) {\n    var size = msg['size'];\n    if (size[0] != fig.canvas.width || size[1] != fig.canvas.height) {\n        fig._resize_canvas(size[0], size[1]);\n        fig.send_message(\"refresh\", {});\n    };\n}\n\nmpl.figure.prototype.handle_rubberband = function(fig, msg) {\n    var x0 = msg['x0'] / mpl.ratio;\n    var y0 = (fig.canvas.height - msg['y0']) / mpl.ratio;\n    var x1 = msg['x1'] / mpl.ratio;\n    var y1 = (fig.canvas.height - msg['y1']) / mpl.ratio;\n    x0 = Math.floor(x0) + 0.5;\n    y0 = Math.floor(y0) + 0.5;\n    x1 = Math.floor(x1) + 0.5;\n    y1 = Math.floor(y1) + 0.5;\n    var min_x = Math.min(x0, x1);\n    var min_y = Math.min(y0, y1);\n    var width = Math.abs(x1 - x0);\n    var height = Math.abs(y1 - y0);\n\n    fig.rubberband_context.clearRect(\n        0, 0, fig.canvas.width, fig.canvas.height);\n\n    fig.rubberband_context.strokeRect(min_x, min_y, width, height);\n}\n\nmpl.figure.prototype.handle_figure_label = function(fig, msg) {\n    // Updates the figure title.\n    fig.header.textContent = msg['label'];\n}\n\nmpl.figure.prototype.handle_cursor = function(fig, msg) {\n    var cursor = msg['cursor'];\n    switch(cursor)\n    {\n    case 0:\n        cursor = 'pointer';\n        break;\n    case 1:\n        cursor = 'default';\n        break;\n    case 2:\n        cursor = 'crosshair';\n        break;\n    case 3:\n        cursor = 'move';\n        break;\n    }\n    fig.rubberband_canvas.style.cursor = cursor;\n}\n\nmpl.figure.prototype.handle_message = function(fig, msg) {\n    fig.message.textContent = msg['message'];\n}\n\nmpl.figure.prototype.handle_draw = function(fig, msg) {\n    // Request the server to send over a new figure.\n    fig.send_draw_message();\n}\n\nmpl.figure.prototype.handle_image_mode = function(fig, msg) {\n    fig.image_mode = msg['mode'];\n}\n\nmpl.figure.prototype.updated_canvas_event = function() {\n    // Called whenever the canvas gets updated.\n    this.send_message(\"ack\", {});\n}\n\n// A function to construct a web socket function for onmessage handling.\n// Called in the figure constructor.\nmpl.figure.prototype._make_on_message_function = function(fig) {\n    return function socket_on_message(evt) {\n        if (evt.data instanceof Blob) {\n            /* FIXME: We get \"Resource interpreted as Image but\n             * transferred with MIME type text/plain:\" errors on\n             * Chrome.  But how to set the MIME type?  It doesn't seem\n             * to be part of the websocket stream */\n            evt.data.type = \"image/png\";\n\n            /* Free the memory for the previous frames */\n            if (fig.imageObj.src) {\n                (window.URL || window.webkitURL).revokeObjectURL(\n                    fig.imageObj.src);\n            }\n\n            fig.imageObj.src = (window.URL || window.webkitURL).createObjectURL(\n                evt.data);\n            fig.updated_canvas_event();\n            fig.waiting = false;\n            return;\n        }\n        else if (typeof evt.data === 'string' && evt.data.slice(0, 21) == \"data:image/png;base64\") {\n            fig.imageObj.src = evt.data;\n            fig.updated_canvas_event();\n            fig.waiting = false;\n            return;\n        }\n\n        var msg = JSON.parse(evt.data);\n        var msg_type = msg['type'];\n\n        // Call the  \"handle_{type}\" callback, which takes\n        // the figure and JSON message as its only arguments.\n        try {\n            var callback = fig[\"handle_\" + msg_type];\n        } catch (e) {\n            console.log(\"No handler for the '\" + msg_type + \"' message type: \", msg);\n            return;\n        }\n\n        if (callback) {\n            try {\n                // console.log(\"Handling '\" + msg_type + \"' message: \", msg);\n                callback(fig, msg);\n            } catch (e) {\n                console.log(\"Exception inside the 'handler_\" + msg_type + \"' callback:\", e, e.stack, msg);\n            }\n        }\n    };\n}\n\n// from http://stackoverflow.com/questions/1114465/getting-mouse-location-in-canvas\nmpl.findpos = function(e) {\n    //this section is from http://www.quirksmode.org/js/events_properties.html\n    var targ;\n    if (!e)\n        e = window.event;\n    if (e.target)\n        targ = e.target;\n    else if (e.srcElement)\n        targ = e.srcElement;\n    if (targ.nodeType == 3) // defeat Safari bug\n        targ = targ.parentNode;\n\n    // jQuery normalizes the pageX and pageY\n    // pageX,Y are the mouse positions relative to the document\n    // offset() returns the position of the element relative to the document\n    var x = e.pageX - $(targ).offset().left;\n    var y = e.pageY - $(targ).offset().top;\n\n    return {\"x\": x, \"y\": y};\n};\n\n/*\n * return a copy of an object with only non-object keys\n * we need this to avoid circular references\n * http://stackoverflow.com/a/24161582/3208463\n */\nfunction simpleKeys (original) {\n  return Object.keys(original).reduce(function (obj, key) {\n    if (typeof original[key] !== 'object')\n        obj[key] = original[key]\n    return obj;\n  }, {});\n}\n\nmpl.figure.prototype.mouse_event = function(event, name) {\n    var canvas_pos = mpl.findpos(event)\n\n    if (name === 'button_press')\n    {\n        this.canvas.focus();\n        this.canvas_div.focus();\n    }\n\n    var x = canvas_pos.x * mpl.ratio;\n    var y = canvas_pos.y * mpl.ratio;\n\n    this.send_message(name, {x: x, y: y, button: event.button,\n                             step: event.step,\n                             guiEvent: simpleKeys(event)});\n\n    /* This prevents the web browser from automatically changing to\n     * the text insertion cursor when the button is pressed.  We want\n     * to control all of the cursor setting manually through the\n     * 'cursor' event from matplotlib */\n    event.preventDefault();\n    return false;\n}\n\nmpl.figure.prototype._key_event_extra = function(event, name) {\n    // Handle any extra behaviour associated with a key event\n}\n\nmpl.figure.prototype.key_event = function(event, name) {\n\n    // Prevent repeat events\n    if (name == 'key_press')\n    {\n        if (event.which === this._key)\n            return;\n        else\n            this._key = event.which;\n    }\n    if (name == 'key_release')\n        this._key = null;\n\n    var value = '';\n    if (event.ctrlKey && event.which != 17)\n        value += \"ctrl+\";\n    if (event.altKey && event.which != 18)\n        value += \"alt+\";\n    if (event.shiftKey && event.which != 16)\n        value += \"shift+\";\n\n    value += 'k';\n    value += event.which.toString();\n\n    this._key_event_extra(event, name);\n\n    this.send_message(name, {key: value,\n                             guiEvent: simpleKeys(event)});\n    return false;\n}\n\nmpl.figure.prototype.toolbar_button_onclick = function(name) {\n    if (name == 'download') {\n        this.handle_save(this, null);\n    } else {\n        this.send_message(\"toolbar_button\", {name: name});\n    }\n};\n\nmpl.figure.prototype.toolbar_button_onmouseover = function(tooltip) {\n    this.message.textContent = tooltip;\n};\nmpl.toolbar_items = [[\"Home\", \"Reset original view\", \"fa fa-home icon-home\", \"home\"], [\"Back\", \"Back to  previous view\", \"fa fa-arrow-left icon-arrow-left\", \"back\"], [\"Forward\", \"Forward to next view\", \"fa fa-arrow-right icon-arrow-right\", \"forward\"], [\"\", \"\", \"\", \"\"], [\"Pan\", \"Pan axes with left mouse, zoom with right\", \"fa fa-arrows icon-move\", \"pan\"], [\"Zoom\", \"Zoom to rectangle\", \"fa fa-square-o icon-check-empty\", \"zoom\"], [\"\", \"\", \"\", \"\"], [\"Download\", \"Download plot\", \"fa fa-floppy-o icon-save\", \"download\"]];\n\nmpl.extensions = [\"eps\", \"jpeg\", \"pdf\", \"png\", \"ps\", \"raw\", \"svg\", \"tif\"];\n\nmpl.default_extension = \"png\";var comm_websocket_adapter = function(comm) {\n    // Create a \"websocket\"-like object which calls the given IPython comm\n    // object with the appropriate methods. Currently this is a non binary\n    // socket, so there is still some room for performance tuning.\n    var ws = {};\n\n    ws.close = function() {\n        comm.close()\n    };\n    ws.send = function(m) {\n        //console.log('sending', m);\n        comm.send(m);\n    };\n    // Register the callback with on_msg.\n    comm.on_msg(function(msg) {\n        //console.log('receiving', msg['content']['data'], msg);\n        // Pass the mpl event to the overridden (by mpl) onmessage function.\n        ws.onmessage(msg['content']['data'])\n    });\n    return ws;\n}\n\nmpl.mpl_figure_comm = function(comm, msg) {\n    // This is the function which gets called when the mpl process\n    // starts-up an IPython Comm through the \"matplotlib\" channel.\n\n    var id = msg.content.data.id;\n    // Get hold of the div created by the display call when the Comm\n    // socket was opened in Python.\n    var element = $(\"#\" + id);\n    var ws_proxy = comm_websocket_adapter(comm)\n\n    function ondownload(figure, format) {\n        window.open(figure.imageObj.src);\n    }\n\n    var fig = new mpl.figure(id, ws_proxy,\n                           ondownload,\n                           element.get(0));\n\n    // Call onopen now - mpl needs it, as it is assuming we've passed it a real\n    // web socket which is closed, not our websocket->open comm proxy.\n    ws_proxy.onopen();\n\n    fig.parent_element = element.get(0);\n    fig.cell_info = mpl.find_output_cell(\"<div id='\" + id + \"'></div>\");\n    if (!fig.cell_info) {\n        console.error(\"Failed to find cell for figure\", id, fig);\n        return;\n    }\n\n    var output_index = fig.cell_info[2]\n    var cell = fig.cell_info[0];\n\n};\n\nmpl.figure.prototype.handle_close = function(fig, msg) {\n    var width = fig.canvas.width/mpl.ratio\n    fig.root.unbind('remove')\n\n    // Update the output cell to use the data from the current canvas.\n    fig.push_to_output();\n    var dataURL = fig.canvas.toDataURL();\n    // Re-enable the keyboard manager in IPython - without this line, in FF,\n    // the notebook keyboard shortcuts fail.\n    IPython.keyboard_manager.enable()\n    $(fig.parent_element).html('<img src=\"' + dataURL + '\" width=\"' + width + '\">');\n    fig.close_ws(fig, msg);\n}\n\nmpl.figure.prototype.close_ws = function(fig, msg){\n    fig.send_message('closing', msg);\n    // fig.ws.close()\n}\n\nmpl.figure.prototype.push_to_output = function(remove_interactive) {\n    // Turn the data on the canvas into data in the output cell.\n    var width = this.canvas.width/mpl.ratio\n    var dataURL = this.canvas.toDataURL();\n    this.cell_info[1]['text/html'] = '<img src=\"' + dataURL + '\" width=\"' + width + '\">';\n}\n\nmpl.figure.prototype.updated_canvas_event = function() {\n    // Tell IPython that the notebook contents must change.\n    IPython.notebook.set_dirty(true);\n    this.send_message(\"ack\", {});\n    var fig = this;\n    // Wait a second, then push the new image to the DOM so\n    // that it is saved nicely (might be nice to debounce this).\n    setTimeout(function () { fig.push_to_output() }, 1000);\n}\n\nmpl.figure.prototype._init_toolbar = function() {\n    var fig = this;\n\n    var nav_element = $('<div/>')\n    nav_element.attr('style', 'width: 100%');\n    this.root.append(nav_element);\n\n    // Define a callback function for later on.\n    function toolbar_event(event) {\n        return fig.toolbar_button_onclick(event['data']);\n    }\n    function toolbar_mouse_event(event) {\n        return fig.toolbar_button_onmouseover(event['data']);\n    }\n\n    for(var toolbar_ind in mpl.toolbar_items){\n        var name = mpl.toolbar_items[toolbar_ind][0];\n        var tooltip = mpl.toolbar_items[toolbar_ind][1];\n        var image = mpl.toolbar_items[toolbar_ind][2];\n        var method_name = mpl.toolbar_items[toolbar_ind][3];\n\n        if (!name) { continue; };\n\n        var button = $('<button class=\"btn btn-default\" href=\"#\" title=\"' + name + '\"><i class=\"fa ' + image + ' fa-lg\"></i></button>');\n        button.click(method_name, toolbar_event);\n        button.mouseover(tooltip, toolbar_mouse_event);\n        nav_element.append(button);\n    }\n\n    // Add the status bar.\n    var status_bar = $('<span class=\"mpl-message\" style=\"text-align:right; float: right;\"/>');\n    nav_element.append(status_bar);\n    this.message = status_bar[0];\n\n    // Add the close button to the window.\n    var buttongrp = $('<div class=\"btn-group inline pull-right\"></div>');\n    var button = $('<button class=\"btn btn-mini btn-primary\" href=\"#\" title=\"Stop Interaction\"><i class=\"fa fa-power-off icon-remove icon-large\"></i></button>');\n    button.click(function (evt) { fig.handle_close(fig, {}); } );\n    button.mouseover('Stop Interaction', toolbar_mouse_event);\n    buttongrp.append(button);\n    var titlebar = this.root.find($('.ui-dialog-titlebar'));\n    titlebar.prepend(buttongrp);\n}\n\nmpl.figure.prototype._root_extra_style = function(el){\n    var fig = this\n    el.on(\"remove\", function(){\n\tfig.close_ws(fig, {});\n    });\n}\n\nmpl.figure.prototype._canvas_extra_style = function(el){\n    // this is important to make the div 'focusable\n    el.attr('tabindex', 0)\n    // reach out to IPython and tell the keyboard manager to turn it's self\n    // off when our div gets focus\n\n    // location in version 3\n    if (IPython.notebook.keyboard_manager) {\n        IPython.notebook.keyboard_manager.register_events(el);\n    }\n    else {\n        // location in version 2\n        IPython.keyboard_manager.register_events(el);\n    }\n\n}\n\nmpl.figure.prototype._key_event_extra = function(event, name) {\n    var manager = IPython.notebook.keyboard_manager;\n    if (!manager)\n        manager = IPython.keyboard_manager;\n\n    // Check for shift+enter\n    if (event.shiftKey && event.which == 13) {\n        this.canvas_div.blur();\n        event.shiftKey = false;\n        // Send a \"J\" for go to next cell\n        event.which = 74;\n        event.keyCode = 74;\n        manager.command_mode();\n        manager.handle_keydown(event);\n    }\n}\n\nmpl.figure.prototype.handle_save = function(fig, msg) {\n    fig.ondownload(fig, null);\n}\n\n\nmpl.find_output_cell = function(html_output) {\n    // Return the cell and output element which can be found *uniquely* in the notebook.\n    // Note - this is a bit hacky, but it is done because the \"notebook_saving.Notebook\"\n    // IPython event is triggered only after the cells have been serialised, which for\n    // our purposes (turning an active figure into a static one), is too late.\n    var cells = IPython.notebook.get_cells();\n    var ncells = cells.length;\n    for (var i=0; i<ncells; i++) {\n        var cell = cells[i];\n        if (cell.cell_type === 'code'){\n            for (var j=0; j<cell.output_area.outputs.length; j++) {\n                var data = cell.output_area.outputs[j];\n                if (data.data) {\n                    // IPython >= 3 moved mimebundle to data attribute of output\n                    data = data.data;\n                }\n                if (data['text/html'] == html_output) {\n                    return [cell, data, j];\n                }\n            }\n        }\n    }\n}\n\n// Register the function which deals with the matplotlib target/channel.\n// The kernel may be null if the page has been refreshed.\nif (IPython.notebook.kernel != null) {\n    IPython.notebook.kernel.comm_manager.register_target('matplotlib', mpl.mpl_figure_comm);\n}\n",
      "text/plain": [
       "<IPython.core.display.Javascript object>"
      ]
     },
     "metadata": {},
     "output_type": "display_data"
    },
    {
     "data": {
      "text/html": [
       "<div id='bd03594c-34d6-4ba2-b199-a4e2983db8b1'></div>"
      ],
      "text/plain": [
       "<IPython.core.display.HTML object>"
      ]
     },
     "metadata": {},
     "output_type": "display_data"
    }
   ],
   "source": [
    "# Encode sequence pairs with the 80 nt hybridization encoder\n",
    "val_seq_pairs = one_hot(np.stack([\n",
    "    encoder_80.predict(val_feat_pairs[:, 0, :]).argmax(-1),\n",
    "    encoder_80.predict(val_feat_pairs[:, 1, :]).argmax(-1),\n",
    "], axis=1)).astype(np.float32)\n",
    "    \n",
    "# compare false positive returns to true returns\n",
    "pairs_p = val_seq_pairs[val_truth > 0.5] #onehot vectors similar\n",
    "pairs_n = val_seq_pairs[val_truth < 0.5] #onehot vectors dissimilar\n",
    "\n",
    "# similar queries and targets\n",
    "query_features_p = seqtools.onehots_to_seqs(pairs_p[:, 0, :]) \n",
    "target_features_p = seqtools.onehots_to_seqs(pairs_p[:, 1, :])\n",
    "\n",
    "# dissimilar queries and targets\n",
    "query_features_n = seqtools.onehots_to_seqs(pairs_n[:, 0, :])\n",
    "target_features_n = seqtools.onehots_to_seqs(pairs_n[:, 1, :])\n",
    "\n",
    "Yp = simulator.simulate(pd.DataFrame({\n",
    "    'query_features': query_features_p,\n",
    "    'target_features': target_features_p,\n",
    "}))\n",
    "Yn = simulator.simulate(pd.DataFrame({\n",
    "    'query_features': query_features_n,\n",
    "    'target_features': target_features_n,\n",
    "}))\n",
    "\n",
    "Yp_yield = Yp['duplex_yield']\n",
    "Yn_yield = Yn['duplex_yield']\n",
    "\n",
    "threshold_data = [] \n",
    "recall_data = []\n",
    "false_positive_data = []\n",
    "\n",
    "thresholds=1-np.logspace(-14, 0, 100)\n",
    "for t in thresholds:\n",
    "    recall = (Yp_yield > t).mean()\n",
    "    false_positive = (Yn_yield > t).mean()\n",
    "    threshold_data.append(t)\n",
    "    recall_data.append(recall)\n",
    "    false_positive_data.append(false_positive)\n",
    "    \n",
    "plt.figure()   \n",
    "plt.scatter(false_positive_data, recall_data, c=threshold_data, cmap=plt.cm.viridis)\n",
    "plt.ylabel(\"Proportion Correctly Retrieved\")\n",
    "plt.xlabel(\"Proportion Falsely Retrieved\")\n",
    "plt.colorbar(label=\"Yield Threshold\")\n",
    "plt.title(\"80nt Hybridization Model\")\n",
    "plt.tight_layout()\n",
    "# plt.savefig('80_hyb_retrieval_random_pair_simulations.png', bbox_inches='tight', dpi=1000)\n",
    "plt.show()"
   ]
  },
  {
   "cell_type": "code",
   "execution_count": 9,
   "metadata": {},
   "outputs": [
    {
     "name": "stdout",
     "output_type": "stream",
     "text": [
      "[0.99999999999999, 0.9999999999999861, 0.9999999999999808, 0.9999999999999735, 0.9999999999999633, 0.999999999999949, 0.9999999999999295, 0.9999999999999023, 0.9999999999998647, 0.9999999999998126, 0.9999999999997405, 0.9999999999996406, 0.9999999999995023, 0.9999999999993108, 0.9999999999990454, 0.9999999999986781, 0.9999999999981692, 0.9999999999974646, 0.9999999999964888, 0.9999999999951374, 0.9999999999932658, 0.999999999990674, 0.9999999999870846, 0.9999999999821135, 0.9999999999752293, 0.9999999999656953, 0.9999999999524919, 0.9999999999342066, 0.9999999999088838, 0.9999999998738143, 0.9999999998252471, 0.9999999997579871, 0.9999999996648398, 0.9999999995358411, 0.9999999993571926, 0.9999999991097849, 0.9999999987671533, 0.9999999982926474, 0.9999999976355106, 0.9999999967254508, 0.9999999954651215, 0.9999999937197086, 0.9999999913025099, 0.9999999879549646, 0.9999999833189946, 0.999999976898703, 0.9999999680073286, 0.9999999556937854, 0.9999999386409273, 0.9999999150246565, 0.9999998823188048, 0.9999998370249166, 0.999999774298028, 0.999999687428415, 0.999999567123872, 0.9999994005157496, 0.9999991697824319, 0.9999988502430046, 0.9999984077172066, 0.9999977948692601, 0.9999969461444912, 0.9999957707571256, 0.999994142979182, 0.9999918886916921, 0.9999887667596702, 0.9999844432385607, 0.9999784556530997, 0.9999701635275972, 0.9999586798759988, 0.9999427763234064, 0.9999207517101646, 0.9998902501234507, 0.9998480088917047, 0.9997895095855488, 0.9997084946937175, 0.9995962982741403, 0.9994409189817488, 0.9992257363173189, 0.9989277327779896, 0.9985150317377456, 0.9979434876916513, 0.9971519641315643, 0.9960557939405623, 0.9945377227823157, 0.9924353667244538, 0.9895238424721033, 0.9854917122150406, 0.9799076699743495, 0.9721744059779287, 0.9614647140628948, 0.946633007687937, 0.9260927796647422, 0.8976468978100973, 0.8582525837073198, 0.8036959349959731, 0.728141175726706, 0.6235064193207545, 0.4785991712000326, 0.2779190981614543, 0.0]\n"
     ]
    }
   ],
   "source": [
    "print list(thresholds)"
   ]
  },
  {
   "cell_type": "code",
   "execution_count": 10,
   "metadata": {},
   "outputs": [
    {
     "name": "stdout",
     "output_type": "stream",
     "text": [
      "[0.004521085060414499, 0.004521085060414499, 0.004521085060414499, 0.004521085060414499, 0.004521085060414499, 0.004521085060414499, 0.004521085060414499, 0.004521085060414499, 0.004521085060414499, 0.004641113867328159, 0.004641113867328159, 0.004761142674241818, 0.0048811714811554776, 0.005001200288069136, 0.0050812194926782425, 0.0053212771065055614, 0.005401296311114668, 0.005721373129551092, 0.005881411538769305, 0.006121469152596623, 0.006361526766423942, 0.00660158438025126, 0.0067616227894694726, 0.006921661198687685, 0.007041690005601345, 0.00724173801712411, 0.007321757221733216, 0.007561814835560535, 0.00788189165399696, 0.008081939665519724, 0.00840201648395615, 0.00868208370008802, 0.009122189325438105, 0.009642314155397295, 0.00996239097383372, 0.010362486996879252, 0.011042650236056653, 0.011402736656797632, 0.011922861486756822, 0.012402976714411458, 0.012723053532847884, 0.013283187965111626, 0.014043370408898135, 0.014723533648075538, 0.015483716091862047, 0.016123869728734898, 0.016924061774825958, 0.017804273025526125, 0.018804513083139955, 0.019604705129231015, 0.02068496439145395, 0.02160518524445867, 0.022565415699767943, 0.02344562695046811, 0.024525886212691046, 0.025406097463391213, 0.026206289509482276, 0.027766663999359845, 0.02896695206849644, 0.030407297751460352, 0.03184764343442426, 0.033568056333520044, 0.035288469232615825, 0.03716892054092982, 0.039169400656157476, 0.041249899975994236, 0.04349043770504921, 0.04593102344562695, 0.047811474753940944, 0.050532127710650555, 0.052972713451228295, 0.05549331839641514, 0.05873409618308394, 0.061894854765143635, 0.06557573817716252, 0.06933664079379051, 0.0730175242058094, 0.07613827318556454, 0.0802592622229335, 0.08514043370408898, 0.09026166279907177, 0.0951028246779227, 0.10134432263743298, 0.10654557093702488, 0.11334720332879891, 0.12046891253900936, 0.1278706889653517, 0.1358726094262623, 0.14419460670560935, 0.1546371129070977, 0.164279427062495, 0.17456189485476514, 0.18532447787468992, 0.19760742578218773, 0.20981035448507643, 0.22445386892854285, 0.24209810354485076, 0.2638633271985276, 0.29711130671361125, 1.0]\n"
     ]
    }
   ],
   "source": [
    "print false_positive_data"
   ]
  },
  {
   "cell_type": "code",
   "execution_count": 11,
   "metadata": {},
   "outputs": [
    {
     "name": "stdout",
     "output_type": "stream",
     "text": [
      "[0.3416380068783492, 0.3416380068783492, 0.341797968487563, 0.341797968487563, 0.3422378629129009, 0.34227785331520433, 0.34283771894745263, 0.3432376229704871, 0.34371750779812843, 0.3451171718787491, 0.3465168359593698, 0.34787650963768696, 0.349756058545949, 0.35259537710949374, 0.3554346956730385, 0.3583539950411901, 0.36263296808765894, 0.36739182596176917, 0.3725505878589139, 0.3791889946412861, 0.3856674398144445, 0.3927457410221547, 0.3988642725745821, 0.4058226025753819, 0.4129408941853955, 0.4206190514276574, 0.4279372950491882, 0.43533551947532595, 0.44197392625769816, 0.4502519395345117, 0.4582900103975046, 0.465928177237463, 0.4732864112612973, 0.4812045109173798, 0.48848276413660724, 0.4972806526433656, 0.5053587139086619, 0.5126769575301927, 0.5195553067263856, 0.5277133487962888, 0.5343917459809646, 0.5432296248900264, 0.5508278013276814, 0.5579460929376949, 0.5656242501799568, 0.5738622730544669, 0.5813404782852115, 0.588898664320563, 0.5965768215628249, 0.604814844437335, 0.6125329920819004, 0.6202911301287691, 0.6286491242101896, 0.6367271854754859, 0.6443253619131408, 0.65104374950012, 0.6591218107654163, 0.6666400063984643, 0.6745980964568503, 0.6833959849636088, 0.691554027033512, 0.6988322802527394, 0.7055906582420219, 0.7139486523234424, 0.7213468767495801, 0.7292649764056627, 0.7373030472686555, 0.7441014156602416, 0.7513796688794689, 0.7585779412940894, 0.7656562425017995, 0.7727745341118132, 0.7804926817563784, 0.7873310405502679, 0.7936495241142126, 0.8004478925057986, 0.8072062704950812, 0.8135247540590258, 0.8202831320483084, 0.8278013276813565, 0.8347196672798528, 0.8428377189474526, 0.8493561545229145, 0.8558745900983764, 0.862193073662321, 0.8680716628009277, 0.8741901943533552, 0.8804686875149964, 0.8866272094697273, 0.8929456930336719, 0.898584339758458, 0.9033831880348716, 0.9091817963688714, 0.9141406062544989, 0.9190994161401264, 0.924338158841878, 0.930336719187395, 0.9375349916020155, 0.9458529952811325, 1.0]\n"
     ]
    }
   ],
   "source": [
    "print recall_data"
   ]
  },
  {
   "cell_type": "markdown",
   "metadata": {},
   "source": [
    "#### 20 nt encoder "
   ]
  },
  {
   "cell_type": "code",
   "execution_count": 12,
   "metadata": {},
   "outputs": [
    {
     "data": {
      "application/javascript": "/* Put everything inside the global mpl namespace */\nwindow.mpl = {};\n\n\nmpl.get_websocket_type = function() {\n    if (typeof(WebSocket) !== 'undefined') {\n        return WebSocket;\n    } else if (typeof(MozWebSocket) !== 'undefined') {\n        return MozWebSocket;\n    } else {\n        alert('Your browser does not have WebSocket support.' +\n              'Please try Chrome, Safari or Firefox ≥ 6. ' +\n              'Firefox 4 and 5 are also supported but you ' +\n              'have to enable WebSockets in about:config.');\n    };\n}\n\nmpl.figure = function(figure_id, websocket, ondownload, parent_element) {\n    this.id = figure_id;\n\n    this.ws = websocket;\n\n    this.supports_binary = (this.ws.binaryType != undefined);\n\n    if (!this.supports_binary) {\n        var warnings = document.getElementById(\"mpl-warnings\");\n        if (warnings) {\n            warnings.style.display = 'block';\n            warnings.textContent = (\n                \"This browser does not support binary websocket messages. \" +\n                    \"Performance may be slow.\");\n        }\n    }\n\n    this.imageObj = new Image();\n\n    this.context = undefined;\n    this.message = undefined;\n    this.canvas = undefined;\n    this.rubberband_canvas = undefined;\n    this.rubberband_context = undefined;\n    this.format_dropdown = undefined;\n\n    this.image_mode = 'full';\n\n    this.root = $('<div/>');\n    this._root_extra_style(this.root)\n    this.root.attr('style', 'display: inline-block');\n\n    $(parent_element).append(this.root);\n\n    this._init_header(this);\n    this._init_canvas(this);\n    this._init_toolbar(this);\n\n    var fig = this;\n\n    this.waiting = false;\n\n    this.ws.onopen =  function () {\n            fig.send_message(\"supports_binary\", {value: fig.supports_binary});\n            fig.send_message(\"send_image_mode\", {});\n            if (mpl.ratio != 1) {\n                fig.send_message(\"set_dpi_ratio\", {'dpi_ratio': mpl.ratio});\n            }\n            fig.send_message(\"refresh\", {});\n        }\n\n    this.imageObj.onload = function() {\n            if (fig.image_mode == 'full') {\n                // Full images could contain transparency (where diff images\n                // almost always do), so we need to clear the canvas so that\n                // there is no ghosting.\n                fig.context.clearRect(0, 0, fig.canvas.width, fig.canvas.height);\n            }\n            fig.context.drawImage(fig.imageObj, 0, 0);\n        };\n\n    this.imageObj.onunload = function() {\n        fig.ws.close();\n    }\n\n    this.ws.onmessage = this._make_on_message_function(this);\n\n    this.ondownload = ondownload;\n}\n\nmpl.figure.prototype._init_header = function() {\n    var titlebar = $(\n        '<div class=\"ui-dialog-titlebar ui-widget-header ui-corner-all ' +\n        'ui-helper-clearfix\"/>');\n    var titletext = $(\n        '<div class=\"ui-dialog-title\" style=\"width: 100%; ' +\n        'text-align: center; padding: 3px;\"/>');\n    titlebar.append(titletext)\n    this.root.append(titlebar);\n    this.header = titletext[0];\n}\n\n\n\nmpl.figure.prototype._canvas_extra_style = function(canvas_div) {\n\n}\n\n\nmpl.figure.prototype._root_extra_style = function(canvas_div) {\n\n}\n\nmpl.figure.prototype._init_canvas = function() {\n    var fig = this;\n\n    var canvas_div = $('<div/>');\n\n    canvas_div.attr('style', 'position: relative; clear: both; outline: 0');\n\n    function canvas_keyboard_event(event) {\n        return fig.key_event(event, event['data']);\n    }\n\n    canvas_div.keydown('key_press', canvas_keyboard_event);\n    canvas_div.keyup('key_release', canvas_keyboard_event);\n    this.canvas_div = canvas_div\n    this._canvas_extra_style(canvas_div)\n    this.root.append(canvas_div);\n\n    var canvas = $('<canvas/>');\n    canvas.addClass('mpl-canvas');\n    canvas.attr('style', \"left: 0; top: 0; z-index: 0; outline: 0\")\n\n    this.canvas = canvas[0];\n    this.context = canvas[0].getContext(\"2d\");\n\n    var backingStore = this.context.backingStorePixelRatio ||\n\tthis.context.webkitBackingStorePixelRatio ||\n\tthis.context.mozBackingStorePixelRatio ||\n\tthis.context.msBackingStorePixelRatio ||\n\tthis.context.oBackingStorePixelRatio ||\n\tthis.context.backingStorePixelRatio || 1;\n\n    mpl.ratio = (window.devicePixelRatio || 1) / backingStore;\n\n    var rubberband = $('<canvas/>');\n    rubberband.attr('style', \"position: absolute; left: 0; top: 0; z-index: 1;\")\n\n    var pass_mouse_events = true;\n\n    canvas_div.resizable({\n        start: function(event, ui) {\n            pass_mouse_events = false;\n        },\n        resize: function(event, ui) {\n            fig.request_resize(ui.size.width, ui.size.height);\n        },\n        stop: function(event, ui) {\n            pass_mouse_events = true;\n            fig.request_resize(ui.size.width, ui.size.height);\n        },\n    });\n\n    function mouse_event_fn(event) {\n        if (pass_mouse_events)\n            return fig.mouse_event(event, event['data']);\n    }\n\n    rubberband.mousedown('button_press', mouse_event_fn);\n    rubberband.mouseup('button_release', mouse_event_fn);\n    // Throttle sequential mouse events to 1 every 20ms.\n    rubberband.mousemove('motion_notify', mouse_event_fn);\n\n    rubberband.mouseenter('figure_enter', mouse_event_fn);\n    rubberband.mouseleave('figure_leave', mouse_event_fn);\n\n    canvas_div.on(\"wheel\", function (event) {\n        event = event.originalEvent;\n        event['data'] = 'scroll'\n        if (event.deltaY < 0) {\n            event.step = 1;\n        } else {\n            event.step = -1;\n        }\n        mouse_event_fn(event);\n    });\n\n    canvas_div.append(canvas);\n    canvas_div.append(rubberband);\n\n    this.rubberband = rubberband;\n    this.rubberband_canvas = rubberband[0];\n    this.rubberband_context = rubberband[0].getContext(\"2d\");\n    this.rubberband_context.strokeStyle = \"#000000\";\n\n    this._resize_canvas = function(width, height) {\n        // Keep the size of the canvas, canvas container, and rubber band\n        // canvas in synch.\n        canvas_div.css('width', width)\n        canvas_div.css('height', height)\n\n        canvas.attr('width', width * mpl.ratio);\n        canvas.attr('height', height * mpl.ratio);\n        canvas.attr('style', 'width: ' + width + 'px; height: ' + height + 'px;');\n\n        rubberband.attr('width', width);\n        rubberband.attr('height', height);\n    }\n\n    // Set the figure to an initial 600x600px, this will subsequently be updated\n    // upon first draw.\n    this._resize_canvas(600, 600);\n\n    // Disable right mouse context menu.\n    $(this.rubberband_canvas).bind(\"contextmenu\",function(e){\n        return false;\n    });\n\n    function set_focus () {\n        canvas.focus();\n        canvas_div.focus();\n    }\n\n    window.setTimeout(set_focus, 100);\n}\n\nmpl.figure.prototype._init_toolbar = function() {\n    var fig = this;\n\n    var nav_element = $('<div/>')\n    nav_element.attr('style', 'width: 100%');\n    this.root.append(nav_element);\n\n    // Define a callback function for later on.\n    function toolbar_event(event) {\n        return fig.toolbar_button_onclick(event['data']);\n    }\n    function toolbar_mouse_event(event) {\n        return fig.toolbar_button_onmouseover(event['data']);\n    }\n\n    for(var toolbar_ind in mpl.toolbar_items) {\n        var name = mpl.toolbar_items[toolbar_ind][0];\n        var tooltip = mpl.toolbar_items[toolbar_ind][1];\n        var image = mpl.toolbar_items[toolbar_ind][2];\n        var method_name = mpl.toolbar_items[toolbar_ind][3];\n\n        if (!name) {\n            // put a spacer in here.\n            continue;\n        }\n        var button = $('<button/>');\n        button.addClass('ui-button ui-widget ui-state-default ui-corner-all ' +\n                        'ui-button-icon-only');\n        button.attr('role', 'button');\n        button.attr('aria-disabled', 'false');\n        button.click(method_name, toolbar_event);\n        button.mouseover(tooltip, toolbar_mouse_event);\n\n        var icon_img = $('<span/>');\n        icon_img.addClass('ui-button-icon-primary ui-icon');\n        icon_img.addClass(image);\n        icon_img.addClass('ui-corner-all');\n\n        var tooltip_span = $('<span/>');\n        tooltip_span.addClass('ui-button-text');\n        tooltip_span.html(tooltip);\n\n        button.append(icon_img);\n        button.append(tooltip_span);\n\n        nav_element.append(button);\n    }\n\n    var fmt_picker_span = $('<span/>');\n\n    var fmt_picker = $('<select/>');\n    fmt_picker.addClass('mpl-toolbar-option ui-widget ui-widget-content');\n    fmt_picker_span.append(fmt_picker);\n    nav_element.append(fmt_picker_span);\n    this.format_dropdown = fmt_picker[0];\n\n    for (var ind in mpl.extensions) {\n        var fmt = mpl.extensions[ind];\n        var option = $(\n            '<option/>', {selected: fmt === mpl.default_extension}).html(fmt);\n        fmt_picker.append(option)\n    }\n\n    // Add hover states to the ui-buttons\n    $( \".ui-button\" ).hover(\n        function() { $(this).addClass(\"ui-state-hover\");},\n        function() { $(this).removeClass(\"ui-state-hover\");}\n    );\n\n    var status_bar = $('<span class=\"mpl-message\"/>');\n    nav_element.append(status_bar);\n    this.message = status_bar[0];\n}\n\nmpl.figure.prototype.request_resize = function(x_pixels, y_pixels) {\n    // Request matplotlib to resize the figure. Matplotlib will then trigger a resize in the client,\n    // which will in turn request a refresh of the image.\n    this.send_message('resize', {'width': x_pixels, 'height': y_pixels});\n}\n\nmpl.figure.prototype.send_message = function(type, properties) {\n    properties['type'] = type;\n    properties['figure_id'] = this.id;\n    this.ws.send(JSON.stringify(properties));\n}\n\nmpl.figure.prototype.send_draw_message = function() {\n    if (!this.waiting) {\n        this.waiting = true;\n        this.ws.send(JSON.stringify({type: \"draw\", figure_id: this.id}));\n    }\n}\n\n\nmpl.figure.prototype.handle_save = function(fig, msg) {\n    var format_dropdown = fig.format_dropdown;\n    var format = format_dropdown.options[format_dropdown.selectedIndex].value;\n    fig.ondownload(fig, format);\n}\n\n\nmpl.figure.prototype.handle_resize = function(fig, msg) {\n    var size = msg['size'];\n    if (size[0] != fig.canvas.width || size[1] != fig.canvas.height) {\n        fig._resize_canvas(size[0], size[1]);\n        fig.send_message(\"refresh\", {});\n    };\n}\n\nmpl.figure.prototype.handle_rubberband = function(fig, msg) {\n    var x0 = msg['x0'] / mpl.ratio;\n    var y0 = (fig.canvas.height - msg['y0']) / mpl.ratio;\n    var x1 = msg['x1'] / mpl.ratio;\n    var y1 = (fig.canvas.height - msg['y1']) / mpl.ratio;\n    x0 = Math.floor(x0) + 0.5;\n    y0 = Math.floor(y0) + 0.5;\n    x1 = Math.floor(x1) + 0.5;\n    y1 = Math.floor(y1) + 0.5;\n    var min_x = Math.min(x0, x1);\n    var min_y = Math.min(y0, y1);\n    var width = Math.abs(x1 - x0);\n    var height = Math.abs(y1 - y0);\n\n    fig.rubberband_context.clearRect(\n        0, 0, fig.canvas.width, fig.canvas.height);\n\n    fig.rubberband_context.strokeRect(min_x, min_y, width, height);\n}\n\nmpl.figure.prototype.handle_figure_label = function(fig, msg) {\n    // Updates the figure title.\n    fig.header.textContent = msg['label'];\n}\n\nmpl.figure.prototype.handle_cursor = function(fig, msg) {\n    var cursor = msg['cursor'];\n    switch(cursor)\n    {\n    case 0:\n        cursor = 'pointer';\n        break;\n    case 1:\n        cursor = 'default';\n        break;\n    case 2:\n        cursor = 'crosshair';\n        break;\n    case 3:\n        cursor = 'move';\n        break;\n    }\n    fig.rubberband_canvas.style.cursor = cursor;\n}\n\nmpl.figure.prototype.handle_message = function(fig, msg) {\n    fig.message.textContent = msg['message'];\n}\n\nmpl.figure.prototype.handle_draw = function(fig, msg) {\n    // Request the server to send over a new figure.\n    fig.send_draw_message();\n}\n\nmpl.figure.prototype.handle_image_mode = function(fig, msg) {\n    fig.image_mode = msg['mode'];\n}\n\nmpl.figure.prototype.updated_canvas_event = function() {\n    // Called whenever the canvas gets updated.\n    this.send_message(\"ack\", {});\n}\n\n// A function to construct a web socket function for onmessage handling.\n// Called in the figure constructor.\nmpl.figure.prototype._make_on_message_function = function(fig) {\n    return function socket_on_message(evt) {\n        if (evt.data instanceof Blob) {\n            /* FIXME: We get \"Resource interpreted as Image but\n             * transferred with MIME type text/plain:\" errors on\n             * Chrome.  But how to set the MIME type?  It doesn't seem\n             * to be part of the websocket stream */\n            evt.data.type = \"image/png\";\n\n            /* Free the memory for the previous frames */\n            if (fig.imageObj.src) {\n                (window.URL || window.webkitURL).revokeObjectURL(\n                    fig.imageObj.src);\n            }\n\n            fig.imageObj.src = (window.URL || window.webkitURL).createObjectURL(\n                evt.data);\n            fig.updated_canvas_event();\n            fig.waiting = false;\n            return;\n        }\n        else if (typeof evt.data === 'string' && evt.data.slice(0, 21) == \"data:image/png;base64\") {\n            fig.imageObj.src = evt.data;\n            fig.updated_canvas_event();\n            fig.waiting = false;\n            return;\n        }\n\n        var msg = JSON.parse(evt.data);\n        var msg_type = msg['type'];\n\n        // Call the  \"handle_{type}\" callback, which takes\n        // the figure and JSON message as its only arguments.\n        try {\n            var callback = fig[\"handle_\" + msg_type];\n        } catch (e) {\n            console.log(\"No handler for the '\" + msg_type + \"' message type: \", msg);\n            return;\n        }\n\n        if (callback) {\n            try {\n                // console.log(\"Handling '\" + msg_type + \"' message: \", msg);\n                callback(fig, msg);\n            } catch (e) {\n                console.log(\"Exception inside the 'handler_\" + msg_type + \"' callback:\", e, e.stack, msg);\n            }\n        }\n    };\n}\n\n// from http://stackoverflow.com/questions/1114465/getting-mouse-location-in-canvas\nmpl.findpos = function(e) {\n    //this section is from http://www.quirksmode.org/js/events_properties.html\n    var targ;\n    if (!e)\n        e = window.event;\n    if (e.target)\n        targ = e.target;\n    else if (e.srcElement)\n        targ = e.srcElement;\n    if (targ.nodeType == 3) // defeat Safari bug\n        targ = targ.parentNode;\n\n    // jQuery normalizes the pageX and pageY\n    // pageX,Y are the mouse positions relative to the document\n    // offset() returns the position of the element relative to the document\n    var x = e.pageX - $(targ).offset().left;\n    var y = e.pageY - $(targ).offset().top;\n\n    return {\"x\": x, \"y\": y};\n};\n\n/*\n * return a copy of an object with only non-object keys\n * we need this to avoid circular references\n * http://stackoverflow.com/a/24161582/3208463\n */\nfunction simpleKeys (original) {\n  return Object.keys(original).reduce(function (obj, key) {\n    if (typeof original[key] !== 'object')\n        obj[key] = original[key]\n    return obj;\n  }, {});\n}\n\nmpl.figure.prototype.mouse_event = function(event, name) {\n    var canvas_pos = mpl.findpos(event)\n\n    if (name === 'button_press')\n    {\n        this.canvas.focus();\n        this.canvas_div.focus();\n    }\n\n    var x = canvas_pos.x * mpl.ratio;\n    var y = canvas_pos.y * mpl.ratio;\n\n    this.send_message(name, {x: x, y: y, button: event.button,\n                             step: event.step,\n                             guiEvent: simpleKeys(event)});\n\n    /* This prevents the web browser from automatically changing to\n     * the text insertion cursor when the button is pressed.  We want\n     * to control all of the cursor setting manually through the\n     * 'cursor' event from matplotlib */\n    event.preventDefault();\n    return false;\n}\n\nmpl.figure.prototype._key_event_extra = function(event, name) {\n    // Handle any extra behaviour associated with a key event\n}\n\nmpl.figure.prototype.key_event = function(event, name) {\n\n    // Prevent repeat events\n    if (name == 'key_press')\n    {\n        if (event.which === this._key)\n            return;\n        else\n            this._key = event.which;\n    }\n    if (name == 'key_release')\n        this._key = null;\n\n    var value = '';\n    if (event.ctrlKey && event.which != 17)\n        value += \"ctrl+\";\n    if (event.altKey && event.which != 18)\n        value += \"alt+\";\n    if (event.shiftKey && event.which != 16)\n        value += \"shift+\";\n\n    value += 'k';\n    value += event.which.toString();\n\n    this._key_event_extra(event, name);\n\n    this.send_message(name, {key: value,\n                             guiEvent: simpleKeys(event)});\n    return false;\n}\n\nmpl.figure.prototype.toolbar_button_onclick = function(name) {\n    if (name == 'download') {\n        this.handle_save(this, null);\n    } else {\n        this.send_message(\"toolbar_button\", {name: name});\n    }\n};\n\nmpl.figure.prototype.toolbar_button_onmouseover = function(tooltip) {\n    this.message.textContent = tooltip;\n};\nmpl.toolbar_items = [[\"Home\", \"Reset original view\", \"fa fa-home icon-home\", \"home\"], [\"Back\", \"Back to  previous view\", \"fa fa-arrow-left icon-arrow-left\", \"back\"], [\"Forward\", \"Forward to next view\", \"fa fa-arrow-right icon-arrow-right\", \"forward\"], [\"\", \"\", \"\", \"\"], [\"Pan\", \"Pan axes with left mouse, zoom with right\", \"fa fa-arrows icon-move\", \"pan\"], [\"Zoom\", \"Zoom to rectangle\", \"fa fa-square-o icon-check-empty\", \"zoom\"], [\"\", \"\", \"\", \"\"], [\"Download\", \"Download plot\", \"fa fa-floppy-o icon-save\", \"download\"]];\n\nmpl.extensions = [\"eps\", \"jpeg\", \"pdf\", \"png\", \"ps\", \"raw\", \"svg\", \"tif\"];\n\nmpl.default_extension = \"png\";var comm_websocket_adapter = function(comm) {\n    // Create a \"websocket\"-like object which calls the given IPython comm\n    // object with the appropriate methods. Currently this is a non binary\n    // socket, so there is still some room for performance tuning.\n    var ws = {};\n\n    ws.close = function() {\n        comm.close()\n    };\n    ws.send = function(m) {\n        //console.log('sending', m);\n        comm.send(m);\n    };\n    // Register the callback with on_msg.\n    comm.on_msg(function(msg) {\n        //console.log('receiving', msg['content']['data'], msg);\n        // Pass the mpl event to the overridden (by mpl) onmessage function.\n        ws.onmessage(msg['content']['data'])\n    });\n    return ws;\n}\n\nmpl.mpl_figure_comm = function(comm, msg) {\n    // This is the function which gets called when the mpl process\n    // starts-up an IPython Comm through the \"matplotlib\" channel.\n\n    var id = msg.content.data.id;\n    // Get hold of the div created by the display call when the Comm\n    // socket was opened in Python.\n    var element = $(\"#\" + id);\n    var ws_proxy = comm_websocket_adapter(comm)\n\n    function ondownload(figure, format) {\n        window.open(figure.imageObj.src);\n    }\n\n    var fig = new mpl.figure(id, ws_proxy,\n                           ondownload,\n                           element.get(0));\n\n    // Call onopen now - mpl needs it, as it is assuming we've passed it a real\n    // web socket which is closed, not our websocket->open comm proxy.\n    ws_proxy.onopen();\n\n    fig.parent_element = element.get(0);\n    fig.cell_info = mpl.find_output_cell(\"<div id='\" + id + \"'></div>\");\n    if (!fig.cell_info) {\n        console.error(\"Failed to find cell for figure\", id, fig);\n        return;\n    }\n\n    var output_index = fig.cell_info[2]\n    var cell = fig.cell_info[0];\n\n};\n\nmpl.figure.prototype.handle_close = function(fig, msg) {\n    var width = fig.canvas.width/mpl.ratio\n    fig.root.unbind('remove')\n\n    // Update the output cell to use the data from the current canvas.\n    fig.push_to_output();\n    var dataURL = fig.canvas.toDataURL();\n    // Re-enable the keyboard manager in IPython - without this line, in FF,\n    // the notebook keyboard shortcuts fail.\n    IPython.keyboard_manager.enable()\n    $(fig.parent_element).html('<img src=\"' + dataURL + '\" width=\"' + width + '\">');\n    fig.close_ws(fig, msg);\n}\n\nmpl.figure.prototype.close_ws = function(fig, msg){\n    fig.send_message('closing', msg);\n    // fig.ws.close()\n}\n\nmpl.figure.prototype.push_to_output = function(remove_interactive) {\n    // Turn the data on the canvas into data in the output cell.\n    var width = this.canvas.width/mpl.ratio\n    var dataURL = this.canvas.toDataURL();\n    this.cell_info[1]['text/html'] = '<img src=\"' + dataURL + '\" width=\"' + width + '\">';\n}\n\nmpl.figure.prototype.updated_canvas_event = function() {\n    // Tell IPython that the notebook contents must change.\n    IPython.notebook.set_dirty(true);\n    this.send_message(\"ack\", {});\n    var fig = this;\n    // Wait a second, then push the new image to the DOM so\n    // that it is saved nicely (might be nice to debounce this).\n    setTimeout(function () { fig.push_to_output() }, 1000);\n}\n\nmpl.figure.prototype._init_toolbar = function() {\n    var fig = this;\n\n    var nav_element = $('<div/>')\n    nav_element.attr('style', 'width: 100%');\n    this.root.append(nav_element);\n\n    // Define a callback function for later on.\n    function toolbar_event(event) {\n        return fig.toolbar_button_onclick(event['data']);\n    }\n    function toolbar_mouse_event(event) {\n        return fig.toolbar_button_onmouseover(event['data']);\n    }\n\n    for(var toolbar_ind in mpl.toolbar_items){\n        var name = mpl.toolbar_items[toolbar_ind][0];\n        var tooltip = mpl.toolbar_items[toolbar_ind][1];\n        var image = mpl.toolbar_items[toolbar_ind][2];\n        var method_name = mpl.toolbar_items[toolbar_ind][3];\n\n        if (!name) { continue; };\n\n        var button = $('<button class=\"btn btn-default\" href=\"#\" title=\"' + name + '\"><i class=\"fa ' + image + ' fa-lg\"></i></button>');\n        button.click(method_name, toolbar_event);\n        button.mouseover(tooltip, toolbar_mouse_event);\n        nav_element.append(button);\n    }\n\n    // Add the status bar.\n    var status_bar = $('<span class=\"mpl-message\" style=\"text-align:right; float: right;\"/>');\n    nav_element.append(status_bar);\n    this.message = status_bar[0];\n\n    // Add the close button to the window.\n    var buttongrp = $('<div class=\"btn-group inline pull-right\"></div>');\n    var button = $('<button class=\"btn btn-mini btn-primary\" href=\"#\" title=\"Stop Interaction\"><i class=\"fa fa-power-off icon-remove icon-large\"></i></button>');\n    button.click(function (evt) { fig.handle_close(fig, {}); } );\n    button.mouseover('Stop Interaction', toolbar_mouse_event);\n    buttongrp.append(button);\n    var titlebar = this.root.find($('.ui-dialog-titlebar'));\n    titlebar.prepend(buttongrp);\n}\n\nmpl.figure.prototype._root_extra_style = function(el){\n    var fig = this\n    el.on(\"remove\", function(){\n\tfig.close_ws(fig, {});\n    });\n}\n\nmpl.figure.prototype._canvas_extra_style = function(el){\n    // this is important to make the div 'focusable\n    el.attr('tabindex', 0)\n    // reach out to IPython and tell the keyboard manager to turn it's self\n    // off when our div gets focus\n\n    // location in version 3\n    if (IPython.notebook.keyboard_manager) {\n        IPython.notebook.keyboard_manager.register_events(el);\n    }\n    else {\n        // location in version 2\n        IPython.keyboard_manager.register_events(el);\n    }\n\n}\n\nmpl.figure.prototype._key_event_extra = function(event, name) {\n    var manager = IPython.notebook.keyboard_manager;\n    if (!manager)\n        manager = IPython.keyboard_manager;\n\n    // Check for shift+enter\n    if (event.shiftKey && event.which == 13) {\n        this.canvas_div.blur();\n        event.shiftKey = false;\n        // Send a \"J\" for go to next cell\n        event.which = 74;\n        event.keyCode = 74;\n        manager.command_mode();\n        manager.handle_keydown(event);\n    }\n}\n\nmpl.figure.prototype.handle_save = function(fig, msg) {\n    fig.ondownload(fig, null);\n}\n\n\nmpl.find_output_cell = function(html_output) {\n    // Return the cell and output element which can be found *uniquely* in the notebook.\n    // Note - this is a bit hacky, but it is done because the \"notebook_saving.Notebook\"\n    // IPython event is triggered only after the cells have been serialised, which for\n    // our purposes (turning an active figure into a static one), is too late.\n    var cells = IPython.notebook.get_cells();\n    var ncells = cells.length;\n    for (var i=0; i<ncells; i++) {\n        var cell = cells[i];\n        if (cell.cell_type === 'code'){\n            for (var j=0; j<cell.output_area.outputs.length; j++) {\n                var data = cell.output_area.outputs[j];\n                if (data.data) {\n                    // IPython >= 3 moved mimebundle to data attribute of output\n                    data = data.data;\n                }\n                if (data['text/html'] == html_output) {\n                    return [cell, data, j];\n                }\n            }\n        }\n    }\n}\n\n// Register the function which deals with the matplotlib target/channel.\n// The kernel may be null if the page has been refreshed.\nif (IPython.notebook.kernel != null) {\n    IPython.notebook.kernel.comm_manager.register_target('matplotlib', mpl.mpl_figure_comm);\n}\n",
      "text/plain": [
       "<IPython.core.display.Javascript object>"
      ]
     },
     "metadata": {},
     "output_type": "display_data"
    },
    {
     "data": {
      "text/html": [
       "<div id='c750cecf-be4b-4573-90e5-ace4146b1607'></div>"
      ],
      "text/plain": [
       "<IPython.core.display.HTML object>"
      ]
     },
     "metadata": {},
     "output_type": "display_data"
    }
   ],
   "source": [
    "# Encode sequence pairs with the 20 nt hybridization encoder\n",
    "val_seq_pairs = one_hot(np.stack([\n",
    "    encoder_20.predict(val_feat_pairs[:, 0, :]).argmax(-1),\n",
    "    encoder_20.predict(val_feat_pairs[:, 1, :]).argmax(-1),\n",
    "], axis=1)).astype(np.float32)\n",
    "    \n",
    "# compare false positive returns to true returns\n",
    "pairs_p = val_seq_pairs[val_truth > 0.5] #onehot vectors similar\n",
    "pairs_n = val_seq_pairs[val_truth < 0.5] #onehot vectors dissimilar\n",
    "\n",
    "# similar queries and targets\n",
    "query_features_p = seqtools.onehots_to_seqs(pairs_p[:, 0, :]) \n",
    "target_features_p = seqtools.onehots_to_seqs(pairs_p[:, 1, :])\n",
    "\n",
    "# dissimilar queries and targets\n",
    "query_features_n = seqtools.onehots_to_seqs(pairs_n[:, 0, :])\n",
    "target_features_n = seqtools.onehots_to_seqs(pairs_n[:, 1, :])\n",
    "\n",
    "Yp = simulator.simulate(pd.DataFrame({\n",
    "    'query_features': query_features_p,\n",
    "    'target_features': target_features_p,\n",
    "}))\n",
    "Yn = simulator.simulate(pd.DataFrame({\n",
    "    'query_features': query_features_n,\n",
    "    'target_features': target_features_n,\n",
    "}))\n",
    "\n",
    "Yp_yield = Yp['duplex_yield']\n",
    "Yn_yield = Yn['duplex_yield']\n",
    "\n",
    "threshold_data = [] \n",
    "recall_data = []\n",
    "false_positive_data = []\n",
    "\n",
    "thresholds=1-np.logspace(-14, 0, 100)\n",
    "for t in thresholds:\n",
    "    recall = (Yp_yield > t).mean()\n",
    "    false_positive = (Yn_yield > t).mean()\n",
    "    threshold_data.append(t)\n",
    "    recall_data.append(recall)\n",
    "    false_positive_data.append(false_positive)\n",
    "    \n",
    "plt.figure()   \n",
    "plt.scatter(false_positive_data, recall_data, c=threshold_data, cmap=plt.cm.viridis)\n",
    "plt.ylabel(\"Proportion Correctly Retrieved\")\n",
    "plt.xlabel(\"Proportion Falsely Retrieved\")\n",
    "plt.colorbar(label=\"Yield Threshold\")\n",
    "plt.title(\"20nt Hybridization Model\")\n",
    "plt.tight_layout()\n",
    "# plt.savefig('20_hyb_retrieval_random_pair_simulations.png', bbox_inches='tight', dpi=1000)\n",
    "plt.show()"
   ]
  },
  {
   "cell_type": "code",
   "execution_count": 13,
   "metadata": {},
   "outputs": [
    {
     "name": "stdout",
     "output_type": "stream",
     "text": [
      "[0.99999999999999, 0.9999999999999861, 0.9999999999999808, 0.9999999999999735, 0.9999999999999633, 0.999999999999949, 0.9999999999999295, 0.9999999999999023, 0.9999999999998647, 0.9999999999998126, 0.9999999999997405, 0.9999999999996406, 0.9999999999995023, 0.9999999999993108, 0.9999999999990454, 0.9999999999986781, 0.9999999999981692, 0.9999999999974646, 0.9999999999964888, 0.9999999999951374, 0.9999999999932658, 0.999999999990674, 0.9999999999870846, 0.9999999999821135, 0.9999999999752293, 0.9999999999656953, 0.9999999999524919, 0.9999999999342066, 0.9999999999088838, 0.9999999998738143, 0.9999999998252471, 0.9999999997579871, 0.9999999996648398, 0.9999999995358411, 0.9999999993571926, 0.9999999991097849, 0.9999999987671533, 0.9999999982926474, 0.9999999976355106, 0.9999999967254508, 0.9999999954651215, 0.9999999937197086, 0.9999999913025099, 0.9999999879549646, 0.9999999833189946, 0.999999976898703, 0.9999999680073286, 0.9999999556937854, 0.9999999386409273, 0.9999999150246565, 0.9999998823188048, 0.9999998370249166, 0.999999774298028, 0.999999687428415, 0.999999567123872, 0.9999994005157496, 0.9999991697824319, 0.9999988502430046, 0.9999984077172066, 0.9999977948692601, 0.9999969461444912, 0.9999957707571256, 0.999994142979182, 0.9999918886916921, 0.9999887667596702, 0.9999844432385607, 0.9999784556530997, 0.9999701635275972, 0.9999586798759988, 0.9999427763234064, 0.9999207517101646, 0.9998902501234507, 0.9998480088917047, 0.9997895095855488, 0.9997084946937175, 0.9995962982741403, 0.9994409189817488, 0.9992257363173189, 0.9989277327779896, 0.9985150317377456, 0.9979434876916513, 0.9971519641315643, 0.9960557939405623, 0.9945377227823157, 0.9924353667244538, 0.9895238424721033, 0.9854917122150406, 0.9799076699743495, 0.9721744059779287, 0.9614647140628948, 0.946633007687937, 0.9260927796647422, 0.8976468978100973, 0.8582525837073198, 0.8036959349959731, 0.728141175726706, 0.6235064193207545, 0.4785991712000326, 0.2779190981614543, 0.0]\n"
     ]
    }
   ],
   "source": [
    "print list(thresholds)"
   ]
  },
  {
   "cell_type": "code",
   "execution_count": 15,
   "metadata": {},
   "outputs": [
    {
     "name": "stdout",
     "output_type": "stream",
     "text": [
      "[0.0, 0.0, 0.0, 0.0, 0.0, 0.0, 0.0, 0.0, 0.0, 0.0, 0.0, 0.0, 0.0, 0.0, 0.0, 0.0, 0.0, 0.0, 0.0, 0.0, 0.0, 0.0, 0.0, 0.0, 0.0, 0.0, 0.0, 0.0, 0.0, 0.0, 0.0, 0.0, 0.0, 0.0, 4.000960230455309e-05, 4.000960230455309e-05, 4.000960230455309e-05, 4.000960230455309e-05, 4.000960230455309e-05, 4.000960230455309e-05, 4.000960230455309e-05, 4.000960230455309e-05, 4.000960230455309e-05, 4.000960230455309e-05, 4.000960230455309e-05, 0.00012002880691365927, 0.00012002880691365927, 0.00012002880691365927, 0.00012002880691365927, 0.00012002880691365927, 0.00016003840921821236, 0.00016003840921821236, 0.00020004801152276547, 0.00024005761382731855, 0.00040009602304553094, 0.00044010562535008404, 0.0005601344322637432, 0.0007601824437865087, 0.0008001920460910619, 0.001240297671441146, 0.0015203648875730174, 0.0019604705129231017, 0.002280547331359526, 0.002920700968232376, 0.003800912218932544, 0.0044010562535008405, 0.005001200288069136, 0.005961430743378411, 0.006801632391774026, 0.0074817956309514285, 0.008522045290869808, 0.009602304553092742, 0.011122669440665759, 0.01268304393054333, 0.013883331999679923, 0.016123869728734898, 0.01848443626470353, 0.020644954789149395, 0.023365607745859007, 0.02676642394174602, 0.030607345762983115, 0.033408017924301835, 0.0375290069616708, 0.04301032247739457, 0.04761142674241818, 0.05337280947427383, 0.05921421141073858, 0.06665599743938545, 0.0744578698887733, 0.08285988637272945, 0.09158197967512204, 0.10258462030887414, 0.1131871649195807, 0.12651036248699687, 0.140913819316636, 0.1571977274545891, 0.17688245178842923, 0.20092822277346564, 0.23469632711850844, 1.0]\n"
     ]
    }
   ],
   "source": [
    "print false_positive_data"
   ]
  },
  {
   "cell_type": "code",
   "execution_count": 16,
   "metadata": {},
   "outputs": [
    {
     "name": "stdout",
     "output_type": "stream",
     "text": [
      "[0.00011997120691034152, 0.00011997120691034152, 0.00011997120691034152, 0.00011997120691034152, 0.00011997120691034152, 0.00011997120691034152, 0.00011997120691034152, 0.00011997120691034152, 0.00011997120691034152, 0.00011997120691034152, 0.00011997120691034152, 0.00011997120691034152, 0.00011997120691034152, 0.00011997120691034152, 0.00011997120691034152, 0.00011997120691034152, 0.00011997120691034152, 0.00015996160921378868, 0.00015996160921378868, 0.00027993281612413023, 0.00027993281612413023, 0.0004398944253379189, 0.0004398944253379189, 0.0007998080460689434, 0.000919779252979285, 0.0010797408621930737, 0.0015996160921378868, 0.0016795968967447813, 0.001879548908262017, 0.002479404942813725, 0.00339918419579301, 0.004278973046468847, 0.005558665920179157, 0.006838358793889466, 0.007878109253779093, 0.008757898104454931, 0.009557706150523874, 0.011277293449572103, 0.012836919139406542, 0.015156362473006479, 0.01867551787570983, 0.02151483643925458, 0.02519395345117172, 0.02859313764696473, 0.03447172678557146, 0.04023034471726786, 0.04582900103975046, 0.052427417419819246, 0.05874590098376389, 0.06558425977765336, 0.07278253219227386, 0.08282012317043909, 0.09345757018315604, 0.1053747100695833, 0.1187714948412381, 0.13220827001519636, 0.14460529472926498, 0.15764216588018876, 0.17339838438774693, 0.18915460289530514, 0.20699032232264256, 0.22434615692233864, 0.244141406062545, 0.26229704870831, 0.283491961929137, 0.3065264336559226, 0.32956090538270816, 0.3545549068223626, 0.37610973366392064, 0.398944253379189, 0.42093897464608493, 0.44689274574102217, 0.47128689114612493, 0.49588098856274493, 0.5197152683355994, 0.5445093177637367, 0.5690634247780533, 0.5943373590338319, 0.6178517155882588, 0.6423258417979685, 0.6650403903063264, 0.686995121170919, 0.7083100055986563, 0.7295049188194833, 0.7482604174998001, 0.7677757338238823, 0.7864112612972887, 0.8033272014716468, 0.8213228825081981, 0.83723906262497, 0.851635607454211, 0.867911701191714, 0.8808286011357275, 0.8955050787810925, 0.9090618251619611, 0.9200191953931056, 0.9317363832680157, 0.942133887866912, 0.9534111813164841, 1.0]\n"
     ]
    }
   ],
   "source": [
    "print recall_data"
   ]
  },
  {
   "cell_type": "code",
   "execution_count": null,
   "metadata": {},
   "outputs": [],
   "source": []
  },
  {
   "cell_type": "code",
   "execution_count": null,
   "metadata": {},
   "outputs": [],
   "source": []
  },
  {
   "cell_type": "markdown",
   "metadata": {},
   "source": [
    "# OLD\n",
    "This code was used to examine preliminary relationships, it has been refactored above"
   ]
  },
  {
   "cell_type": "code",
   "execution_count": null,
   "metadata": {},
   "outputs": [],
   "source": [
    "###\n",
    "# Use data batch generators to get a batch of random training and validation\n",
    "# data\n",
    "###encoder_1site_triplet_20220128_1\n",
    "\n",
    "def keras_batch_generator(dataset_batch_generator, similarity_threshold):\n",
    "    # Yield datasets\n",
    "    # TODO: Verify with Callie this understanding is correct https://github.com/uwmisl/cas9-similarity-search/issues/2\n",
    "    while True:\n",
    "        # This tuple contains:\n",
    "        # indices: a positive integer uniquely identifying an image. This index is obtained by enumerating all the images in the dataset (before splitting them into test/train/validate datasets)\n",
    "        # pairs:\n",
    "        indices, pairs = next(dataset_batch_generator)\n",
    "        # The Euclidean distances between the two vectors in each pair\n",
    "        distances = np.sqrt(np.square(pairs[:,0,:] - pairs[:,1,:]).sum(1))\n",
    "        # Whether or not the images in this pair should be considered 'similar'. This is a boolean value, represented by an int (0 or 1), and is determined by whether the aforementioned Euclidean distances between image feature vectors are under some pre-deterined \"similarity threshold\".\n",
    "        similar = (distances < similarity_threshold).astype(int)\n",
    "        # Yield a pair of sequences, and 0-or-1 indicating whether they're similar.\n",
    "        yield pairs, similar\n",
    "\n",
    "batch_size = 200\n",
    "similarity_threshold = 75\n",
    "train_dataset = primo.datasets.OpenImagesTrain(\n",
    "    '/tf/open_images/train/', switch_every=10**5\n",
    ")\n",
    "validation_dataset = primo.datasets.OpenImagesVal('/tf/open_images/validation/')\n",
    " \n",
    "# # Generator for triplets\n",
    "# train_triplet_generator = primo.datasets.dataset.triplet_batch_generator(\n",
    "#     train_dataset.random_features(batch_size),\n",
    "#     similarity_threshold\n",
    "# )\n",
    "\n",
    "# val_triplet_generator = primo.datasets.dataset.triplet_batch_generator(\n",
    "#     validation_dataset.random_features(batch_size),\n",
    "#     similarity_threshold\n",
    "# )\n",
    "\n",
    "# Generators for balanced pairs\n",
    "train_pair_generator = keras_batch_generator(\n",
    "    train_dataset.balanced_pairs(batch_size, similarity_threshold),\n",
    "    similarity_threshold\n",
    ")\n",
    "val_pair_generator = keras_batch_generator(\n",
    "    validation_dataset.balanced_pairs(batch_size, similarity_threshold),\n",
    "    similarity_threshold\n",
    ")\n",
    "\n",
    "# batch = next(batch_generator)\n",
    "# del batch_generator\n",
    "\n",
    "# val_batch = next(encoder_val_batches)\n",
    "# del encoder_val_batches"
   ]
  },
  {
   "cell_type": "code",
   "execution_count": null,
   "metadata": {
    "scrolled": false
   },
   "outputs": [],
   "source": [
    "def plot_pair_scatter(seq_pairs, y_true, title):\n",
    "    pairs_p = seq_pairs[y_true > 0.5] #one hot vectors\n",
    "    pairs_n = seq_pairs[y_true < 0.5]\n",
    "    \n",
    "#     print pairs_p.shape()\n",
    "    # Compute the log10 scores for positive (similar) pairs\n",
    "#     Yp = log_multisite_predictor(pairs_p).numpy()\n",
    "    # Compute the log10 score for negative (dis-similar) pairs\n",
    "#     Yn = log_multisite_predictor(pairs_n).numpy()\n",
    "    \n",
    "    query_features_p = seqtools.onehots_to_seqs(pairs_p[:, 0, :]) # reference\n",
    "    target_features_p = seqtools.onehots_to_seqs(pairs_p[:, 1, :])\n",
    "    query_features_n = seqtools.onehots_to_seqs(pairs_n[:, 0, :])\n",
    "    target_features_n = seqtools.onehots_to_seqs(pairs_n[:, 1, :])\n",
    "    Yp = simulator.simulate(pd.DataFrame({\n",
    "        'query_features': query_features_p,\n",
    "        'target_features': target_features_p,\n",
    "    }))['duplex_yield']\n",
    "    Yn = simulator.simulate(pd.DataFrame({\n",
    "        'query_features': query_features_n,\n",
    "        'target_features': target_features_n,\n",
    "    }))['duplex_yield']\n",
    "    \n",
    "    recall = (Yp > 10**(-10.0)).mean()\n",
    "    false_positive = (Yn > 10**(-10.0)).mean()\n",
    "    \n",
    "#     Yn=pairs_p[:, 1, :] # target\n",
    "    \n",
    "#     Yp = seqtools.onehots_to_seqs(Yp)\n",
    "#     print Yp\n",
    "#     Yn = seqtools.onehots_to_seqs(Yn)\n",
    "#     #make ref and target into appropriate df\n",
    "#     target_query_df = pd.DataFrame(list(zip(Yp, Yn)), columns = ['query_features', 'target_features'])\n",
    "#     results = simulator.simulate(target_query_df) # creates df with last column 'duplex_yield'\n",
    "#     duplex_yield = results[\"duplex_yield\"]\n",
    "#     target_query_df = target_query_df.join(duplex_yield)\n",
    "\n",
    "    #     thresholds=1-np.logspace(-14, 0, 100)\n",
    "#     recall = (Yp > 10**(-10.0)).mean()\n",
    "#     false_positive = (Yn > 10**(-10.0)).mean()\n",
    "\n",
    "#     print(\"recall: {}, false_positive: {}\".format([recall, false_positive]))\n",
    "\n",
    "    plt.figure()\n",
    "    plt.plot(Yp, '.', label='pos')\n",
    "    plt.plot(Yn, 'x', label='neg')\n",
    "    plt.legend()\n",
    "    plt.title('{} - recall: {:.2f}, false positive: {:.2f}'.format(title, recall, false_positive))\n",
    "\n",
    "val_feat_pairs, val_truth = get_multiple_batchs(10, val_pair_generator)\n",
    "val_seq_pairs = one_hot(np.stack([\n",
    "    encoder.predict(val_feat_pairs[:, 0, :]).argmax(-1),\n",
    "    encoder.predict(val_feat_pairs[:, 1, :]).argmax(-1),\n",
    "], axis=1)).astype(np.float32)\n",
    "\n",
    "train_feat_pairs, train_truth = get_multiple_batchs(10, train_pair_generator)\n",
    "train_seq_pairs = one_hot(np.stack([\n",
    "    encoder.predict(train_feat_pairs[:, 0, :]),\n",
    "    encoder.predict(train_feat_pairs[:, 1, :]),\n",
    "], axis=1).argmax(-1))\n",
    "\n",
    "plot_pair_scatter(val_seq_pairs, val_truth, 'Validation Data')\n",
    "plot_pair_scatter(train_seq_pairs, train_truth, 'Train Data')"
   ]
  },
  {
   "cell_type": "code",
   "execution_count": null,
   "metadata": {},
   "outputs": [],
   "source": [
    "def nn_recall(scores, distances, k=10, n_thresholds=500, thresholds=None):\n",
    "    \n",
    "    if thresholds is None:\n",
    "        thresholds = np.linspace(scores.min(), scores.max(), n_thresholds)\n",
    "        thresholds[0] = (thresholds[0] + thresholds[1])/2\n",
    "        \n",
    "    retrieved = scores >= thresholds.reshape(-1,1)\n",
    "    p_retrieved = retrieved.mean(1)\n",
    "    \n",
    "    neighbors = distances.argsort()[:k]\n",
    "    \n",
    "    nn_recall = retrieved[:, neighbors].mean(1)\n",
    "    \n",
    "    return nn_recall, p_retrieved, thresholds\n",
    "\n",
    "n,p,t = nn_recall(\n",
    "    df.duplex_yield.values/df.duplex_yield.max(),\n",
    "    df.euclidean_distance.values,\n",
    "    k=100,\n",
    "    thresholds=1-np.logspace(-14, 0, 100)\n",
    ")\n",
    "\n",
    "plt.scatter(n,p,c=t, cmap=plt.cm.viridis_r)\n",
    "plot_baselines(100, len(df))(plt.gca())\n",
    "plt.xlabel(\"100-NN Recall\")\n",
    "plt.ylabel(\"Proportion Retrieved\")\n",
    "plt.colorbar(label=\"Yield Threshold\")"
   ]
  },
  {
   "cell_type": "code",
   "execution_count": null,
   "metadata": {},
   "outputs": [],
   "source": [
    "### Sequence Confidence and Variation\n",
    "#\n",
    "# Get a random set of validation features and encode to sequences, then \n",
    "# plot the confidence and variation (entropy) of the sequence pool\n",
    "# for each sequence position. \n",
    "\n",
    "# _, example_features = next(validation_dataset.random_features(500))\n",
    "# _, example_features = next(train_dataset.random_features(500))\n",
    "\n",
    "seqs_softmax = encoder.predict(example_features)\n",
    "seqs_onehot = one_hot(seqs_softmax.argmax(-1))\n",
    "\n",
    "unique_seqs = np.unique(seqs_onehot, axis=0)\n",
    "sequence_uniqueness = len(unique_seqs) / len(seqs_onehot)\n",
    "\n",
    "base_distributions = seqs_onehot.sum(0) / len(seqs_onehot)\n",
    "seqlen = seqs_onehot.shape[1]\n",
    "\n",
    "confidence = confidence_by_base(seqs_softmax)\n",
    "entropy = entropy_by_base(seqs_softmax)\n",
    "\n",
    "seqlen = seqs_softmax.shape[1]\n",
    "fig = plt.figure(figsize=[7, 7])\n",
    "# fig.suptitle(f'Sequence Uniqueness = {sequence_uniqueness:0.2f}')\n",
    "axes = fig.subplots(3,1)\n",
    "\n",
    "ax = axes[0]\n",
    "ax.bar(np.arange(0, seqlen), confidence)\n",
    "ax.set_title('confidence')\n",
    "\n",
    "ax = axes[1]\n",
    "ax.bar(np.arange(0, seqlen), entropy)\n",
    "ax.set_title('entropy')\n",
    "\n",
    "ax = axes[2]\n",
    "ax.set_title('base distribution')\n",
    "ax.set_xlabel('sequence position')\n",
    "bottom = np.zeros_like(base_distributions[:, 0])\n",
    "ax.bar(np.arange(seqlen), base_distributions[:, 0], label='A', )\n",
    "bottom += base_distributions[:, 0]\n",
    "ax.bar(np.arange(seqlen), base_distributions[:, 1], label='T', bottom=bottom)\n",
    "bottom += base_distributions[:, 1]\n",
    "ax.bar(np.arange(seqlen), base_distributions[:, 2], label='C', bottom=bottom)\n",
    "bottom += base_distributions[:, 2]\n",
    "ax.bar(np.arange(seqlen), base_distributions[:, 3], label='G', bottom=bottom)\n",
    "ax.legend(bbox_to_anchor=(1.15, 0.9))\n",
    "\n",
    "plt.tight_layout()"
   ]
  },
  {
   "cell_type": "code",
   "execution_count": null,
   "metadata": {},
   "outputs": [],
   "source": []
  }
 ],
 "metadata": {
  "kernelspec": {
   "display_name": "Python 2",
   "language": "python",
   "name": "python2"
  },
  "language_info": {
   "codemirror_mode": {
    "name": "ipython",
    "version": 2
   },
   "file_extension": ".py",
   "mimetype": "text/x-python",
   "name": "python",
   "nbconvert_exporter": "python",
   "pygments_lexer": "ipython2",
   "version": "2.7.15+"
  }
 },
 "nbformat": 4,
 "nbformat_minor": 2
}
