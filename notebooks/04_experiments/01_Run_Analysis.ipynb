{
 "cells": [
  {
   "cell_type": "markdown",
   "metadata": {},
   "source": [
    "# Run Analyses\n",
    "\n",
    "Given run data, outputs PDF analysis summaries and, for each run, a directory of png outputs. "
   ]
  },
  {
   "cell_type": "code",
   "execution_count": 1,
   "metadata": {},
   "outputs": [
    {
     "name": "stderr",
     "output_type": "stream",
     "text": [
      "Matplotlib created a temporary config/cache directory at /tmp/matplotlib-vhsg9qoy because the default path (/tf/.cache/matplotlib) is not a writable directory; it is highly recommended to set the MPLCONFIGDIR environment variable to a writable directory, in particular to speed up the import of Matplotlib and to better support multiprocessing.\n"
     ]
    }
   ],
   "source": [
    "import primo.analysis.run_analysis_functions\n",
    "from primo.models.simulator import Simulator\n",
    "import pandas as pd\n",
    "from multiprocessing import Pool\n",
    "import numpy as np\n",
    "import os\n",
    "\n",
    "# for looking up images\n",
    "import io\n",
    "import zipfile\n",
    "from PIL import Image"
   ]
  },
  {
   "cell_type": "markdown",
   "metadata": {},
   "source": [
    "## Read in the csv file with the oligos sequences"
   ]
  },
  {
   "cell_type": "code",
   "execution_count": 2,
   "metadata": {},
   "outputs": [],
   "source": [
    "seq_df = pd.read_csv('../03_simulation/oligos.csv')\n",
    "seq_df = seq_df.rename(columns = {'Unnamed: 0': 'Photo_ID'})"
   ]
  },
  {
   "cell_type": "code",
   "execution_count": 3,
   "metadata": {},
   "outputs": [
    {
     "data": {
      "text/html": [
       "<div>\n",
       "<style scoped>\n",
       "    .dataframe tbody tr th:only-of-type {\n",
       "        vertical-align: middle;\n",
       "    }\n",
       "\n",
       "    .dataframe tbody tr th {\n",
       "        vertical-align: top;\n",
       "    }\n",
       "\n",
       "    .dataframe thead th {\n",
       "        text-align: right;\n",
       "    }\n",
       "</style>\n",
       "<table border=\"1\" class=\"dataframe\">\n",
       "  <thead>\n",
       "    <tr style=\"text-align: right;\">\n",
       "      <th></th>\n",
       "      <th>Photo_ID</th>\n",
       "      <th>FeatureSequence</th>\n",
       "      <th>ID</th>\n",
       "      <th>random_padding</th>\n",
       "      <th>Oligo</th>\n",
       "    </tr>\n",
       "  </thead>\n",
       "  <tbody>\n",
       "    <tr>\n",
       "      <th>0</th>\n",
       "      <td>000002b66c9c498e</td>\n",
       "      <td>ACCGGTAAGGCACAAAAACG</td>\n",
       "      <td>TTTGCCAAGTTGGTGCACAC</td>\n",
       "      <td>CCTTCCGTAGGCGACATTTCTCGGCACGCGCTATCTTATAGTCGTC...</td>\n",
       "      <td>TACTCGCTGCGTGCAATTTATTTGCCAAGTTGGTGCACACACCGGT...</td>\n",
       "    </tr>\n",
       "    <tr>\n",
       "      <th>1</th>\n",
       "      <td>000002b97e5471a0</td>\n",
       "      <td>ATTTGCAAGGAACAAAAACG</td>\n",
       "      <td>CCATTGCTATCTGTCTCTAG</td>\n",
       "      <td>AGATAAGGTTCCTCGGCGCATCCGCCTAATTAACATGCCCGAACTC...</td>\n",
       "      <td>TACTCGCTGCGTGCAATTTACCATTGCTATCTGTCTCTAGATTTGC...</td>\n",
       "    </tr>\n",
       "    <tr>\n",
       "      <th>2</th>\n",
       "      <td>000002c707c9895e</td>\n",
       "      <td>ACCTGTAAGGCACAAAAACG</td>\n",
       "      <td>AGTCGGGATAATACGTCAAG</td>\n",
       "      <td>GCCTGTGGGCCAACACAGCCTACCGCCGATCCCACCCTCTAGTTAG...</td>\n",
       "      <td>TACTCGCTGCGTGCAATTTAAGTCGGGATAATACGTCAAGACCTGT...</td>\n",
       "    </tr>\n",
       "    <tr>\n",
       "      <th>3</th>\n",
       "      <td>0000048549557964</td>\n",
       "      <td>AATTGCAAGGAACAAAAACG</td>\n",
       "      <td>ATTCGGATGTGCTAAGACGA</td>\n",
       "      <td>GTCGAGAGGGATGAGCGACCAAGTGGTTCCACACTGTAAACAGCTC...</td>\n",
       "      <td>TACTCGCTGCGTGCAATTTAATTCGGATGTGCTAAGACGAAATTGC...</td>\n",
       "    </tr>\n",
       "    <tr>\n",
       "      <th>4</th>\n",
       "      <td>000004f4400f6ec5</td>\n",
       "      <td>ACCGGTAAGGTACAAAAACG</td>\n",
       "      <td>ACCGCAATACTTTGTATAAT</td>\n",
       "      <td>TCGTCCACAAGAGCTTACGTAGTTCCGTCAGACTGATATGCAACCC...</td>\n",
       "      <td>TACTCGCTGCGTGCAATTTAACCGCAATACTTTGTATAATACCGGT...</td>\n",
       "    </tr>\n",
       "    <tr>\n",
       "      <th>...</th>\n",
       "      <td>...</td>\n",
       "      <td>...</td>\n",
       "      <td>...</td>\n",
       "      <td>...</td>\n",
       "      <td>...</td>\n",
       "    </tr>\n",
       "    <tr>\n",
       "      <th>1743037</th>\n",
       "      <td>ffffd9716fd38279</td>\n",
       "      <td>ATTTGCAAGGAACAAAAACG</td>\n",
       "      <td>CCATTGCTATCTGTCTCTAG</td>\n",
       "      <td>AGATAAGGTTCCTCGGCGCATCCGCCTAATTAACATGCCCGAACTC...</td>\n",
       "      <td>TACTCGCTGCGTGCAATTTACCATTGCTATCTGTCTCTAGATTTGC...</td>\n",
       "    </tr>\n",
       "    <tr>\n",
       "      <th>1743038</th>\n",
       "      <td>ffffda81903d6bb7</td>\n",
       "      <td>AGGGGTAAGGTACAAAAACG</td>\n",
       "      <td>ATCGCGGTCGGATAAACAAA</td>\n",
       "      <td>GCCGTGCCGTACCGGCACGCAAAGTGTTCCGACGTTGATGACAACT...</td>\n",
       "      <td>TACTCGCTGCGTGCAATTTAATCGCGGTCGGATAAACAAAAGGGGT...</td>\n",
       "    </tr>\n",
       "    <tr>\n",
       "      <th>1743039</th>\n",
       "      <td>ffffeac7d2f37489</td>\n",
       "      <td>AATCGCAAGGAACAAAAACG</td>\n",
       "      <td>ATTCGCTGTGCTTTCGCTAC</td>\n",
       "      <td>AATACGACGAGTAGTAGACACTAATTTATCCATACTGTGTACAGCG...</td>\n",
       "      <td>TACTCGCTGCGTGCAATTTAATTCGCTGTGCTTTCGCTACAATCGC...</td>\n",
       "    </tr>\n",
       "    <tr>\n",
       "      <th>1743040</th>\n",
       "      <td>ffffebddbb8bba21</td>\n",
       "      <td>ACCTGTAAGGCACAGAAACG</td>\n",
       "      <td>AGGAGGGCACGACCATTTCT</td>\n",
       "      <td>CGACCACCTGAATAAGATCGCCTTGTTAGGGCTGAAGTTGGGTGGG...</td>\n",
       "      <td>TACTCGCTGCGTGCAATTTAAGGAGGGCACGACCATTTCTACCTGT...</td>\n",
       "    </tr>\n",
       "    <tr>\n",
       "      <th>1743041</th>\n",
       "      <td>fffffdaec951185d</td>\n",
       "      <td>AGGGGTAAGGTACAAAAACG</td>\n",
       "      <td>ATCGCGGTCGGATAAACAAA</td>\n",
       "      <td>GCCGTGCCGTACCGGCACGCAAAGTGTTCCGACGTTGATGACAACT...</td>\n",
       "      <td>TACTCGCTGCGTGCAATTTAATCGCGGTCGGATAAACAAAAGGGGT...</td>\n",
       "    </tr>\n",
       "  </tbody>\n",
       "</table>\n",
       "<p>1743042 rows × 5 columns</p>\n",
       "</div>"
      ],
      "text/plain": [
       "                 Photo_ID       FeatureSequence                    ID  \\\n",
       "0        000002b66c9c498e  ACCGGTAAGGCACAAAAACG  TTTGCCAAGTTGGTGCACAC   \n",
       "1        000002b97e5471a0  ATTTGCAAGGAACAAAAACG  CCATTGCTATCTGTCTCTAG   \n",
       "2        000002c707c9895e  ACCTGTAAGGCACAAAAACG  AGTCGGGATAATACGTCAAG   \n",
       "3        0000048549557964  AATTGCAAGGAACAAAAACG  ATTCGGATGTGCTAAGACGA   \n",
       "4        000004f4400f6ec5  ACCGGTAAGGTACAAAAACG  ACCGCAATACTTTGTATAAT   \n",
       "...                   ...                   ...                   ...   \n",
       "1743037  ffffd9716fd38279  ATTTGCAAGGAACAAAAACG  CCATTGCTATCTGTCTCTAG   \n",
       "1743038  ffffda81903d6bb7  AGGGGTAAGGTACAAAAACG  ATCGCGGTCGGATAAACAAA   \n",
       "1743039  ffffeac7d2f37489  AATCGCAAGGAACAAAAACG  ATTCGCTGTGCTTTCGCTAC   \n",
       "1743040  ffffebddbb8bba21  ACCTGTAAGGCACAGAAACG  AGGAGGGCACGACCATTTCT   \n",
       "1743041  fffffdaec951185d  AGGGGTAAGGTACAAAAACG  ATCGCGGTCGGATAAACAAA   \n",
       "\n",
       "                                            random_padding  \\\n",
       "0        CCTTCCGTAGGCGACATTTCTCGGCACGCGCTATCTTATAGTCGTC...   \n",
       "1        AGATAAGGTTCCTCGGCGCATCCGCCTAATTAACATGCCCGAACTC...   \n",
       "2        GCCTGTGGGCCAACACAGCCTACCGCCGATCCCACCCTCTAGTTAG...   \n",
       "3        GTCGAGAGGGATGAGCGACCAAGTGGTTCCACACTGTAAACAGCTC...   \n",
       "4        TCGTCCACAAGAGCTTACGTAGTTCCGTCAGACTGATATGCAACCC...   \n",
       "...                                                    ...   \n",
       "1743037  AGATAAGGTTCCTCGGCGCATCCGCCTAATTAACATGCCCGAACTC...   \n",
       "1743038  GCCGTGCCGTACCGGCACGCAAAGTGTTCCGACGTTGATGACAACT...   \n",
       "1743039  AATACGACGAGTAGTAGACACTAATTTATCCATACTGTGTACAGCG...   \n",
       "1743040  CGACCACCTGAATAAGATCGCCTTGTTAGGGCTGAAGTTGGGTGGG...   \n",
       "1743041  GCCGTGCCGTACCGGCACGCAAAGTGTTCCGACGTTGATGACAACT...   \n",
       "\n",
       "                                                     Oligo  \n",
       "0        TACTCGCTGCGTGCAATTTATTTGCCAAGTTGGTGCACACACCGGT...  \n",
       "1        TACTCGCTGCGTGCAATTTACCATTGCTATCTGTCTCTAGATTTGC...  \n",
       "2        TACTCGCTGCGTGCAATTTAAGTCGGGATAATACGTCAAGACCTGT...  \n",
       "3        TACTCGCTGCGTGCAATTTAATTCGGATGTGCTAAGACGAAATTGC...  \n",
       "4        TACTCGCTGCGTGCAATTTAACCGCAATACTTTGTATAATACCGGT...  \n",
       "...                                                    ...  \n",
       "1743037  TACTCGCTGCGTGCAATTTACCATTGCTATCTGTCTCTAGATTTGC...  \n",
       "1743038  TACTCGCTGCGTGCAATTTAATCGCGGTCGGATAAACAAAAGGGGT...  \n",
       "1743039  TACTCGCTGCGTGCAATTTAATTCGCTGTGCTTTCGCTACAATCGC...  \n",
       "1743040  TACTCGCTGCGTGCAATTTAAGGAGGGCACGACCATTTCTACCTGT...  \n",
       "1743041  TACTCGCTGCGTGCAATTTAATCGCGGTCGGATAAACAAAAGGGGT...  \n",
       "\n",
       "[1743042 rows x 5 columns]"
      ]
     },
     "execution_count": 3,
     "metadata": {},
     "output_type": "execute_result"
    }
   ],
   "source": [
    "seq_df"
   ]
  },
  {
   "cell_type": "markdown",
   "metadata": {},
   "source": [
    "#### Some cells to help with looking up photos in the future"
   ]
  },
  {
   "cell_type": "code",
   "execution_count": 4,
   "metadata": {},
   "outputs": [],
   "source": [
    "# get an array of all the IDs\n",
    "seqs_to_align = seq_df['ID'].unique()\n",
    "\n",
    "# make into a dictionary with the keys as ID labels, the values as the DNA sequence\n",
    "seqs_to_align_dict = dict(zip(range(len(seqs_to_align)), seqs_to_align))"
   ]
  },
  {
   "cell_type": "code",
   "execution_count": 5,
   "metadata": {},
   "outputs": [],
   "source": [
    "def get_image_from_zip(imgid):\n",
    "    zip_path = f'/tf/open_images/targets/images/train_{imgid[:1]}.zip'\n",
    "    zip_file = zipfile.ZipFile(zip_path, 'r')\n",
    "    img_file = zip_file.read(f\"train_{imgid[:1]}/{imgid}.jpg\")\n",
    "    return Image.open(io.BytesIO(img_file))\n",
    "\n",
    "def get_images_with_ID(ID, seq_df):\n",
    "    rows_with_ID = seq_df.loc[seq_df['ID'] == ID]\n",
    "    photo_IDs = rows_with_ID['Photo_ID']\n",
    "    return photo_IDs"
   ]
  },
  {
   "cell_type": "markdown",
   "metadata": {},
   "source": [
    "## Set the baseline\n",
    "This analyzes run data for the baseline pool."
   ]
  },
  {
   "cell_type": "code",
   "execution_count": 7,
   "metadata": {},
   "outputs": [],
   "source": [
    "SCORE_THRESH = 17 # my rule of thumb, this value is\n",
    "                # len(alignment_seq) - 3\n",
    "                # for queries >= 20nt but less for shorter queries.\n",
    "                # Note that the score threshold will only return sequences\n",
    "                # with alignment score > threshold so if your query is 20nt\n",
    "                # your maximum alignment score will be 20\n",
    "\n",
    "# TODO: make a MIN_READ_LEN and update relevant functions in primo/analysis/run_analysis_functions.py\n",
    "MAX_READ_LEN = 500 # often the sequence aligner chokes on long sequences, this is the maximum\n",
    "                    # length a sequence is allowed to be in order to be analyzed, longer reads\n",
    "                    # are totally ignored\n"
   ]
  },
  {
   "cell_type": "code",
   "execution_count": 8,
   "metadata": {},
   "outputs": [],
   "source": [
    "INITIAL_POOL_DIR_PATH = '../../data/sequencing/20220907_1411_MN21390_FAU64496_dec56e17'\n",
    "date_label = INITIAL_POOL_DIR_PATH.split('/')[-1].split('_')[0]\n",
    "\n",
    "PRCNT_DATA = .6 # the percent of fastq files you'd like to use for this data analysis"
   ]
  },
  {
   "cell_type": "code",
   "execution_count": null,
   "metadata": {},
   "outputs": [],
   "source": [
    "# Unzip all fastq files from FASTQ_PASS dir\n",
    "print('Unzipping Fastq files')\n",
    "primo.analysis.run_analysis_functions.gz_extract(INITIAL_POOL_DIR_PATH)"
   ]
  },
  {
   "cell_type": "code",
   "execution_count": null,
   "metadata": {},
   "outputs": [],
   "source": [
    "# #### TODO: THREADING\n",
    "# files_to_analyze = primo.analysis.run_analysis_functions.list_of_fastqs_to_analyze(PRCNT_DATA)\n",
    "# print(f\"Analyzing {len(files_to_analyze)} files\")\n",
    "\n",
    "# pool = Pool(13, initializer=np.random.seed)\n",
    "# pool.map(primo.analysis.run_analysis_functions.threaded_align_reads(), files_to_analyze)\n",
    "    "
   ]
  },
  {
   "cell_type": "markdown",
   "metadata": {},
   "source": [
    "Only run the cell below if you need to perform alignment! You should only have to do this once."
   ]
  },
  {
   "cell_type": "code",
   "execution_count": null,
   "metadata": {
    "scrolled": true
   },
   "outputs": [],
   "source": [
    "# Read in FASTQ_PASS nanopore data and see which reads align to any of the seqs to align to\n",
    "# NOTE- any reads aligning to more than one seq will be discarded\n",
    "\n",
    "print('Aligning reads to target sequences')\n",
    "aligned_reads = primo.analysis.run_analysis_functions.align_reads(seqs_to_align_dict, \n",
    "                                                                  INITIAL_POOL_DIR_PATH, \n",
    "                                                                  SCORE_THRESH, MAX_READ_LEN,\n",
    "                                                                 PRCNT_DATA)\n",
    "aligned_reads_text = f'Number of aligned reads (with duplicate reads):{len(aligned_reads)}'\n",
    "\n",
    "# Remove all reads that aligned to multiple sequences\n",
    "print('Removing all reads with multiple alignments')\n",
    "aligned_reads = primo.analysis.run_analysis_functions.remove_duplicate_reads(aligned_reads)\n",
    "aligned_reads = aligned_reads.drop(['index'], axis=1) # cleans up a stray column labeled 'index'\n",
    "cleaned_aligned_reads_text = f'Number of aligned reads (no duplicate reads):{len(aligned_reads)}'\n",
    "\n",
    "# Write dataframe to csv\n",
    "print('Writing aligned read data to csv')\n",
    "csv_name = f'{primo.analysis.run_analysis_functions.create_data_dir(date_label)}/baseline_pool_data.csv'\n",
    "aligned_reads.to_csv(csv_name)"
   ]
  },
  {
   "cell_type": "markdown",
   "metadata": {},
   "source": [
    "The cell below is to get you into the fastq_pass directory"
   ]
  },
  {
   "cell_type": "code",
   "execution_count": null,
   "metadata": {},
   "outputs": [],
   "source": [
    "print(os.getcwd())\n",
    "os.chdir('../../data/sequencing/20220907_1411_MN21390_FAU64496_dec56e17/fastq_pass')"
   ]
  },
  {
   "cell_type": "code",
   "execution_count": null,
   "metadata": {},
   "outputs": [],
   "source": [
    "print('Reading in .csv data')\n",
    "csv_name = '20220907_css_analysis/baseline_pool_data.csv'\n",
    "aligned_reads = pd.read_csv(csv_name)\n",
    "print(aligned_reads)\n",
    "# aligned_reads_text = f'Number of aligned reads (with duplicate reads):{len(aligned_reads)}'\n",
    "cleaned_aligned_reads_text = f'Number of aligned reads (no duplicate reads):{len(aligned_reads)}'\n",
    "\n",
    "\n",
    "print('Data is being analyzed')\n",
    "# Plot number of reads each sequence got\n",
    "barfig_name = primo.analysis.run_analysis_functions.plot_target_freq(aligned_reads, date_label)\n",
    "\n",
    "# Get a list of all the read lengths in the directory\n",
    "all_read_lengths_in_dir = primo.analysis.run_analysis_functions.get_read_lens()\n",
    "\n",
    "# Get a descriptive string of the total number of reads in the directory\n",
    "total_reads_str = primo.analysis.run_analysis_functions.get_total_dir_reads(all_read_lengths_in_dir)\n",
    "\n",
    "# Plot read length distribution for reads in FASTQ_PASS dir\n",
    "len_dist_name = primo.analysis.run_analysis_functions.plot_len_distribution(all_read_lengths_in_dir, date_label)\n",
    "# Plot read length distribution of reads length 0 to max_read_len\n",
    "len_dist_zoomed_name = primo.analysis.run_analysis_functions.plot_len_distribution_zoomed(all_read_lengths_in_dir, date_label, MAX_READ_LEN)\n",
    "\n",
    "# Make PDF and write data to it\n",
    "print('Making PDF (this is a slow process, give it a minute or two)')\n",
    "pdf = primo.analysis.run_analysis_functions.initialize_pdf_expt0(date_label)\n",
    "# text = total_reads_str + '\\n' + aligned_reads_text + '\\n' + cleaned_aligned_reads_text\n",
    "text = total_reads_str + '\\n' + cleaned_aligned_reads_text\n",
    "pdf.multi_cell(200,30, txt=text, align='L')\n",
    "\n",
    "default_image_width = 150\n",
    "default_image_height = 110\n",
    "pdf.image(barfig_name, w=default_image_width, h=default_image_height)\n",
    "pdf.image(len_dist_name, w=default_image_width, h=default_image_height)\n",
    "pdf.image(len_dist_zoomed_name, w=default_image_width, h=default_image_height)\n",
    "\n",
    "pdf.output(f'{primo.analysis.run_analysis_functions.create_data_dir(date_label)}/{date_label}_css_analysis_summary.pdf')\n"
   ]
  },
  {
   "cell_type": "markdown",
   "metadata": {},
   "source": [
    "## Analyze Similarity Search Run Data\n",
    "This analyzes run data where an alequot of the baseline pool has been queried with Cas9. "
   ]
  },
  {
   "cell_type": "markdown",
   "metadata": {},
   "source": [
    "Use the cell below to get into the `data/sequencing` directory"
   ]
  },
  {
   "cell_type": "code",
   "execution_count": null,
   "metadata": {},
   "outputs": [],
   "source": [
    "print(os.getcwd())"
   ]
  },
  {
   "cell_type": "code",
   "execution_count": 22,
   "metadata": {},
   "outputs": [],
   "source": [
    "EXPERIMENT_DIR = '20220909_1608_MN21390_FAU67022_4dc6e799'\n",
    "expt_date_label = EXPERIMENT_DIR.split('/')[-1].split('_')[0]\n",
    "\n",
    "PRCNT_DATA = 100 # the percent of fastq files you'd like to use for this data analysis\n",
    "#TODO make MIN_READ_LEN and update functions accordingly\n",
    "MAX_READ_LEN = 500\n",
    "\n",
    "QUERY = ['ACCGGTAAGGCACAGAAACG', 'cat'] # cat\n",
    "# QUERY = ['ACCTGTAAGGCACAGAAACG', 'lego]' # lego\n",
    "# QUERY = ['ATTTGCAAGGAACAAAAACG', 'building'] # building\n"
   ]
  },
  {
   "cell_type": "markdown",
   "metadata": {},
   "source": [
    "Use the cell below to make a dataframe where one column is the `Query`, one column is the `Target` (1 of the 457 options) and one is the `predicted_Cas9_cleavage_score` between the two (0 is minimum rate of cleavage, 1 is maximum rate of cleavage)"
   ]
  },
  {
   "cell_type": "code",
   "execution_count": 18,
   "metadata": {},
   "outputs": [],
   "source": [
    "def get_activation_score(seq1, seq2):\n",
    "    \"\"\"\n",
    "    Given two DNA sequences of length 20,\n",
    "    Returns a float between 0 and 1 of the Cas9 activity between them if one were gRNA and one were the DNA seq\n",
    "       Note that order doesn't matter, and 0 means minimum cleavage, 1 means max cleavage\n",
    "    \"\"\"\n",
    "    simulator = Simulator()\n",
    "    df = pd.DataFrame({\n",
    "        \"target_features\": [seq1],\n",
    "        \"query_features\": [seq2]\n",
    "    })\n",
    "    return simulator.simulate(df)[0] # this is a float \n",
    "\n",
    "# get all the cas sites from the seq_df dataframe\n",
    "cas_sites = seq_df['FeatureSequence'].unique()\n",
    "\n",
    "# make a list of cas9 activity scores\n",
    "cas9_activity = [get_activation_score(seq, QUERY[0]) for seq in cas_sites]\n",
    "\n",
    "# make list of query info to add to dataframe\n",
    "query_name = [QUERY[1]]*len(cas9_activity)\n",
    "query_seq = [QUERY[0]]*len(cas9_activity)\n",
    "\n",
    "# make the dataframe with all information\n",
    "zipped = list(zip(query_name, query_seq, cas_sites, cas9_activity))\n",
    "predicted_cas9_activity_df = pd.DataFrame(zipped, columns=['Query_Name', 'Query_Seq', 'Target_Seq', 'wtCas9_Predicted_Activity'])\n",
    "    "
   ]
  },
  {
   "cell_type": "code",
   "execution_count": 19,
   "metadata": {},
   "outputs": [
    {
     "data": {
      "text/html": [
       "<div>\n",
       "<style scoped>\n",
       "    .dataframe tbody tr th:only-of-type {\n",
       "        vertical-align: middle;\n",
       "    }\n",
       "\n",
       "    .dataframe tbody tr th {\n",
       "        vertical-align: top;\n",
       "    }\n",
       "\n",
       "    .dataframe thead th {\n",
       "        text-align: right;\n",
       "    }\n",
       "</style>\n",
       "<table border=\"1\" class=\"dataframe\">\n",
       "  <thead>\n",
       "    <tr style=\"text-align: right;\">\n",
       "      <th></th>\n",
       "      <th>Query_Name</th>\n",
       "      <th>Query_Seq</th>\n",
       "      <th>Target_Seq</th>\n",
       "      <th>wtCas9_Predicted_Activity</th>\n",
       "    </tr>\n",
       "  </thead>\n",
       "  <tbody>\n",
       "    <tr>\n",
       "      <th>0</th>\n",
       "      <td>cat</td>\n",
       "      <td>ACCGGTAAGGCACAGAAACG</td>\n",
       "      <td>ACCGGTAAGGCACAAAAACG</td>\n",
       "      <td>0.025195</td>\n",
       "    </tr>\n",
       "    <tr>\n",
       "      <th>1</th>\n",
       "      <td>cat</td>\n",
       "      <td>ACCGGTAAGGCACAGAAACG</td>\n",
       "      <td>ATTTGCAAGGAACAAAAACG</td>\n",
       "      <td>0.000200</td>\n",
       "    </tr>\n",
       "    <tr>\n",
       "      <th>2</th>\n",
       "      <td>cat</td>\n",
       "      <td>ACCGGTAAGGCACAGAAACG</td>\n",
       "      <td>ACCTGTAAGGCACAAAAACG</td>\n",
       "      <td>0.007386</td>\n",
       "    </tr>\n",
       "    <tr>\n",
       "      <th>3</th>\n",
       "      <td>cat</td>\n",
       "      <td>ACCGGTAAGGCACAGAAACG</td>\n",
       "      <td>AATTGCAAGGAACAAAAACG</td>\n",
       "      <td>0.000200</td>\n",
       "    </tr>\n",
       "    <tr>\n",
       "      <th>4</th>\n",
       "      <td>cat</td>\n",
       "      <td>ACCGGTAAGGCACAGAAACG</td>\n",
       "      <td>ACCGGTAAGGTACAAAAACG</td>\n",
       "      <td>0.002594</td>\n",
       "    </tr>\n",
       "    <tr>\n",
       "      <th>...</th>\n",
       "      <td>...</td>\n",
       "      <td>...</td>\n",
       "      <td>...</td>\n",
       "      <td>...</td>\n",
       "    </tr>\n",
       "    <tr>\n",
       "      <th>452</th>\n",
       "      <td>cat</td>\n",
       "      <td>ACCGGTAAGGCACAGAAACG</td>\n",
       "      <td>TCCGGTAAGGCACAGAAACG</td>\n",
       "      <td>1.000000</td>\n",
       "    </tr>\n",
       "    <tr>\n",
       "      <th>453</th>\n",
       "      <td>cat</td>\n",
       "      <td>ACCGGTAAGGCACAGAAACG</td>\n",
       "      <td>ACGGGTAAGGAACAAAAACG</td>\n",
       "      <td>0.001281</td>\n",
       "    </tr>\n",
       "    <tr>\n",
       "      <th>454</th>\n",
       "      <td>cat</td>\n",
       "      <td>ACCGGTAAGGCACAGAAACG</td>\n",
       "      <td>GGCGGTAAGGCACAAAAACG</td>\n",
       "      <td>0.023131</td>\n",
       "    </tr>\n",
       "    <tr>\n",
       "      <th>455</th>\n",
       "      <td>cat</td>\n",
       "      <td>ACCGGTAAGGCACAGAAACG</td>\n",
       "      <td>ACTTGCAAGGCACAGAAACG</td>\n",
       "      <td>0.016613</td>\n",
       "    </tr>\n",
       "    <tr>\n",
       "      <th>456</th>\n",
       "      <td>cat</td>\n",
       "      <td>ACCGGTAAGGCACAGAAACG</td>\n",
       "      <td>AGAGGTAAGGAACAGAAACG</td>\n",
       "      <td>0.032117</td>\n",
       "    </tr>\n",
       "  </tbody>\n",
       "</table>\n",
       "<p>457 rows × 4 columns</p>\n",
       "</div>"
      ],
      "text/plain": [
       "    Query_Name             Query_Seq            Target_Seq  \\\n",
       "0          cat  ACCGGTAAGGCACAGAAACG  ACCGGTAAGGCACAAAAACG   \n",
       "1          cat  ACCGGTAAGGCACAGAAACG  ATTTGCAAGGAACAAAAACG   \n",
       "2          cat  ACCGGTAAGGCACAGAAACG  ACCTGTAAGGCACAAAAACG   \n",
       "3          cat  ACCGGTAAGGCACAGAAACG  AATTGCAAGGAACAAAAACG   \n",
       "4          cat  ACCGGTAAGGCACAGAAACG  ACCGGTAAGGTACAAAAACG   \n",
       "..         ...                   ...                   ...   \n",
       "452        cat  ACCGGTAAGGCACAGAAACG  TCCGGTAAGGCACAGAAACG   \n",
       "453        cat  ACCGGTAAGGCACAGAAACG  ACGGGTAAGGAACAAAAACG   \n",
       "454        cat  ACCGGTAAGGCACAGAAACG  GGCGGTAAGGCACAAAAACG   \n",
       "455        cat  ACCGGTAAGGCACAGAAACG  ACTTGCAAGGCACAGAAACG   \n",
       "456        cat  ACCGGTAAGGCACAGAAACG  AGAGGTAAGGAACAGAAACG   \n",
       "\n",
       "     wtCas9_Predicted_Activity  \n",
       "0                     0.025195  \n",
       "1                     0.000200  \n",
       "2                     0.007386  \n",
       "3                     0.000200  \n",
       "4                     0.002594  \n",
       "..                         ...  \n",
       "452                   1.000000  \n",
       "453                   0.001281  \n",
       "454                   0.023131  \n",
       "455                   0.016613  \n",
       "456                   0.032117  \n",
       "\n",
       "[457 rows x 4 columns]"
      ]
     },
     "execution_count": 19,
     "metadata": {},
     "output_type": "execute_result"
    }
   ],
   "source": [
    "predicted_cas9_activity_df"
   ]
  },
  {
   "cell_type": "markdown",
   "metadata": {},
   "source": [
    "### Read in baseline pool information"
   ]
  },
  {
   "cell_type": "code",
   "execution_count": 21,
   "metadata": {},
   "outputs": [
    {
     "name": "stdout",
     "output_type": "stream",
     "text": [
      "/tf/primo/notebooks/04_experiments\n",
      "/tf/primo/data/sequencing\n"
     ]
    }
   ],
   "source": [
    "# make sure you're in the `data/sequencing` dir\n",
    "print(os.getcwd())\n",
    "os.chdir('../../data/sequencing')\n",
    "print(os.getcwd()) # the output of this should be `/tf/primo/data/sequencing`\n",
    "\n",
    "INITIAL_POOL_INFO = '20220907_1411_MN21390_FAU64496_dec56e17/fastq_pass/20220907_css_analysis/baseline_pool_data.csv'\n",
    "unmodified_df = pd.read_csv(INITIAL_POOL_INFO)"
   ]
  },
  {
   "cell_type": "markdown",
   "metadata": {},
   "source": [
    "### Read in new run information and align \n",
    "You can skip the next two cells if you've already run them for this run"
   ]
  },
  {
   "cell_type": "code",
   "execution_count": null,
   "metadata": {},
   "outputs": [],
   "source": [
    "# Unzip all fastq files from FASTQ_PASS dir\n",
    "print('Unzipping Fastq files')\n",
    "print(os.getcwd())\n",
    "primo.analysis.run_analysis_functions.gz_extract(EXPERIMENT_DIR)\n",
    "\n",
    "# Read in FASTQ_PASS nanopore data and see which reads align to any of the seqs to align to\n",
    "# NOTE- any read aligning to more than seq will eventually be discarded\n",
    "print('Aligning reads to target sequences')\n",
    "aligned_reads = primo.analysis.run_analysis_functions.align_reads(seqs_to_align_dict, EXPERIMENT_DIR, SCORE_THRESH,\n",
    "                                                                 MAX_READ_LEN, PRCNT_DATA)\n",
    "aligned_reads_text = f'Number of aligned reads (with duplicate alignments):{len(aligned_reads)}'\n",
    "\n",
    "# Remove all reads that aligned to multiple sequences\n",
    "print('Removing all reads with multiple alignments')\n",
    "aligned_reads = primo.analysis.run_analysis_functions.remove_duplicate_reads(aligned_reads)\n",
    "cleaned_aligned_reads_text = f'Number of aligned reads (no duplicate alignments):{len(aligned_reads)}'\n"
   ]
  },
  {
   "cell_type": "code",
   "execution_count": null,
   "metadata": {},
   "outputs": [],
   "source": [
    "# Write dataframe to csv\n",
    "print(os.getcwd())\n",
    "print('Writing aligned read data to csv')\n",
    "csv_name = f'{primo.analysis.run_analysis_functions.create_data_dir(expt_date_label)}/read_data.csv'\n",
    "aligned_reads.to_csv(csv_name)"
   ]
  },
  {
   "cell_type": "markdown",
   "metadata": {},
   "source": [
    "### Analyze run information"
   ]
  },
  {
   "cell_type": "code",
   "execution_count": 40,
   "metadata": {},
   "outputs": [
    {
     "name": "stdout",
     "output_type": "stream",
     "text": [
      "Reading in alignment data from .csv\n",
      "/tf/primo/data/sequencing/20220909_1608_MN21390_FAU67022_4dc6e799/fastq_pass\n",
      "       Unnamed: 0  index                               read_id  highest_score  \\\n",
      "0               0      0  0af39dc5-cd1d-4f30-8dcc-b94cf03206ef           20.0   \n",
      "1               1      1  df031195-1c0b-4e7e-9d7f-2144269fb2aa           19.0   \n",
      "2               2      0  72f1b988-91d0-4578-a78b-6e8828604726           18.0   \n",
      "3               3      0  d4fe383e-fcb6-4352-b056-a3e0994d20f0           19.0   \n",
      "4               4      0  06113b27-b31c-4dd2-8177-46532f456bfb           20.0   \n",
      "...           ...    ...                                   ...            ...   \n",
      "10838       10842      2  19a01fdd-5834-4a0b-951d-64b092833e5e           20.0   \n",
      "10839       10843      3  a49b70bf-b4a9-4ff5-b2ab-9dec687b342e           20.0   \n",
      "10840       10844      4  5a7eae81-ae25-4585-8b18-1d0d0c34a0d0           18.0   \n",
      "10841       10845      5  99cb93ec-9379-4b41-a857-315dca84f186           20.0   \n",
      "10842       10846      6  92bc7353-6ad3-44e2-921d-23f3fe36a5c6           20.0   \n",
      "\n",
      "                                                     seq  query  \n",
      "0      GTTATGCTTCGTTCAGTTACGTATTGCTTACTCGCTGCGTGCAATT...    0.0  \n",
      "1      GATGTGCTTCGTTCAGTTTACGTGTGCTTACTCGCTGCGTACGGTT...    0.0  \n",
      "2      AAAAAAAAAAAAAAAAAAAAAAAAAAAAAAAAAAAGGTTTTTTTTT...    0.0  \n",
      "3      AAAAAAAAAAAAAATCGGTGTACTTCGTTCAGTTACGTATTGCTTA...    0.0  \n",
      "4      CGATGTGCTTCGTTGAGTTACGTGTGCTTACTCGCTGCGTGCAATT...    0.0  \n",
      "...                                                  ...    ...  \n",
      "10838  TTATACTTCGTTCAGATTTACGTATTGCCGCAAAGCTTGCGTGCAA...  455.0  \n",
      "10839  CGGTACTTCGTTCAGTTACGTATTGCTTACTCGCTGCGTGCAATTT...  455.0  \n",
      "10840  GTTATACTTCGTTCAATTCGTATTGCTAGAAACGTGGCGCTCGGGC...  455.0  \n",
      "10841  AAAAAAAATCGGTGGCACTTCGTTCAGTTACGTATTGCTTACTCGC...  455.0  \n",
      "10842  CGGTACTTCGTTCAGTTACGTATTGCCCCACTCGCTGCGTGCAATT...  455.0  \n",
      "\n",
      "[10843 rows x 6 columns]\n",
      "Data is being analyzed\n"
     ]
    }
   ],
   "source": [
    "print('Reading in alignment data from .csv')\n",
    "csv_name = f'{expt_date_label}_css_analysis/read_data.csv'\n",
    "# print(os.getcwd())\n",
    "# os.chdir('fastq_pass/')\n",
    "print(os.getcwd()) # this should be /tf/primo/data/sequencing/2022XXXX_minion_run_label_XXXXXXXX/fastq_pass\n",
    "aligned_reads = pd.read_csv(csv_name)\n",
    "print(aligned_reads)\n",
    "\n",
    "print('Data is being analyzed')\n",
    "# Plot raw number of reads each sequence got\n",
    "barfig_name = primo.analysis.run_analysis_functions.plot_target_freq(aligned_reads, expt_date_label)\n",
    "\n",
    "# Get a list of all the read lengths in the directory\n",
    "all_read_lengths_in_dir = primo.analysis.run_analysis_functions.get_read_lens() # assumed you're in fastq_pass dir\n",
    "\n",
    "# Get a descriptive string of the total number of reads in the directory\n",
    "total_reads_str = primo.analysis.run_analysis_functions.get_total_dir_reads(all_read_lengths_in_dir)\n",
    "\n",
    "# Plot read length distribution for reads in FASTQ_PASS dir\n",
    "len_dist_name = primo.analysis.run_analysis_functions.plot_len_distribution(all_read_lengths_in_dir, \n",
    "                                                                            expt_date_label)\n",
    "\n",
    "# Plot read length distribution of reads length 0 to max_read_len\n",
    "len_dist_zoomed_name = primo.analysis.run_analysis_functions.plot_len_distribution_zoomed(all_read_lengths_in_dir, \n",
    "                                                                                          expt_date_label,\n",
    "                                                                                         MAX_READ_LEN)\n",
    "\n",
    "# Calculate enrichment score and plot those results\n",
    "initial_ratios = primo.analysis.run_analysis_functions.calculate_enrichment_scores(unmodified_df)\n",
    "expt_ratios = primo.analysis.run_analysis_functions.calculate_enrichment_scores(aligned_reads)\n",
    "enrichment_score_barfig_name = primo.analysis.run_analysis_functions.plot_es_barplot(expt_ratios, \n",
    "                                                                                     initial_ratios, \n",
    "                                                                                     expt_date_label)\n",
    "\n",
    "# TODO \n",
    "# MAKE A BAR PLOT SHOWING THE QUERY IN A DIFFERENT COLOR\n",
    "# MAKE A PLOT OF PREDICTION VS REALITY"
   ]
  },
  {
   "cell_type": "code",
   "execution_count": null,
   "metadata": {},
   "outputs": [],
   "source": [
    "# Make PDF and write data to it\n",
    "print('Making PDF (this is a slow process, give it a minute or two)')\n",
    "pdf = initialize_pdf(date_label)\n",
    "text = total_reads_str + '\\n' + aligned_reads_text + '\\n' + cleaned_aligned_reads_text\n",
    "pdf.multi_cell(200,30, txt=text, align='L')\n",
    "\n",
    "default_image_width = 150\n",
    "default_image_height = 110\n",
    "pdf.image(barfig_name, w=default_image_width, h=default_image_height)\n",
    "pdf.image(enrichment_score_barfig_name, w=default_image_width, h=default_image_height)\n",
    "pdf.image(len_dist_name, w=default_image_width, h=default_image_height)\n",
    "pdf.image(len_dist_zoomed_name, w=default_image_width, h=default_image_height)\n",
    "\n",
    "pdf.output(f'{create_data_dir(CURRENT_DIR, date_label)}/{date_label}_css_analysis_summary.pdf')"
   ]
  },
  {
   "cell_type": "code",
   "execution_count": null,
   "metadata": {},
   "outputs": [],
   "source": []
  }
 ],
 "metadata": {
  "kernelspec": {
   "display_name": "Python 3",
   "language": "python",
   "name": "python3"
  },
  "language_info": {
   "codemirror_mode": {
    "name": "ipython",
    "version": 3
   },
   "file_extension": ".py",
   "mimetype": "text/x-python",
   "name": "python",
   "nbconvert_exporter": "python",
   "pygments_lexer": "ipython3",
   "version": "3.6.9"
  }
 },
 "nbformat": 4,
 "nbformat_minor": 2
}
