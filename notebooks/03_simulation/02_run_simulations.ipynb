{
 "cells": [
  {
   "cell_type": "markdown",
   "metadata": {},
   "source": [
    "# Run Simulations\n",
    "\n",
    "Given an encoded dataset of targets and queries, run simulations."
   ]
  },
  {
   "cell_type": "code",
   "execution_count": 1,
   "metadata": {},
   "outputs": [],
   "source": [
    "# TODO: Consider modifying this to simualate the nucleaseq output score https://github.com/uwmisl/cas9-similarity-search/issues/3\n",
    "\n",
    "import numpy as np\n",
    "import pandas as pd\n",
    "\n",
    "import primo.models\n",
    "\n",
    "#import cupyck\n",
    "\n",
    "from tqdm.notebook import tqdm\n",
    "\n",
    "QUERY = 'callie_janelle'"
   ]
  },
  {
   "cell_type": "code",
   "execution_count": 5,
   "metadata": {},
   "outputs": [],
   "source": [
    "# hosts = [\n",
    "#     (\"localhost\", 2046),\n",
    "# ]\n",
    "# client = cupyck.Client(hosts)\n",
    "# simulator = primo.models.Simulator(client)\n",
    "simulator = primo.models.Simulator()"
   ]
  },
  {
   "cell_type": "code",
   "execution_count": 6,
   "metadata": {
    "scrolled": false
   },
   "outputs": [],
   "source": [
    "#target_seqs = pd.read_hdf('/tf/primo/data/extended_targets/feature_seqs.h5')\n",
    "target_seqs = pd.read_hdf('/tf/primo/data/targets/feature_seqs.h5')\n",
    "query_seqs = pd.read_hdf('/tf/primo/data/queries/feature_seqs.h5')"
   ]
  },
  {
   "cell_type": "code",
   "execution_count": 8,
   "metadata": {},
   "outputs": [
    {
     "name": "stdout",
     "output_type": "stream",
     "text": [
      "748\n",
      "748 / 1743042 (0.0%)\n"
     ]
    }
   ],
   "source": [
    "n_unique = len(target_seqs['FeatureSequence'].unique())\n",
    "n_total = len(target_seqs['FeatureSequence'])\n",
    "print(n_unique)\n",
    "print(f\"{n_unique} / {n_total} ({float(n_unique) * 100 / n_total:0.1f}%)\")"
   ]
  },
  {
   "cell_type": "code",
   "execution_count": 9,
   "metadata": {},
   "outputs": [],
   "source": [
    "pairs = (target_seqs\n",
    " .rename(columns={'FeatureSequence':'target_features'})\n",
    " .assign(query_features = query_seqs.loc[QUERY].FeatureSequence)\n",
    ")"
   ]
  },
  {
   "cell_type": "code",
   "execution_count": 10,
   "metadata": {},
   "outputs": [
    {
     "data": {
      "text/html": [
       "<div>\n",
       "<style scoped>\n",
       "    .dataframe tbody tr th:only-of-type {\n",
       "        vertical-align: middle;\n",
       "    }\n",
       "\n",
       "    .dataframe tbody tr th {\n",
       "        vertical-align: top;\n",
       "    }\n",
       "\n",
       "    .dataframe thead th {\n",
       "        text-align: right;\n",
       "    }\n",
       "</style>\n",
       "<table border=\"1\" class=\"dataframe\">\n",
       "  <thead>\n",
       "    <tr style=\"text-align: right;\">\n",
       "      <th></th>\n",
       "      <th>target_features</th>\n",
       "      <th>query_features</th>\n",
       "    </tr>\n",
       "  </thead>\n",
       "  <tbody>\n",
       "    <tr>\n",
       "      <th>000002b66c9c498e</th>\n",
       "      <td>ATGCTGTGATCACCCATCCC</td>\n",
       "      <td>ATCGCGTGATCAACCACCGC</td>\n",
       "    </tr>\n",
       "    <tr>\n",
       "      <th>000002b97e5471a0</th>\n",
       "      <td>AGACTGTGAAAAACCATCCC</td>\n",
       "      <td>ATCGCGTGATCAACCACCGC</td>\n",
       "    </tr>\n",
       "    <tr>\n",
       "      <th>000002c707c9895e</th>\n",
       "      <td>ATACTGTGATCAACCATCCC</td>\n",
       "      <td>ATCGCGTGATCAACCACCGC</td>\n",
       "    </tr>\n",
       "    <tr>\n",
       "      <th>0000048549557964</th>\n",
       "      <td>GGCCTGTGAAAACCCATCGC</td>\n",
       "      <td>ATCGCGTGATCAACCACCGC</td>\n",
       "    </tr>\n",
       "    <tr>\n",
       "      <th>000004f4400f6ec5</th>\n",
       "      <td>CTGCTGTGATCACCCACCCC</td>\n",
       "      <td>ATCGCGTGATCAACCACCGC</td>\n",
       "    </tr>\n",
       "    <tr>\n",
       "      <th>...</th>\n",
       "      <td>...</td>\n",
       "      <td>...</td>\n",
       "    </tr>\n",
       "    <tr>\n",
       "      <th>ffffd9716fd38279</th>\n",
       "      <td>ATAGTGTGATAACCCATCCC</td>\n",
       "      <td>ATCGCGTGATCAACCACCGC</td>\n",
       "    </tr>\n",
       "    <tr>\n",
       "      <th>ffffda81903d6bb7</th>\n",
       "      <td>AGGCTGTGATCACCCACCCC</td>\n",
       "      <td>ATCGCGTGATCAACCACCGC</td>\n",
       "    </tr>\n",
       "    <tr>\n",
       "      <th>ffffeac7d2f37489</th>\n",
       "      <td>GGCCTGTGAAAACCCATCCC</td>\n",
       "      <td>ATCGCGTGATCAACCACCGC</td>\n",
       "    </tr>\n",
       "    <tr>\n",
       "      <th>ffffebddbb8bba21</th>\n",
       "      <td>ATACTGTGATCAACCATCGC</td>\n",
       "      <td>ATCGCGTGATCAACCACCGC</td>\n",
       "    </tr>\n",
       "    <tr>\n",
       "      <th>fffffdaec951185d</th>\n",
       "      <td>AGGCTGTGATAACCCACCGC</td>\n",
       "      <td>ATCGCGTGATCAACCACCGC</td>\n",
       "    </tr>\n",
       "  </tbody>\n",
       "</table>\n",
       "<p>1743042 rows × 2 columns</p>\n",
       "</div>"
      ],
      "text/plain": [
       "                       target_features        query_features\n",
       "000002b66c9c498e  ATGCTGTGATCACCCATCCC  ATCGCGTGATCAACCACCGC\n",
       "000002b97e5471a0  AGACTGTGAAAAACCATCCC  ATCGCGTGATCAACCACCGC\n",
       "000002c707c9895e  ATACTGTGATCAACCATCCC  ATCGCGTGATCAACCACCGC\n",
       "0000048549557964  GGCCTGTGAAAACCCATCGC  ATCGCGTGATCAACCACCGC\n",
       "000004f4400f6ec5  CTGCTGTGATCACCCACCCC  ATCGCGTGATCAACCACCGC\n",
       "...                                ...                   ...\n",
       "ffffd9716fd38279  ATAGTGTGATAACCCATCCC  ATCGCGTGATCAACCACCGC\n",
       "ffffda81903d6bb7  AGGCTGTGATCACCCACCCC  ATCGCGTGATCAACCACCGC\n",
       "ffffeac7d2f37489  GGCCTGTGAAAACCCATCCC  ATCGCGTGATCAACCACCGC\n",
       "ffffebddbb8bba21  ATACTGTGATCAACCATCGC  ATCGCGTGATCAACCACCGC\n",
       "fffffdaec951185d  AGGCTGTGATAACCCACCGC  ATCGCGTGATCAACCACCGC\n",
       "\n",
       "[1743042 rows x 2 columns]"
      ]
     },
     "execution_count": 10,
     "metadata": {},
     "output_type": "execute_result"
    }
   ],
   "source": [
    "pairs"
   ]
  },
  {
   "cell_type": "code",
   "execution_count": 11,
   "metadata": {},
   "outputs": [],
   "source": [
    "# 4,000 here is just a memory-management batch size so that each progress chunk reports period of time.\n",
    "split_size = 4_000\n",
    "nsplits = len(pairs) / split_size\n",
    "splits = np.array_split(pairs, nsplits)"
   ]
  },
  {
   "cell_type": "code",
   "execution_count": 12,
   "metadata": {},
   "outputs": [
    {
     "data": {
      "application/vnd.jupyter.widget-view+json": {
       "model_id": "f46be4a7f5764a21aceb7dfa1658317c",
       "version_major": 2,
       "version_minor": 0
      },
      "text/plain": [
       "  0%|          | 0/435 [00:00<?, ?it/s]"
      ]
     },
     "metadata": {},
     "output_type": "display_data"
    }
   ],
   "source": [
    "result_store = pd.HDFStore(f'/tf/primo/data/simulation/extended_targets/{QUERY}.h5', complevel=9, mode='w')\n",
    "try:\n",
    "    for split in tqdm(splits):\n",
    "        results = simulator.simulate(split)\n",
    "        result_store.append('df', pd.DataFrame({'duplex_yield': results}, index=split.index))\n",
    "finally:\n",
    "    result_store.close()"
   ]
  },
  {
   "cell_type": "code",
   "execution_count": null,
   "metadata": {},
   "outputs": [],
   "source": []
  }
 ],
 "metadata": {
  "kernelspec": {
   "display_name": "Python 3",
   "language": "python",
   "name": "python3"
  },
  "language_info": {
   "codemirror_mode": {
    "name": "ipython",
    "version": 3
   },
   "file_extension": ".py",
   "mimetype": "text/x-python",
   "name": "python",
   "nbconvert_exporter": "python",
   "pygments_lexer": "ipython3",
   "version": "3.6.9"
  }
 },
 "nbformat": 4,
 "nbformat_minor": 2
}
