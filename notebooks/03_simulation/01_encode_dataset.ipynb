{
 "cells": [
  {
   "cell_type": "markdown",
   "metadata": {},
   "source": [
    "# Encode Datasets\n",
    "\n",
    "This notebook takes as input a trained encoder, target set, and query set, and saves encoded targets & queries, as well the query-target distance matrix."
   ]
  },
  {
   "cell_type": "code",
   "execution_count": 3,
   "metadata": {},
   "outputs": [
    {
     "output_type": "error",
     "ename": "SyntaxError",
     "evalue": "invalid syntax (<ipython-input-3-6c4b858fcf52>, line 5)",
     "traceback": [
      "\u001b[0;36m  File \u001b[0;32m\"<ipython-input-3-6c4b858fcf52>\"\u001b[0;36m, line \u001b[0;32m5\u001b[0m\n\u001b[0;31m    import .primo.models\u001b[0m\n\u001b[0m           ^\u001b[0m\n\u001b[0;31mSyntaxError\u001b[0m\u001b[0;31m:\u001b[0m invalid syntax\n"
     ]
    }
   ],
   "source": [
    "import numpy as np\n",
    "import tensorflow as tf\n",
    "import pandas as pd\n",
    "\n",
    "import primo.models\n",
    "import primo.datasets\n",
    "import primo.tools.filepath as filepaths\n",
    "\n",
    "from tqdm.notebook import tqdm"
   ]
  },
  {
   "cell_type": "code",
   "execution_count": null,
   "metadata": {},
   "outputs": [],
   "source": [
    "encoder_filepath = get_encoder_model_path(isDocker=True)\n",
    "encoder = primo.models.Encoder('/tf/primo/data/models/encoder-model.h5')\n",
    "\n",
    "print(filepaths.get_encoder_model_path(True))\n",
    "\n"
   ]
  },
  {
   "cell_type": "markdown",
   "metadata": {},
   "source": [
    "### Encode Queries\n",
    "This code loads the query features, encodes them to DNA sequences, and saves the result."
   ]
  },
  {
   "cell_type": "code",
   "execution_count": null,
   "metadata": {},
   "outputs": [],
   "source": [
    "query_features_filepath = get_query_features_path(isDocker=True)\n",
    "query_features = pd.read_hdf(query_features_filepath)"
   ]
  },
  {
   "cell_type": "code",
   "execution_count": null,
   "metadata": {},
   "outputs": [],
   "source": [
    "query_sequence_save_path = get_encoded_query_sequences_path(isDocker=True)\n",
    "query_seqs = encoder.encode_feature_seqs(query_features)\n",
    "pd.DataFrame(\n",
    "    query_seqs, index=query_features.index, columns=['FeatureSequence']\n",
    ").to_hdf(\n",
    "    query_sequence_save_path, key='df', mode='w'\n",
    ")"
   ]
  },
  {
   "cell_type": "markdown",
   "metadata": {},
   "source": [
    "### Encode Target Set\n",
    "This code loads the target set's features, calculates distances to each query, encodes them to DNA sequences, and saves the result."
   ]
  },
  {
   "cell_type": "code",
   "execution_count": null,
   "metadata": {},
   "outputs": [],
   "source": [
    "# Memory-mapped file that caches the distances between targets and queries\n",
    "distance_store_path = get_distance_store_path(isDocker=True)\n",
    "dist_store = pd.HDFStore(distance_store_path, complevel=9, mode='w')\n",
    "\n",
    "# Memory-mapped file that stores the DNA sequence encodings of the target features.\n",
    "sequence_store_path = get_sequence_store_path(isDocker=True)\n",
    "seq_store = pd.HDFStore(sequence_store_path, complevel=9, mode='w')\n",
    "\n",
    "try:\n",
    "    # Target images are split up across 16 files.\n",
    "    # Because these files are so large, and can't all be stored into memory on a single machine, there's some low-level memory-management wizardly happening below.\n",
    "    prefixes = [ \"%x\"%i for i in range(16) ]\n",
    "    for prefix in tqdm(prefixes):\n",
    "        target_feature_path = get_target_feature_path(prefix, isDocker=True)\n",
    "        target_features = pd.read_hdf(target_feature_path)\n",
    "\n",
    "        # Dictionary that maps queries to euclidean distances for every pairing of query and target.\n",
    "        distances = {}\n",
    "        for query_id, query in query_features.iterrows():\n",
    "            # Calculuate the Euclidean distance between each query and target.\n",
    "            distances[query_id] = np.sqrt(np.square(target_features.values - query.values).sum(1))\n",
    "\n",
    "        df = pd.DataFrame(distances, index=target_features.index)\n",
    "        dist_store.append('df', df)\n",
    "\n",
    "        # Low-level memory mangement\n",
    "        del df, distances\n",
    "        \n",
    "        target_seqs = encoder.encode_feature_seqs(target_features)\n",
    "        df = pd.DataFrame(target_seqs, index=target_features.index, columns=['FeatureSequence'])\n",
    "        seq_store.append('df', df)\n",
    "        del df, target_seqs\n",
    "        \n",
    "        del target_features\n",
    "\n",
    "finally:\n",
    "    dist_store.close()\n",
    "    seq_store.close()"
   ]
  },
  {
   "cell_type": "markdown",
   "metadata": {},
   "source": [
    "### Encode Extended Target Set\n",
    "This code loads the extended target set's features, encodes them to DNA sequences, calculates distances to each query, and saves the result."
   ]
  },
  {
   "cell_type": "code",
   "execution_count": null,
   "metadata": {},
   "outputs": [],
   "source": [
    "# Images from the full set of ~9 million images that are not used in either the\n",
    "# \"target\" set or the \"train\" set. These are not hosted by the CVDF.\n",
    "\n",
    "distance_store_path = get_extended_target_distance_store_path(isDocker=True)\n",
    "dist_store = pd.HDFStore(distance_store_path, complevel=9, mode='w')\n",
    "\n",
    "sequence_store_path = get_extended_sequence_store_path(isDocker=True)\n",
    "seq_store = pd.HDFStore(sequence_store_path, complevel=9, mode='w')\n",
    "\n",
    "try:\n",
    "    # Note: Prefixes are lower-cased hexidecimal (e.g. '4b').\n",
    "    prefixes = [ \"%x\"%i for i in range(16) ]\n",
    "    for prefix in tqdm(prefixes):\n",
    "        target_features = get_extended_target_feature_path(prefix, isDocker=True)\n",
    "\n",
    "        distances = {}\n",
    "        for query_id, query in query_features.iterrows():\n",
    "            distances[query_id] = np.sqrt(np.square(target_features.values - query.values).sum(1))\n",
    "\n",
    "        df = pd.DataFrame(distances, index=target_features.index)\n",
    "        dist_store.append('df', df)\n",
    "        del df, distances\n",
    "        \n",
    "        target_seqs = encoder.encode_feature_seqs(target_features)\n",
    "        df = pd.DataFrame(target_seqs, index=target_features.index, columns=['FeatureSequence'])\n",
    "        seq_store.append('df', df)\n",
    "        del df, target_seqs\n",
    "        \n",
    "        del target_features\n",
    "\n",
    "finally:\n",
    "    dist_store.close()\n",
    "    seq_store.close()"
   ]
  },
  {
   "cell_type": "code",
   "execution_count": null,
   "metadata": {},
   "outputs": [],
   "source": []
  }
 ],
 "metadata": {
  "kernelspec": {
   "name": "python3710jvsc74a57bd0eb9e4db7e5b7dfca38c12603fee2a9f600c0baeaf6bd9b39f97021c494399c34",
   "display_name": "Python 3.7.10 64-bit"
  },
  "language_info": {
   "codemirror_mode": {
    "name": "ipython",
    "version": 2
   },
   "file_extension": ".py",
   "mimetype": "text/x-python",
   "name": "python",
   "nbconvert_exporter": "python",
   "pygments_lexer": "ipython2",
   "version": "3.7.10"
  }
 },
 "nbformat": 4,
 "nbformat_minor": 2
}