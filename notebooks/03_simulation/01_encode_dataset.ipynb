{
 "cells": [
  {
   "cell_type": "markdown",
   "metadata": {},
   "source": [
    "# Encode Datasets\n",
    "\n",
    "This notebook takes as input a trained encoder, target set, and query set, and saves encoded targets & queries, as well the query-target distance matrix."
   ]
  },
  {
   "cell_type": "code",
   "execution_count": 1,
   "metadata": {},
   "outputs": [],
   "source": [
    "import numpy as np\n",
    "import tensorflow as tf\n",
    "import pandas as pd\n",
    "\n",
    "import primo.tools.sequences as seqtools\n",
    "import primo.models\n",
    "import primo.datasets\n",
    "import primo.tools.filepath as filepaths\n",
    "\n",
    "from tqdm.notebook import tqdm"
   ]
  },
  {
   "cell_type": "code",
   "execution_count": 2,
   "metadata": {},
   "outputs": [
    {
     "name": "stdout",
     "output_type": "stream",
     "text": [
      "WARNING:tensorflow:No training configuration found in the save file, so the model was *not* compiled. Compile it manually.\n"
     ]
    }
   ],
   "source": [
    "encoder = tf.keras.models.load_model('/tf/primo/data/models/encoder_singlesite_model.h5')\n",
    "encoder.compile()"
   ]
  },
  {
   "cell_type": "markdown",
   "metadata": {},
   "source": [
    "### Encode Queries\n",
    "This code loads the query features, encodes them to DNA sequences, and saves the result."
   ]
  },
  {
   "cell_type": "code",
   "execution_count": 3,
   "metadata": {},
   "outputs": [],
   "source": [
    "query_features_filepath = filepaths.get_query_features_path(isDocker=True)\n",
    "query_features = pd.read_hdf(query_features_filepath)"
   ]
  },
  {
   "cell_type": "code",
   "execution_count": 4,
   "metadata": {},
   "outputs": [],
   "source": [
    "query_sequence_save_path = filepaths.get_encoded_query_sequences_path(isDocker=True)\n",
    "query_seqs = seqtools.onehots_to_seqs(encoder.predict(query_features))\n",
    "pd.DataFrame(\n",
    "    query_seqs, index=query_features.index, columns=['FeatureSequence']\n",
    ").to_hdf(\n",
    "    query_sequence_save_path, key='df', mode='w'\n",
    ")"
   ]
  },
  {
   "cell_type": "markdown",
   "metadata": {},
   "source": [
    "### Encode Target Set\n",
    "This code loads the target set's features, calculates distances to each query, encodes them to DNA sequences, and saves the result."
   ]
  },
  {
   "cell_type": "code",
   "execution_count": 5,
   "metadata": {},
   "outputs": [
    {
     "data": {
      "application/vnd.jupyter.widget-view+json": {
       "model_id": "ff4126dd4fbb4bd8b8782fca82452b5a",
       "version_major": 2,
       "version_minor": 0
      },
      "text/plain": [
       "  0%|          | 0/16 [00:00<?, ?it/s]"
      ]
     },
     "metadata": {},
     "output_type": "display_data"
    }
   ],
   "source": [
    "# Memory-mapped file that caches the distances between targets and queries\n",
    "distance_store_path = filepaths.get_distance_store_path(isDocker=True)\n",
    "dist_store = pd.HDFStore(distance_store_path, complevel=9, mode='w')\n",
    "\n",
    "# Memory-mapped file that stores the DNA sequence encodings of the target features.\n",
    "sequence_store_path = filepaths.get_sequence_store_path(isDocker=True)\n",
    "seq_store = pd.HDFStore(sequence_store_path, complevel=9, mode='w')\n",
    "\n",
    "try:\n",
    "    # Target images are split up across 16 files.\n",
    "    # Because these files are so large, and can't all be stored into memory on a single machine, there's some low-level memory-management wizardly happening below.\n",
    "    prefixes = [ \"%x\"%i for i in range(16) ]\n",
    "    for prefix in tqdm(prefixes):\n",
    "        target_feature_path = filepaths.get_target_feature_path(prefix, isDocker=True)\n",
    "        target_features = pd.read_hdf(target_feature_path)\n",
    "\n",
    "        # Dictionary that maps queries to euclidean distances for every pairing of query and target.\n",
    "        distances = {}\n",
    "        for query_id, query in query_features.iterrows():\n",
    "            # Calculuate the Euclidean distance between each query and target.\n",
    "            distances[query_id] = np.sqrt(np.square(target_features.values - query.values).sum(1))\n",
    "\n",
    "        df = pd.DataFrame(distances, index=target_features.index)\n",
    "        dist_store.append('df', df)\n",
    "\n",
    "        # Low-level memory mangement\n",
    "        del df, distances\n",
    "        \n",
    "#         target_seqs = encoder.encode_feature_seqs(target_features)\n",
    "        target_seqs = seqtools.onehots_to_seqs(encoder.predict(target_features))\n",
    "        df = pd.DataFrame(target_seqs, index=target_features.index, columns=['FeatureSequence'])\n",
    "        seq_store.append('df', df)\n",
    "        del df, target_seqs\n",
    "        \n",
    "        del target_features\n",
    "\n",
    "finally:\n",
    "    dist_store.close()\n",
    "    seq_store.close()"
   ]
  },
  {
   "cell_type": "markdown",
   "metadata": {},
   "source": [
    "### Encode Extended Target Set\n",
    "This code loads the extended target set's features, encodes them to DNA sequences, calculates distances to each query, and saves the result."
   ]
  },
  {
   "cell_type": "code",
   "execution_count": 6,
   "metadata": {},
   "outputs": [
    {
     "ename": "NameError",
     "evalue": "name 'get_extended_target_distance_store_path' is not defined",
     "output_type": "error",
     "traceback": [
      "\u001b[0;31m---------------------------------------------------------------------------\u001b[0m",
      "\u001b[0;31mNameError\u001b[0m                                 Traceback (most recent call last)",
      "\u001b[0;32m<ipython-input-6-977ab05d6389>\u001b[0m in \u001b[0;36m<module>\u001b[0;34m\u001b[0m\n\u001b[1;32m      2\u001b[0m \u001b[0;31m# \"target\" set or the \"train\" set. These are not hosted by the CVDF.\u001b[0m\u001b[0;34m\u001b[0m\u001b[0;34m\u001b[0m\u001b[0;34m\u001b[0m\u001b[0m\n\u001b[1;32m      3\u001b[0m \u001b[0;34m\u001b[0m\u001b[0m\n\u001b[0;32m----> 4\u001b[0;31m \u001b[0mdistance_store_path\u001b[0m \u001b[0;34m=\u001b[0m \u001b[0mget_extended_target_distance_store_path\u001b[0m\u001b[0;34m(\u001b[0m\u001b[0misDocker\u001b[0m\u001b[0;34m=\u001b[0m\u001b[0;32mTrue\u001b[0m\u001b[0;34m)\u001b[0m\u001b[0;34m\u001b[0m\u001b[0;34m\u001b[0m\u001b[0m\n\u001b[0m\u001b[1;32m      5\u001b[0m \u001b[0mdist_store\u001b[0m \u001b[0;34m=\u001b[0m \u001b[0mpd\u001b[0m\u001b[0;34m.\u001b[0m\u001b[0mHDFStore\u001b[0m\u001b[0;34m(\u001b[0m\u001b[0mdistance_store_path\u001b[0m\u001b[0;34m,\u001b[0m \u001b[0mcomplevel\u001b[0m\u001b[0;34m=\u001b[0m\u001b[0;36m9\u001b[0m\u001b[0;34m,\u001b[0m \u001b[0mmode\u001b[0m\u001b[0;34m=\u001b[0m\u001b[0;34m'w'\u001b[0m\u001b[0;34m)\u001b[0m\u001b[0;34m\u001b[0m\u001b[0;34m\u001b[0m\u001b[0m\n\u001b[1;32m      6\u001b[0m \u001b[0;34m\u001b[0m\u001b[0m\n",
      "\u001b[0;31mNameError\u001b[0m: name 'get_extended_target_distance_store_path' is not defined"
     ]
    }
   ],
   "source": [
    "# Images from the full set of ~9 million images that are not used in either the\n",
    "# \"target\" set or the \"train\" set. These are not hosted by the CVDF.\n",
    "\n",
    "distance_store_path = get_extended_target_distance_store_path(isDocker=True)\n",
    "dist_store = pd.HDFStore(distance_store_path, complevel=9, mode='w')\n",
    "\n",
    "sequence_store_path = get_extended_sequence_store_path(isDocker=True)\n",
    "seq_store = pd.HDFStore(sequence_store_path, complevel=9, mode='w')\n",
    "\n",
    "try:\n",
    "    # Note: Prefixes are lower-cased hexidecimal (e.g. '4b').\n",
    "    prefixes = [ \"%x\"%i for i in range(16) ]\n",
    "    for prefix in tqdm(prefixes):\n",
    "        target_features = get_extended_target_feature_path(prefix, isDocker=True)\n",
    "\n",
    "        distances = {}\n",
    "        for query_id, query in query_features.iterrows():\n",
    "            distances[query_id] = np.sqrt(np.square(target_features.values - query.values).sum(1))\n",
    "\n",
    "        df = pd.DataFrame(distances, index=target_features.index)\n",
    "        dist_store.append('df', df)\n",
    "        del df, distances\n",
    "        \n",
    "        target_seqs = seqtools.onehots_to_seqs(encoder.predict(target_features))\n",
    "        df = pd.DataFrame(target_seqs, index=target_features.index, columns=['FeatureSequence'])\n",
    "        seq_store.append('df', df)\n",
    "        del df, target_seqs\n",
    "        \n",
    "        del target_features\n",
    "\n",
    "finally:\n",
    "    dist_store.close()\n",
    "    seq_store.close()"
   ]
  },
  {
   "cell_type": "code",
   "execution_count": null,
   "metadata": {},
   "outputs": [],
   "source": []
  }
 ],
 "metadata": {
  "kernelspec": {
   "display_name": "Python 3",
   "language": "python",
   "name": "python3"
  },
  "language_info": {
   "codemirror_mode": {
    "name": "ipython",
    "version": 3
   },
   "file_extension": ".py",
   "mimetype": "text/x-python",
   "name": "python",
   "nbconvert_exporter": "python",
   "pygments_lexer": "ipython3",
   "version": "3.6.9"
  }
 },
 "nbformat": 4,
 "nbformat_minor": 2
}
