{
 "cells": [
  {
   "cell_type": "markdown",
   "metadata": {},
   "source": [
    "# Encode Datasets\n",
    "\n",
    "This notebook takes as input a trained encoder, target set, and query set, and saves encoded targets & queries, as well the query-target distance matrix. The outputs are then used in the `02_run_simulations` notebook and `03_plot_results` notebook."
   ]
  },
  {
   "cell_type": "code",
   "execution_count": 1,
   "metadata": {},
   "outputs": [],
   "source": [
    "import numpy as np\n",
    "import tensorflow as tf\n",
    "import pandas as pd\n",
    "\n",
    "import primo.tools.sequences as seqtools\n",
    "import primo.models\n",
    "import primo.datasets\n",
    "import primo.tools.filepath as filepaths\n",
    "\n",
    "from tqdm.notebook import tqdm"
   ]
  },
  {
   "cell_type": "code",
   "execution_count": 2,
   "metadata": {},
   "outputs": [
    {
     "name": "stdout",
     "output_type": "stream",
     "text": [
      "WARNING:tensorflow:No training configuration found in the save file, so the model was *not* compiled. Compile it manually.\n"
     ]
    }
   ],
   "source": [
    "# encoder = tf.keras.models.load_model('/tf/primo/data/models/encoder_singlesite_model.h5')\n",
    "encoder = tf.keras.models.load_model('/tf/primo/data/models/encoder_1site_model_20220614.h5')\n",
    "# encoder = tf.keras.models.load_model('/tf/primo/data/models/encoder_untrained_1site_model_20220702.h5')\n",
    "encoder.compile()"
   ]
  },
  {
   "cell_type": "markdown",
   "metadata": {},
   "source": [
    "### Encode Queries\n",
    "This code loads the query features, encodes them to DNA sequences, and saves the result."
   ]
  },
  {
   "cell_type": "code",
   "execution_count": 3,
   "metadata": {},
   "outputs": [],
   "source": [
    "# query_features_filepath = filepaths.get_query_features_path(isDocker=True)\n",
    "query_features_filepath = \"/tf/primo/data/queries/features.h5\"\n",
    "query_features = pd.read_hdf(query_features_filepath)"
   ]
  },
  {
   "cell_type": "code",
   "execution_count": 4,
   "metadata": {},
   "outputs": [],
   "source": [
    "# query_sequence_save_path = filepaths.get_encoded_query_sequences_path(isDocker=True)\n",
    "query_sequence_save_path = \"/tf/primo/data/queries/feature_seqs.h5\"\n",
    "query_seqs = seqtools.onehots_to_seqs(encoder.predict(query_features))\n",
    "pd.DataFrame(\n",
    "    query_seqs, index=query_features.index, columns=['FeatureSequence']\n",
    ").to_hdf(\n",
    "    query_sequence_save_path, key='df', mode='w'\n",
    ")"
   ]
  },
  {
   "cell_type": "markdown",
   "metadata": {},
   "source": [
    "### Encode Target Set\n",
    "This code loads the target set's features, calculates distances to each query, encodes them to DNA sequences, and saves the result."
   ]
  },
  {
   "cell_type": "code",
   "execution_count": 5,
   "metadata": {},
   "outputs": [
    {
     "data": {
      "application/vnd.jupyter.widget-view+json": {
       "model_id": "8e39edd74bc6450fbd63d967a2a04b47",
       "version_major": 2,
       "version_minor": 0
      },
      "text/plain": [
       "  0%|          | 0/16 [00:00<?, ?it/s]"
      ]
     },
     "metadata": {},
     "output_type": "display_data"
    }
   ],
   "source": [
    "# Memory-mapped file that caches the distances between targets and queries\n",
    "# distance_store_path = filepaths.get_distance_store_path(isDocker=True)\n",
    "distance_store_path = \"/tf/primo/data/targets/query_target_dists.h5\"\n",
    "dist_store = pd.HDFStore(distance_store_path, complevel=9, mode='w')\n",
    "\n",
    "# Memory-mapped file that stores the DNA sequence encodings of the target features.\n",
    "# sequence_store_path = filepaths.get_sequence_store_path(isDocker=True)\n",
    "sequence_store_path = \"/tf/primo/data/targets/feature_seqs.h5\"\n",
    "seq_store = pd.HDFStore(sequence_store_path, complevel=9, mode='w')\n",
    "\n",
    "try:\n",
    "    # Target images are split up across 16 files.\n",
    "    # Because these files are so large, and can't all be stored into memory on a single machine, \n",
    "    # there's some low-level memory-management wizardly happening below.\n",
    "    prefixes = [ \"%x\"%i for i in range(16) ]\n",
    "    for prefix in tqdm(prefixes):\n",
    "#         target_feature_path = filepaths.get_target_feature_path(prefix, isDocker=True)\n",
    "        target_feature_path = f\"/tf/open_images/targets/features/targets_{prefix}.h5\"\n",
    "        target_features = pd.read_hdf(target_feature_path)\n",
    "\n",
    "        # Dictionary that maps queries to euclidean distances for every pairing of query and target.\n",
    "        distances = {}\n",
    "        for query_id, query in query_features.iterrows():\n",
    "            # Calculuate the Euclidean distance between each query and target.\n",
    "            distances[query_id] = np.sqrt(np.square(target_features.values - query.values).sum(1))\n",
    "\n",
    "        df = pd.DataFrame(distances, index=target_features.index)\n",
    "        dist_store.append('df', df)\n",
    "\n",
    "        # Low-level memory mangement\n",
    "        del df, distances\n",
    "        \n",
    "#         target_seqs = encoder.encode_feature_seqs(target_features)\n",
    "        target_seqs = seqtools.onehots_to_seqs(encoder.predict(target_features))\n",
    "        df = pd.DataFrame(target_seqs, index=target_features.index, columns=['FeatureSequence'])\n",
    "        seq_store.append('df', df)\n",
    "        del df, target_seqs\n",
    "        \n",
    "        del target_features\n",
    "\n",
    "finally:\n",
    "    dist_store.close()\n",
    "    seq_store.close()"
   ]
  },
  {
   "cell_type": "code",
   "execution_count": null,
   "metadata": {},
   "outputs": [],
   "source": []
  }
 ],
 "metadata": {
  "kernelspec": {
   "display_name": "Python 3",
   "language": "python",
   "name": "python3"
  },
  "language_info": {
   "codemirror_mode": {
    "name": "ipython",
    "version": 3
   },
   "file_extension": ".py",
   "mimetype": "text/x-python",
   "name": "python",
   "nbconvert_exporter": "python",
   "pygments_lexer": "ipython3",
   "version": "3.6.9"
  }
 },
 "nbformat": 4,
 "nbformat_minor": 2
}
