{
 "cells": [
  {
   "cell_type": "code",
   "execution_count": 1,
   "metadata": {},
   "outputs": [
    {
     "name": "stderr",
     "output_type": "stream",
     "text": [
      "Matplotlib created a temporary config/cache directory at /tmp/matplotlib-i5y905a1 because the default path (/tf/.cache/matplotlib) is not a writable directory; it is highly recommended to set the MPLCONFIGDIR environment variable to a writable directory, in particular to speed up the import of Matplotlib and to better support multiprocessing.\n"
     ]
    },
    {
     "name": "stdout",
     "output_type": "stream",
     "text": [
      "Populating the interactive namespace from numpy and matplotlib\n"
     ]
    }
   ],
   "source": [
    "%pylab notebook\n",
    "\n",
    "# Run on CPU not GPU\n",
    "import os\n",
    "os.environ[\"CUDA_VISIBLE_DEVICES\"] = \"-1\"\n",
    "\n",
    "import tensorflow as tf\n",
    "from tensorflow.keras import layers\n",
    "\n",
    "import primo.models\n",
    "import primo.datasets\n",
    "import primo.tools.filepath as filepaths\n",
    "import primo.tools.sequences as seqtools\n",
    "import pandas as pd\n"
   ]
  },
  {
   "cell_type": "code",
   "execution_count": 2,
   "metadata": {},
   "outputs": [
    {
     "name": "stdout",
     "output_type": "stream",
     "text": [
      "Model: \"model_2\"\n",
      "__________________________________________________________________________________________________\n",
      "Layer (type)                    Output Shape         Param #     Connected to                     \n",
      "==================================================================================================\n",
      "input_1 (InputLayer)            [(None, 2, 4096)]    0                                            \n",
      "__________________________________________________________________________________________________\n",
      "lambda_1 (Lambda)               ((None, 4096), (None 0           input_1[0][0]                    \n",
      "__________________________________________________________________________________________________\n",
      "encoder (Sequential)            (None, 20, 4)        8554576     lambda_1[0][0]                   \n",
      "                                                                 lambda_1[0][1]                   \n",
      "__________________________________________________________________________________________________\n",
      "lambda_3 (Lambda)               (None, 20, 4, 2)     0           encoder[0][0]                    \n",
      "                                                                 encoder[1][0]                    \n",
      "__________________________________________________________________________________________________\n",
      "lambda_4 (Lambda)               (None, 2, 20, 4)     0           lambda_3[0][0]                   \n",
      "__________________________________________________________________________________________________\n",
      "sequential (Sequential)         (None,)              0           lambda_4[0][0]                   \n",
      "__________________________________________________________________________________________________\n",
      "reshape (Reshape)               (None, 1)            0           sequential[0][0]                 \n",
      "==================================================================================================\n",
      "Total params: 8,554,576\n",
      "Trainable params: 8,554,576\n",
      "Non-trainable params: 0\n",
      "__________________________________________________________________________________________________\n"
     ]
    }
   ],
   "source": [
    "encoder = primo.models.Encoder('/tf/primo/data/models/encoder-model-short.h5')\n",
    "\n",
    "# TODO: Replace the yield_predictor with the nucleaseq Cas9 predictor, use that here instead. https://github.com/uwmisl/cas9-similarity-search/issues/3 \n",
    "#yield_predictor = primo.models.Predictor('/tf/primo/data/models/yield-model.h5')\n",
    "yield_predictor = primo.models.PredictorFunction()\n",
    "encoder.model.compile()\n",
    "yield_predictor.model.compile()\n",
    "encoder_trainer = primo.models.EncoderTrainer(encoder, yield_predictor)\n",
    "\n",
    "encoder_trainer.model.summary()"
   ]
  },
  {
   "cell_type": "code",
   "execution_count": 3,
   "metadata": {},
   "outputs": [
    {
     "name": "stdout",
     "output_type": "stream",
     "text": [
      "Query Seqs: ['TAAAAAAAAAAAAGAAAAAA' 'TAAAAAAAAAAAAGAAAAAA' 'GAAAAAAAAAAAAGAAAAAA']\n"
     ]
    }
   ],
   "source": [
    "# Load queries and see what they encode to\n",
    "\n",
    "query_features_filepath = filepaths.get_query_features_path(isDocker=True)\n",
    "query_features = pd.read_hdf(query_features_filepath)\n",
    "query_seqs = encoder.encode_feature_seqs(query_features)\n",
    "print(f\"Query Seqs: {query_seqs}\")\n",
    "\n",
    "def seq_str_to_input(seq):\n",
    "    return np.transpose(seqtools.seqs_to_onehots(seq), [1, 0, 2])"
   ]
  },
  {
   "cell_type": "code",
   "execution_count": 11,
   "metadata": {},
   "outputs": [
    {
     "name": "stdout",
     "output_type": "stream",
     "text": [
      "Full model: [[0.0324022]]\n",
      "Predictor with sequences: [1.]\n",
      "Encoded onehot seqs: [[[[1.2642966e-04 7.3050702e-01 1.2006029e-04 2.6924643e-01]\n",
      "   [2.5000000e-01 2.5000000e-01 2.5000000e-01 2.5000000e-01]\n",
      "   [2.5000000e-01 2.5000000e-01 2.5000000e-01 2.5000000e-01]\n",
      "   [2.5000000e-01 2.5000000e-01 2.5000000e-01 2.5000000e-01]\n",
      "   [2.5000000e-01 2.5000000e-01 2.5000000e-01 2.5000000e-01]\n",
      "   [2.5000000e-01 2.5000000e-01 2.5000000e-01 2.5000000e-01]\n",
      "   [2.5000000e-01 2.5000000e-01 2.5000000e-01 2.5000000e-01]\n",
      "   [2.5000000e-01 2.5000000e-01 2.5000000e-01 2.5000000e-01]\n",
      "   [2.5000000e-01 2.5000000e-01 2.5000000e-01 2.5000000e-01]\n",
      "   [2.5000000e-01 2.5000000e-01 2.5000000e-01 2.5000000e-01]\n",
      "   [2.5000000e-01 2.5000000e-01 2.5000000e-01 2.5000000e-01]\n",
      "   [2.5000000e-01 2.5000000e-01 2.5000000e-01 2.5000000e-01]\n",
      "   [2.5000000e-01 2.5000000e-01 2.5000000e-01 2.5000000e-01]\n",
      "   [1.4607755e-06 1.4607755e-06 1.4607755e-06 9.9999559e-01]\n",
      "   [2.5000000e-01 2.5000000e-01 2.5000000e-01 2.5000000e-01]\n",
      "   [9.9999642e-01 1.1419031e-06 1.1419031e-06 1.1419031e-06]\n",
      "   [2.5000000e-01 2.5000000e-01 2.5000000e-01 2.5000000e-01]\n",
      "   [2.5000000e-01 2.5000000e-01 2.5000000e-01 2.5000000e-01]\n",
      "   [2.5000000e-01 2.5000000e-01 2.5000000e-01 2.5000000e-01]\n",
      "   [2.5000000e-01 2.5000000e-01 2.5000000e-01 2.5000000e-01]]\n",
      "\n",
      "  [[1.2642966e-04 7.3050702e-01 1.2006029e-04 2.6924643e-01]\n",
      "   [2.5000000e-01 2.5000000e-01 2.5000000e-01 2.5000000e-01]\n",
      "   [2.5000000e-01 2.5000000e-01 2.5000000e-01 2.5000000e-01]\n",
      "   [2.5000000e-01 2.5000000e-01 2.5000000e-01 2.5000000e-01]\n",
      "   [2.5000000e-01 2.5000000e-01 2.5000000e-01 2.5000000e-01]\n",
      "   [2.5000000e-01 2.5000000e-01 2.5000000e-01 2.5000000e-01]\n",
      "   [2.5000000e-01 2.5000000e-01 2.5000000e-01 2.5000000e-01]\n",
      "   [2.5000000e-01 2.5000000e-01 2.5000000e-01 2.5000000e-01]\n",
      "   [2.5000000e-01 2.5000000e-01 2.5000000e-01 2.5000000e-01]\n",
      "   [2.5000000e-01 2.5000000e-01 2.5000000e-01 2.5000000e-01]\n",
      "   [2.5000000e-01 2.5000000e-01 2.5000000e-01 2.5000000e-01]\n",
      "   [2.5000000e-01 2.5000000e-01 2.5000000e-01 2.5000000e-01]\n",
      "   [2.5000000e-01 2.5000000e-01 2.5000000e-01 2.5000000e-01]\n",
      "   [1.4607755e-06 1.4607755e-06 1.4607755e-06 9.9999559e-01]\n",
      "   [2.5000000e-01 2.5000000e-01 2.5000000e-01 2.5000000e-01]\n",
      "   [9.9999642e-01 1.1419031e-06 1.1419031e-06 1.1419031e-06]\n",
      "   [2.5000000e-01 2.5000000e-01 2.5000000e-01 2.5000000e-01]\n",
      "   [2.5000000e-01 2.5000000e-01 2.5000000e-01 2.5000000e-01]\n",
      "   [2.5000000e-01 2.5000000e-01 2.5000000e-01 2.5000000e-01]\n",
      "   [2.5000000e-01 2.5000000e-01 2.5000000e-01 2.5000000e-01]]]]\n",
      "(1, 2, 20, 4)\n",
      "as strings: ['TAAAAAAAAAAAAGAAAAAA' 'TAAAAAAAAAAAAGAAAAAA']\n"
     ]
    }
   ],
   "source": [
    "same_pair = np.array([[query_features.loc['callie_janelle'], query_features.loc['callie_janelle']]])\n",
    "a = encoder_trainer.model.predict(same_pair)\n",
    "print(f\"Full model: {a}\")\n",
    "\n",
    "b = encoder_trainer.predictor.model.predict(np.array([\n",
    "    np.concatenate([\n",
    "        seq_str_to_input('TAAAAAAAAAAAAGAAAAAA'),\n",
    "        seq_str_to_input('TAAAAAAAAAAAAGAAAAAA'),\n",
    "    ]),\n",
    "]))\n",
    "print(f\"Predictor with sequences: {b}\")\n",
    "\n",
    "c = encoder_trainer.calcseq.predict(same_pair)\n",
    "print(f\"Encoded onehot seqs: {c}\")\n",
    "print(c.shape)\n",
    "print(f\"as strings: {seqtools.onehots_to_seqs(c[0])}\")"
   ]
  },
  {
   "cell_type": "code",
   "execution_count": null,
   "metadata": {},
   "outputs": [],
   "source": []
  }
 ],
 "metadata": {
  "kernelspec": {
   "display_name": "Python 3",
   "language": "python",
   "name": "python3"
  },
  "language_info": {
   "codemirror_mode": {
    "name": "ipython",
    "version": 3
   },
   "file_extension": ".py",
   "mimetype": "text/x-python",
   "name": "python",
   "nbconvert_exporter": "python",
   "pygments_lexer": "ipython3",
   "version": "3.6.9"
  }
 },
 "nbformat": 4,
 "nbformat_minor": 2
}
