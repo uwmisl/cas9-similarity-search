{
 "cells": [
  {
   "cell_type": "code",
   "execution_count": 1,
   "metadata": {},
   "outputs": [],
   "source": [
    "import tensorflow as tf\n",
    "import numpy as np\n",
    "import primo.tools.sequences as seqtools"
   ]
  },
  {
   "cell_type": "code",
   "execution_count": 2,
   "metadata": {},
   "outputs": [],
   "source": [
    "test_pairs = np.array(\n",
    "    [\n",
    "        # pair 0\n",
    "        [\n",
    "            # top sequence\n",
    "            [\n",
    "                #A  T  C  G\n",
    "                [0, 1, 0, 0], # pos 0 = T\n",
    "                [0, 0, 0, 1], # pos 1 = G\n",
    "                [1, 0, 0, 0], # pos 2 = A\n",
    "                [0, 0, 1, 0], # pos 3 = C\n",
    "                [1, 0, 0, 0], # pos 4 = A\n",
    "            ],\n",
    "            \n",
    "            # bottom sequence\n",
    "            [\n",
    "                #A  T  C  G\n",
    "                [0, 0, 1, 0], # pos 0 = C\n",
    "                [0, 0, 0, 1], # pos 1 = G\n",
    "                [0, 1, 0, 0], # pos 2 = T\n",
    "                [0, 0, 1, 0], # pos 3 = C\n",
    "                [0, 0, 0, 1], # pos 4 = G\n",
    "            ]\n",
    "        ],\n",
    "        # pair 1\n",
    "        [\n",
    "            # top sequence\n",
    "            [\n",
    "                #A  T  C  G\n",
    "                [0, 0, 0, 1], # G\n",
    "                [0, 0, 1, 0], # C\n",
    "                [1, 0, 0, 0], # A\n",
    "                [0, 0, 1, 0], # C\n",
    "                [0, 1, 0, 0], # T\n",
    "            ],\n",
    "            \n",
    "            # bottom sequence\n",
    "            [\n",
    "                #A  T  C  G\n",
    "                [1, 0, 0, 0], # A\n",
    "                [0, 0, 1, 0], # C\n",
    "                [1, 0, 0, 0], # A\n",
    "                [0, 1, 0, 0], # T\n",
    "                [0, 0, 0, 1], # G\n",
    "            ]\n",
    "        ]\n",
    "        \n",
    "    ]\n",
    ")"
   ]
  },
  {
   "cell_type": "code",
   "execution_count": 3,
   "metadata": {},
   "outputs": [
    {
     "data": {
      "text/plain": [
       "(2, 2, 5, 4)"
      ]
     },
     "execution_count": 3,
     "metadata": {},
     "output_type": "execute_result"
    }
   ],
   "source": [
    "test_pairs.shape"
   ]
  },
  {
   "cell_type": "code",
   "execution_count": 4,
   "metadata": {},
   "outputs": [
    {
     "data": {
      "text/plain": [
       "[('TGACA', 'CGTCG'), ('GCACT', 'ACATG')]"
      ]
     },
     "execution_count": 4,
     "metadata": {},
     "output_type": "execute_result"
    }
   ],
   "source": [
    "[(\"\".join(s1), \"\".join(s2)) for s1, s2 in seqtools.bases[test_pairs.argmax(-1)]]"
   ]
  },
  {
   "cell_type": "code",
   "execution_count": 5,
   "metadata": {},
   "outputs": [],
   "source": [
    "def match_layer(**lambda_args):\n",
    "    def match(seq_pairs):\n",
    "        \n",
    "        # ensure that sequence pairs have dimension: (batch, 2 sequences, length, 4 channels)\n",
    "        seq_pairs.shape.assert_is_compatible_with([None, 2, None, 4])\n",
    "        seq_len = seq_pairs.shape[2]\n",
    "        \n",
    "        # separate first and sequences from each pair\n",
    "        top = seq_pairs[:, 0, :, :]\n",
    "        bot = seq_pairs[:, 1, :, :]\n",
    "        \n",
    "        # computes the outer product of one-hot vectors at each position for each pair\n",
    "        # for syntax see https://numpy.org/doc/stable/reference/generated/numpy.einsum.html\n",
    "        matches = tf.einsum('...i,...j->...ij', top, bot)\n",
    "        \n",
    "        # flatten match matrix at each position into match vector\n",
    "        return tf.reshape(matches, [-1, seq_len, 16])\n",
    "    \n",
    "    return tf.keras.layers.Lambda(match, **lambda_args)"
   ]
  },
  {
   "cell_type": "code",
   "execution_count": 6,
   "metadata": {},
   "outputs": [],
   "source": [
    "model = tf.keras.models.Sequential([\n",
    "    match_layer(input_shape = [2,5,4])\n",
    "])"
   ]
  },
  {
   "cell_type": "code",
   "execution_count": 7,
   "metadata": {},
   "outputs": [],
   "source": [
    "result = model(test_pairs)"
   ]
  },
  {
   "cell_type": "code",
   "execution_count": 8,
   "metadata": {},
   "outputs": [
    {
     "data": {
      "text/plain": [
       "<tf.Tensor: shape=(2, 5, 16), dtype=float32, numpy=\n",
       "array([[[0., 0., 0., 0., 0., 0., 1., 0., 0., 0., 0., 0., 0., 0., 0., 0.],\n",
       "        [0., 0., 0., 0., 0., 0., 0., 0., 0., 0., 0., 0., 0., 0., 0., 1.],\n",
       "        [0., 1., 0., 0., 0., 0., 0., 0., 0., 0., 0., 0., 0., 0., 0., 0.],\n",
       "        [0., 0., 0., 0., 0., 0., 0., 0., 0., 0., 1., 0., 0., 0., 0., 0.],\n",
       "        [0., 0., 0., 1., 0., 0., 0., 0., 0., 0., 0., 0., 0., 0., 0., 0.]],\n",
       "\n",
       "       [[0., 0., 0., 0., 0., 0., 0., 0., 0., 0., 0., 0., 1., 0., 0., 0.],\n",
       "        [0., 0., 0., 0., 0., 0., 0., 0., 0., 0., 1., 0., 0., 0., 0., 0.],\n",
       "        [1., 0., 0., 0., 0., 0., 0., 0., 0., 0., 0., 0., 0., 0., 0., 0.],\n",
       "        [0., 0., 0., 0., 0., 0., 0., 0., 0., 1., 0., 0., 0., 0., 0., 0.],\n",
       "        [0., 0., 0., 0., 0., 0., 0., 1., 0., 0., 0., 0., 0., 0., 0., 0.]]],\n",
       "      dtype=float32)>"
      ]
     },
     "execution_count": 8,
     "metadata": {},
     "output_type": "execute_result"
    }
   ],
   "source": [
    "result"
   ]
  },
  {
   "cell_type": "code",
   "execution_count": 15,
   "metadata": {},
   "outputs": [
    {
     "data": {
      "text/plain": [
       "array([[ 6, 15,  1, 10,  3],\n",
       "       [12, 10,  0,  9,  7]])"
      ]
     },
     "execution_count": 15,
     "metadata": {},
     "output_type": "execute_result"
    }
   ],
   "source": [
    "result.numpy().argmax(-1)"
   ]
  },
  {
   "cell_type": "code",
   "execution_count": 9,
   "metadata": {},
   "outputs": [],
   "source": [
    "substs = np.array([\"{}->{}\".format(b1, b2) for b1 in \"ATCG\" for b2 in \"ATCG\"])"
   ]
  },
  {
   "cell_type": "code",
   "execution_count": 10,
   "metadata": {},
   "outputs": [
    {
     "data": {
      "text/plain": [
       "array(['A->A', 'A->T', 'A->C', 'A->G', 'T->A', 'T->T', 'T->C', 'T->G',\n",
       "       'C->A', 'C->T', 'C->C', 'C->G', 'G->A', 'G->T', 'G->C', 'G->G'],\n",
       "      dtype='<U4')"
      ]
     },
     "execution_count": 10,
     "metadata": {},
     "output_type": "execute_result"
    }
   ],
   "source": [
    "substs"
   ]
  },
  {
   "cell_type": "code",
   "execution_count": 11,
   "metadata": {},
   "outputs": [
    {
     "data": {
      "text/plain": [
       "array([['T->C', 'G->G', 'A->T', 'C->C', 'A->G'],\n",
       "       ['G->A', 'C->C', 'A->A', 'C->T', 'T->G']], dtype='<U4')"
      ]
     },
     "execution_count": 11,
     "metadata": {},
     "output_type": "execute_result"
    }
   ],
   "source": [
    "substs[result.numpy().argmax(-1)]"
   ]
  },
  {
   "cell_type": "code",
   "execution_count": 12,
   "metadata": {},
   "outputs": [
    {
     "data": {
      "text/plain": [
       "[('TGACA', 'CGTCG'), ('GCACT', 'ACATG')]"
      ]
     },
     "execution_count": 12,
     "metadata": {},
     "output_type": "execute_result"
    }
   ],
   "source": [
    "[(\"\".join(s1), \"\".join(s2)) for s1, s2 in seqtools.bases[test_pairs.argmax(-1)]]"
   ]
  },
  {
   "cell_type": "code",
   "execution_count": null,
   "metadata": {},
   "outputs": [],
   "source": []
  },
  {
   "cell_type": "code",
   "execution_count": null,
   "metadata": {},
   "outputs": [],
   "source": []
  },
  {
   "cell_type": "code",
   "execution_count": null,
   "metadata": {},
   "outputs": [],
   "source": []
  },
  {
   "cell_type": "code",
   "execution_count": null,
   "metadata": {},
   "outputs": [],
   "source": [
    "subpen = np.array([-1.7449405080809126, -1.275485084790358, -1.8001827224086722, -1.9323849500279549, -1.6677722398632207, -1.6537370694565101, -1.8981469677400609, -1.0814292717607923, -1.3231152511430453, -0.99840146446464273, -1.2766126030502924, -1.073338813454068, -1.5614374592181826, -1.4737507320504855, -1.298392565410591, -1.0105000195452765, -0.43349702574711524, -0.11665543376814178, -0.17370266801790191, 0.2676084623705467, 0.051835157750172757, 0.08920809165894289, 0.075459598643889569, 0.046975071077932237])\n",
    "subtrans = np.array([[ 0.        ,  1.16616601,  0.96671383,  0.94917742],       [ 0.94076049,  0.        ,  1.18426595,  0.87129983],       [ 0.58224486,  1.11064886,  0.        ,  1.04707949],       [ 0.9633753 ,  0.98895548,  1.2293125 ,  0.        ]])"
   ]
  },
  {
   "cell_type": "code",
   "execution_count": null,
   "metadata": {},
   "outputs": [],
   "source": [
    "finkel_bases = 'ACGT'\n",
    "shift = np.array([list(seqtools.bases).index(b) for b in finkel_bases])\n",
    "subtrans_shift = subtrans[shift, :][:, shift]"
   ]
  },
  {
   "cell_type": "code",
   "execution_count": null,
   "metadata": {},
   "outputs": [],
   "source": []
  },
  {
   "cell_type": "code",
   "execution_count": null,
   "metadata": {},
   "outputs": [],
   "source": []
  },
  {
   "cell_type": "code",
   "execution_count": null,
   "metadata": {},
   "outputs": [],
   "source": []
  }
 ],
 "metadata": {
  "kernelspec": {
   "display_name": "Python 3",
   "language": "python",
   "name": "python3"
  },
  "language_info": {
   "codemirror_mode": {
    "name": "ipython",
    "version": 3
   },
   "file_extension": ".py",
   "mimetype": "text/x-python",
   "name": "python",
   "nbconvert_exporter": "python",
   "pygments_lexer": "ipython3",
   "version": "3.6.9"
  }
 },
 "nbformat": 4,
 "nbformat_minor": 5
}
