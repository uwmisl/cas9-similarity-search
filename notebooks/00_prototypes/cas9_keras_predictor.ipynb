{
 "cells": [
  {
   "cell_type": "code",
   "execution_count": 1,
   "metadata": {},
   "outputs": [],
   "source": [
    "import tensorflow as tf\n",
    "import numpy as np\n",
    "import primo.tools.sequences as seqtools"
   ]
  },
  {
   "cell_type": "code",
   "execution_count": 2,
   "metadata": {},
   "outputs": [
    {
     "name": "stderr",
     "output_type": "stream",
     "text": [
      "Matplotlib created a temporary config/cache directory at /tmp/matplotlib-mqp6ilm5 because the default path (/tf/.cache/matplotlib) is not a writable directory; it is highly recommended to set the MPLCONFIGDIR environment variable to a writable directory, in particular to speed up the import of Matplotlib and to better support multiprocessing.\n"
     ]
    }
   ],
   "source": [
    "import matplotlib.pyplot as plt"
   ]
  },
  {
   "cell_type": "code",
   "execution_count": 3,
   "metadata": {},
   "outputs": [],
   "source": [
    "first_time_point = 12\n",
    "last_time_point = 60000\n",
    "first_time_point_cleavage_rate = np.log(2)/first_time_point\n",
    "last_time_point_cleavage_rate = np.log(2)/last_time_point\n",
    "log10_ub = np.log10(first_time_point_cleavage_rate)\n",
    "log10_lb = np.log10(last_time_point_cleavage_rate)\n",
    "data_span = log10_ub - log10_lb\n",
    "\n",
    "def bandpass_hinge(x):\n",
    "    return tf.maximum(log10_lb, tf.minimum(x, log10_ub))\n",
    "\n",
    "def log10_crispr_spec(seq_pairs, subpen, subtrans):\n",
    "    \n",
    "    # ensure that sequence pairs have dimension: (batch, 2 sequences, 20 nt, 4 channels)\n",
    "    seq_pairs.shape.assert_is_compatible_with([None, 2, 20, 4])\n",
    "    seq_len = seq_pairs.shape[2]\n",
    "\n",
    "    # separate first and sequences from each pair\n",
    "    ref = seq_pairs[:, 0, :, :]\n",
    "    obs = seq_pairs[:, 1, :, :]\n",
    "\n",
    "    # computes the outer product of one-hot vectors at each position for each pair\n",
    "    # for syntax see https://numpy.org/doc/stable/reference/generated/numpy.einsum.html\n",
    "    subst_ids = tf.einsum('...i,...j->...ij', ref, obs)\n",
    "\n",
    "    # turn 4x4 match matrix into 1x16 vector\n",
    "    subst_ids_flat = tf.reshape(subst_ids, [-1, seq_len, 16])\n",
    "    \n",
    "    # multiply by scores and take highest value\n",
    "    subst_scores = tf.reduce_max(subst_ids_flat * subtrans.flatten(), -1)\n",
    "    \n",
    "    # compute dot product of position penalty and substitution type\n",
    "    scores = tf.reduce_sum(subst_scores * subpen.flatten(), -1)\n",
    "    \n",
    "    # threshold final result\n",
    "    return bandpass_hinge(scores + log10_ub) - log10_ub"
   ]
  },
  {
   "cell_type": "code",
   "execution_count": 4,
   "metadata": {},
   "outputs": [],
   "source": [
    "subpen = np.array([-1.7449405080809126, -1.275485084790358, -1.8001827224086722, -1.9323849500279549, -1.6677722398632207, -1.6537370694565101, -1.8981469677400609, -1.0814292717607923, -1.3231152511430453, -0.99840146446464273, -1.2766126030502924, -1.073338813454068, -1.5614374592181826, -1.4737507320504855, -1.298392565410591, -1.0105000195452765, -0.43349702574711524, -0.11665543376814178, -0.17370266801790191, 0.2676084623705467, 0.051835157750172757, 0.08920809165894289, 0.075459598643889569, 0.046975071077932237])\n",
    "subtrans = np.array([[ 0.        ,  1.16616601,  0.96671383,  0.94917742],       [ 0.94076049,  0.        ,  1.18426595,  0.87129983],       [ 0.58224486,  1.11064886,  0.        ,  1.04707949],       [ 0.9633753 ,  0.98895548,  1.2293125 ,  0.        ]])"
   ]
  },
  {
   "cell_type": "code",
   "execution_count": 5,
   "metadata": {},
   "outputs": [],
   "source": [
    "# changes matrices to account for the nucleotide string being 'ACGT', not 'ATCG' as in seqtools.bases and the rest of the PRIMO package\n",
    "finkel_bases = 'ACGT'\n",
    "shift = np.array([finkel_bases.index(b) for b in seqtools.bases])\n",
    "subtrans_shift = subtrans[shift,:][:, shift]\n",
    "subpen_shift = subpen[:20][::-1]"
   ]
  },
  {
   "cell_type": "code",
   "execution_count": 6,
   "metadata": {},
   "outputs": [],
   "source": [
    "ref_seq = \"GACAGGTACAAGAAGGAGTA\""
   ]
  },
  {
   "cell_type": "code",
   "execution_count": 7,
   "metadata": {},
   "outputs": [],
   "source": [
    "# makes an array of pairs, ref_seq and all possible single substitutions of that ref_seq\n",
    "pairs = []\n",
    "for i in range(20):\n",
    "    for base in finkel_bases:\n",
    "        nts_dna_seq = ref_seq[:i] + base + ref_seq[i+1:]\n",
    "        pairs.append([ref_seq, nts_dna_seq])\n",
    "pairs = np.array(pairs)"
   ]
  },
  {
   "cell_type": "code",
   "execution_count": 8,
   "metadata": {},
   "outputs": [],
   "source": [
    "# take the array of pairs and reshape\n",
    "onehot_pairs = tf.convert_to_tensor(\n",
    "    seqtools.seqs_to_onehots(pairs.flatten()).reshape(-1, 2, 20, 4),\n",
    "    dtype = tf.float32\n",
    ")"
   ]
  },
  {
   "cell_type": "code",
   "execution_count": 9,
   "metadata": {},
   "outputs": [],
   "source": [
    "# generate score for each pair\n",
    "scores = log10_crispr_spec(\n",
    "    onehot_pairs,\n",
    "    subpen_shift,\n",
    "    subtrans_shift\n",
    ").numpy()"
   ]
  },
  {
   "cell_type": "code",
   "execution_count": 10,
   "metadata": {},
   "outputs": [],
   "source": [
    "# make a dictionary of the score for each substitution\n",
    "y_given_base = {base: [] for base in finkel_bases}\n",
    "j = 0\n",
    "for i in range(20):\n",
    "    for base in finkel_bases:\n",
    "        y_given_base[base].append(scores[j])\n",
    "        j += 1"
   ]
  },
  {
   "cell_type": "code",
   "execution_count": 11,
   "metadata": {},
   "outputs": [],
   "source": [
    "color_given_base = {'A': 'blue', 'C': 'darkgoldenrod', 'G': 'green', 'T': 'firebrick'}"
   ]
  },
  {
   "cell_type": "code",
   "execution_count": 12,
   "metadata": {},
   "outputs": [
    {
     "data": {
      "text/plain": [
       "Text(0.5, 1.0, 'Mismatches')"
      ]
     },
     "execution_count": 12,
     "metadata": {},
     "output_type": "execute_result"
    },
    {
     "data": {
      "image/png": "[encoded data removed]",
      "text/plain": [
       "<Figure size 576x216 with 1 Axes>"
      ]
     },
     "metadata": {
      "needs_background": "light"
     },
     "output_type": "display_data"
    }
   ],
   "source": [
    "fig, ax = plt.subplots(figsize=(8, 3))\n",
    "x = range(1, 21)\n",
    "for base in finkel_bases:\n",
    "    ax.plot(x, y_given_base[base], 'o', color=color_given_base[base], label=base)\n",
    "ax.set_ylim((-data_span - 0.3, 0.3))\n",
    "ax.legend()\n",
    "ax.set_xticks(x)\n",
    "ax.set_xticklabels(list(ref_seq.replace('T', 'U')))\n",
    "ax.set_xlabel('gRNA Sequence')\n",
    "ax.set_ylabel('log10 Specificity')\n",
    "ax.set_title('Mismatches')"
   ]
  },
  {
   "cell_type": "code",
   "execution_count": null,
   "metadata": {},
   "outputs": [],
   "source": []
  },
  {
   "cell_type": "code",
   "execution_count": null,
   "metadata": {},
   "outputs": [],
   "source": []
  }
 ],
 "metadata": {
  "kernelspec": {
   "display_name": "Python 3",
   "language": "python",
   "name": "python3"
  },
  "language_info": {
   "codemirror_mode": {
    "name": "ipython",
    "version": 3
   },
   "file_extension": ".py",
   "mimetype": "text/x-python",
   "name": "python",
   "nbconvert_exporter": "python",
   "pygments_lexer": "ipython3",
   "version": "3.6.9"
  }
 },
 "nbformat": 4,
 "nbformat_minor": 5
}