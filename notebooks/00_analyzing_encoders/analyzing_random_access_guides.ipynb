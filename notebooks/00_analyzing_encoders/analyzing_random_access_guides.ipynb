{
 "cells": [
  {
   "cell_type": "markdown",
   "metadata": {},
   "source": [
    "# Analyzing the Cas9 guides used for random access"
   ]
  },
  {
   "cell_type": "code",
   "execution_count": 10,
   "metadata": {},
   "outputs": [],
   "source": [
    "# Run on CPU not GPU\n",
    "import os\n",
    "os.environ[\"CUDA_VISIBLE_DEVICES\"] = \"-1\"\n",
    "\n",
    "import matplotlib.pyplot as plt\n",
    "import pandas as pd \n",
    "import numpy as np\n",
    "import seaborn as sns\n",
    "\n",
    "import primo.tools.sequences as seqtools\n",
    "from primo.models.simulator import Simulator"
   ]
  },
  {
   "cell_type": "code",
   "execution_count": 2,
   "metadata": {},
   "outputs": [],
   "source": [
    "guides = [\n",
    "    'CTCGCAGAGGTGGCGTCGACCAAGG',\n",
    "    'CTCGCAGAGGTGGCGCGATTGTTGG',\n",
    "    'CTCGCAGAGGTGGCGATAGCATAGG',\n",
    "    'CTCGCAGAGGTGGCGTCGCCTTTGG',\n",
    "    'CTCGCAGAGGTGGCGTGCCAACAGG',\n",
    "    'CTCGCAGAGGTGGCGATCGCTCTGG',\n",
    "    'CTCGCAGAGGTGGCGAGAACCGAGG',\n",
    "    'CTCGCAGAGGTGGCGGACGAACTGG',\n",
    "    'CTCGCAGAGGTGGCGCACAGAGAGG',\n",
    "    'CTCGCAGAGGTGGCGCATTAAATGG',\n",
    "    'CTCGCAGAGGTGGCGAGAATCTAGG',\n",
    "    'CTCGCAGAGGTGGCGCTAGCTGTGG',\n",
    "    'CTCGCAGAGGTGGCGCTTTACAAGG',\n",
    "    'CTCGCAGAGGTGGCGAAGTGCTTGG',\n",
    "    'CTCGCAGAGGTGGCGGGTTCCTAGG',\n",
    "    'CTCGCAGAGGTGGCGTTTCCAGTGG',\n",
    "    'CTCGCAGAGGTGGCGTGGGATGAGG',\n",
    "    'CTCGCAGAGGTGGCGTAAACGCTGG',\n",
    "    'CTCGCAGAGGTGGCGGATGAGAAGG',\n",
    "    'CTCGCAGAGGTGGCGTCCTCAGTGG',\n",
    "    'CTCGCAGAGGTGGCGGCCACATAGG',\n",
    "    'CTCGCAGAGGTGGCGCCCATCCTGG',\n",
    "    'CTCGCAGAGGTGGCGCCTGGTTAGG',\n",
    "    'CTCGCAGAGGTGGCGTCCATCGTGG',\n",
    "    'CTCGCAGAGGTGGCGGACCTTAAGG',\n",
    "]"
   ]
  },
  {
   "cell_type": "code",
   "execution_count": 9,
   "metadata": {},
   "outputs": [],
   "source": [
    "def collect_cas9_table(guides):\n",
    "    \"\"\"\n",
    "    Given a list of sequences,\n",
    "    Returns a dataframe where each guide's activation score is given when paired with every other guide\n",
    "    \"\"\"\n",
    "    seq1 = []\n",
    "    seq2 = []\n",
    "    for g in guides:\n",
    "        for g2 in guides:\n",
    "            seq1.append(g)\n",
    "            seq2.append(g2)\n",
    "            \n",
    "    df = pd.DataFrame({\n",
    "        \"target_features\": seq1,\n",
    "        \"query_features\": seq2\n",
    "    })\n",
    "        \n",
    "    simulator = Simulator()\n",
    "    activations = simulator.simulate(df)\n",
    "    df['activations'] = activations\n",
    "    \n",
    "    return df \n",
    "\n",
    "df = collect_cas9_table(guides)"
   ]
  },
  {
   "cell_type": "code",
   "execution_count": 86,
   "metadata": {},
   "outputs": [
    {
     "data": {
      "text/plain": [
       "Text(42.0, 0.5, 'Guide')"
      ]
     },
     "execution_count": 86,
     "metadata": {},
     "output_type": "execute_result"
    },
    {
     "data": {
      "image/png": "[encoded data removed]",
      "text/plain": [
       "<Figure size 504x504 with 2 Axes>"
      ]
     },
     "metadata": {
      "needs_background": "light"
     },
     "output_type": "display_data"
    }
   ],
   "source": [
    "def get_activation_score(seq1, seq2):\n",
    "    simulator = Simulator()\n",
    "    df = pd.DataFrame({\n",
    "        \"target_features\": [seq1],\n",
    "        \"query_features\": [seq2]\n",
    "    })\n",
    "    return simulator.simulate(df)[0] # this is a float \n",
    "\n",
    "data = []\n",
    "for s1 in guides:\n",
    "    s1vs2 = []\n",
    "    for s2 in guides:\n",
    "        s1vs2.append(get_activation_score(s1, s2))\n",
    "    data.append(s1vs2)\n",
    "df = pd.DataFrame(data)\n",
    "\n",
    "mask = np.zeros_like(df)\n",
    "mask[np.triu_indices_from(mask)] = True\n",
    "f, ax = plt.subplots(figsize=(7, 7))\n",
    "ax = plt.axes() \n",
    "sns.heatmap(df, mask=mask, vmin = 0, vmax=.1,\n",
    "                 xticklabels=[i + 1 for i in range(len(guides))], # to start count at 1\n",
    "                 yticklabels=[i + 1 for i in range(len(guides))],\n",
    "                 annot=False, linewidths=.1, cmap='YlGnBu') #cmap='flare' also good\n",
    "plt.title('Guide on Guide Activations')\n",
    "plt.xlabel('Guide')\n",
    "plt.ylabel('Guide')"
   ]
  },
  {
   "cell_type": "code",
   "execution_count": 41,
   "metadata": {},
   "outputs": [
    {
     "data": {
      "text/plain": [
       "0     0.0002\n",
       "1     0.0002\n",
       "2     0.0002\n",
       "3     0.0002\n",
       "4     0.0002\n",
       "5     0.0002\n",
       "6     0.0002\n",
       "7     0.0002\n",
       "8     0.0002\n",
       "9     0.0002\n",
       "10    0.0002\n",
       "11    0.0002\n",
       "12    0.0002\n",
       "13    0.0002\n",
       "14    0.0002\n",
       "15    0.0002\n",
       "16    0.0002\n",
       "17    0.0002\n",
       "18    0.0002\n",
       "19    0.0002\n",
       "20    0.0002\n",
       "21    0.0002\n",
       "22    0.0002\n",
       "23    0.0002\n",
       "24    0.0002\n",
       "dtype: float64"
      ]
     },
     "execution_count": 41,
     "metadata": {},
     "output_type": "execute_result"
    }
   ],
   "source": [
    "df.min()"
   ]
  }
 ],
 "metadata": {
  "kernelspec": {
   "display_name": "Python 3",
   "language": "python",
   "name": "python3"
  },
  "language_info": {
   "codemirror_mode": {
    "name": "ipython",
    "version": 3
   },
   "file_extension": ".py",
   "mimetype": "text/x-python",
   "name": "python",
   "nbconvert_exporter": "python",
   "pygments_lexer": "ipython3",
   "version": "3.6.9"
  }
 },
 "nbformat": 4,
 "nbformat_minor": 2
}
