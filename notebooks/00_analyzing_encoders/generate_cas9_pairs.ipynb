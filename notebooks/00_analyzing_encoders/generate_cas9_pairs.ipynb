{
 "cells": [
  {
   "cell_type": "code",
   "execution_count": 1,
   "metadata": {},
   "outputs": [
    {
     "name": "stderr",
     "output_type": "stream",
     "text": [
      "100%|██████████| 10/10 [00:40<00:00,  4.03s/it]\n"
     ]
    }
   ],
   "source": [
    "# Run on CPU not GPU\n",
    "import os\n",
    "os.environ[\"CUDA_VISIBLE_DEVICES\"] = \"-1\"\n",
    "\n",
    "import pandas as pd\n",
    "import primo.tools.sequences as seqtools\n",
    "from primo.models.simulator import Simulator\n",
    "import numpy as np\n",
    "from tqdm import tqdm\n",
    "\n",
    "def random_mutants(anchor, n):\n",
    "    \"\"\"Generate n random mutants of anchor sequence\n",
    "    \n",
    "    The hamming distances between the pairs are drawn from\n",
    "    a uniform distribution.\n",
    "    \"\"\"\n",
    "    \n",
    "    mut_rates = np.random.uniform(0, 1, size=n)\n",
    "    pairs = np.array([seqtools.mutate(anchor, rate) for rate in mut_rates])\n",
    "    seq_hdists = np.array(\n",
    "        [ seqtools.seq_hdist(anchor, p) for p in pairs ]\n",
    "    )\n",
    "    return pairs, seq_hdists\n",
    "    \n",
    "def collect_cas9_table(anchor, n=1000):\n",
    "    pairs, hdists = random_mutants(anchor, n)\n",
    "    \n",
    "    df = pd.DataFrame({\n",
    "        \"target_features\": [anchor] * n,\n",
    "        \"query_features\": pairs\n",
    "    })\n",
    "    \n",
    "    simulator = Simulator()\n",
    "    activations = simulator.simulate(df)\n",
    "    \n",
    "    df['activations'] = activations\n",
    "    df['hdists'] = hdists\n",
    "    \n",
    "    return df\n",
    "    \n",
    "N_ANCHORS = 10\n",
    "N_PAIRS = 10000\n",
    "\n",
    "try:\n",
    "    result_store = pd.HDFStore('/tf/primo/data/stats/lo_random_pairings_cas9.h5', complevel=9, mode='w')\n",
    "    for _ in tqdm(range(N_ANCHORS)):\n",
    "        test_seq = seqtools.randseq(20)\n",
    "        df = collect_cas9_table(test_seq, N_PAIRS)\n",
    "        result_store.append('df', df)\n",
    "finally:\n",
    "    result_store.close()"
   ]
  },
  {
   "cell_type": "code",
   "execution_count": null,
   "metadata": {},
   "outputs": [],
   "source": []
  }
 ],
 "metadata": {
  "kernelspec": {
   "display_name": "Python 3",
   "language": "python",
   "name": "python3"
  },
  "language_info": {
   "codemirror_mode": {
    "name": "ipython",
    "version": 3
   },
   "file_extension": ".py",
   "mimetype": "text/x-python",
   "name": "python",
   "nbconvert_exporter": "python",
   "pygments_lexer": "ipython3",
   "version": "3.6.9"
  }
 },
 "nbformat": 4,
 "nbformat_minor": 2
}
