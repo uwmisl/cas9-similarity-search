{
 "cells": [
  {
   "cell_type": "markdown",
   "metadata": {},
   "source": [
    "Predictor Training\n",
    "==============\n",
    "\n",
    "To maximize its accuracy, the yield predictor is periodically re-trained on encoder output during encoder training. However, it is beneficial to seed the predictor by training it on random sequences."
   ]
  },
  {
   "cell_type": "code",
   "execution_count": 1,
   "metadata": {},
   "outputs": [
    {
     "name": "stdout",
     "output_type": "stream",
     "text": [
      "/bin/sh: 1: Syntax error: word unexpected (expecting \")\")\r\n"
     ]
    }
   ],
   "source": [
    "# TODO: Delete this whole file once comments are ported to primo-sim-search https://github.com/uwmisl/cas9-similarity-search/issues/10\n",
    "\n",
    "# The following diagram illustrates what the predictor training does relative to the rest of the flow. \n",
    "\n",
    "\n",
    "![TrainPredictor](../../documentation/documentation_01_train_predictor)"
   ]
  },
  {
   "cell_type": "code",
   "execution_count": 2,
   "metadata": {},
   "outputs": [
    {
     "name": "stderr",
     "output_type": "stream",
     "text": [
      "Matplotlib created a temporary config/cache directory at /tmp/matplotlib-nnhexiqn because the default path (/tf/.cache/matplotlib) is not a writable directory; it is highly recommended to set the MPLCONFIGDIR environment variable to a writable directory, in particular to speed up the import of Matplotlib and to better support multiprocessing.\n"
     ]
    }
   ],
   "source": [
    "import tensorflow as tf\n",
    "import numpy as np\n",
    "import pandas as pd\n",
    "import matplotlib.pyplot as plt\n",
    "\n",
    "#import cupyck\n",
    "import primo.models\n",
    "import primo.tools.sequences as seqtools\n",
    "import primo.models.cas9 as cas9\n"
   ]
  },
  {
   "cell_type": "markdown",
   "metadata": {},
   "source": [
    "Initialize the cupyck session first, otherwise Tensorflow will use up all available GPU memory:"
   ]
  },
  {
   "cell_type": "code",
   "execution_count": 3,
   "metadata": {},
   "outputs": [],
   "source": [
    "\n",
    "#cupyck_sess = cupyck.GPUSession(max_seqlen=200, nblocks=1024, nthreads=128)"
   ]
  },
  {
   "cell_type": "code",
   "execution_count": 4,
   "metadata": {},
   "outputs": [],
   "source": [
    "simulator = primo.models.Simulator()"
   ]
  },
  {
   "cell_type": "markdown",
   "metadata": {},
   "source": [
    "Generate a large set of pairs with various Hamming distances, then simulate their query-target yields with NUPACK:"
   ]
  },
  {
   "cell_type": "code",
   "execution_count": 5,
   "metadata": {},
   "outputs": [],
   "source": [
    "# Generate two random DNA sequences. First by creating a random sequence, then copying that sequence to another sequence, then mutating that second sequence at some given mutation rate, such that \n",
    "# the hamming distance between the sequences (i.e. how different they are) is sampled from a uniform distribution. This means that we could expect sequence that are nearly identical, and sequence pairs that are entirely opposite to occur at approximately the same rate. \n",
    "# Random_pairs: (arbitrary_sequence_1, arbitrary_sequence_2)\n",
    "\n",
    "# Generate 5,000 of these arbitrary sequence pairs.\n",
    "n_sequence_pairs_to_generate = 50000\n",
    "\n",
    "# ...of length 80 nucleotides each (80 was chosen because that's the length of the DNA sequence's feature region in callie original paper).\n",
    "sequence_length = 20\n",
    "\n",
    "random_pairs, mut_rates = seqtools.random_mutant_pairs(n_sequence_pairs_to_generate, sequence_length)"
   ]
  },
  {
   "cell_type": "code",
   "execution_count": 6,
   "metadata": {},
   "outputs": [],
   "source": [
    "# From here, we take the first arbitrary sequence, and its mutation (i.e. the random pairs), then we pretend that the first arbitrary sequence (i.e. at index 0) is a target DNA sequence, then we pretend the second arbitrary sequence (i.e. at index 1) is a query DNA sequences. \n",
    "seq_pairs = pd.DataFrame({\n",
    "    \"target_features\": random_pairs[:, 0],\n",
    "    \"query_features\": random_pairs[:, 1]\n",
    "})"
   ]
  },
  {
   "cell_type": "code",
   "execution_count": 7,
   "metadata": {},
   "outputs": [],
   "source": [
    "# Use NUPACK/CUPYCK to simulate the hybdrization yields of the two sequences in the pair (this is the Pink flow in the above diagram). \n",
    "\n",
    "# Note that this will not be used for Cas9 similarity search.\n",
    "# Q: Why?\n",
    "# A: This process of training a differentiable yield predictor from yields calculated by a *non*-differentiable yield simulator (i.e. NUPACK) is done becauase the non-differentiable simualtor is non-differentiable-- and therefore can't be used in a neural network (it would fail the backpropagation step).\n",
    "\n",
    "# However, in Cas9 similarity search, we are predicting how well Cas9 will cut a target DNA sequence # using differentiable predictor provided by Finklestein lab called Nucleaseq (https://github.com/finkelsteinlab/nucleaseq) \n",
    "\n",
    "sim_results = simulator.simulate(seq_pairs)"
   ]
  },
  {
   "cell_type": "markdown",
   "metadata": {},
   "source": [
    "Initialize a random predictor and train it on the sequences and simulated yields:"
   ]
  },
  {
   "cell_type": "code",
   "execution_count": 8,
   "metadata": {},
   "outputs": [],
   "source": [
    "predictor = primo.models.PredictorModel()"
   ]
  },
  {
   "cell_type": "code",
   "execution_count": 9,
   "metadata": {},
   "outputs": [
    {
     "ename": "AttributeError",
     "evalue": "'PredictorModel' object has no attribute 'seq_pairs_to_onehots'",
     "output_type": "error",
     "traceback": [
      "\u001b[0;31m---------------------------------------------------------------------------\u001b[0m",
      "\u001b[0;31mAttributeError\u001b[0m                            Traceback (most recent call last)",
      "\u001b[0;32m<ipython-input-9-e54fc266c2ee>\u001b[0m in \u001b[0;36m<module>\u001b[0;34m\u001b[0m\n\u001b[0;32m----> 1\u001b[0;31m \u001b[0monehot_seq_pairs\u001b[0m \u001b[0;34m=\u001b[0m \u001b[0mpredictor\u001b[0m\u001b[0;34m.\u001b[0m\u001b[0mseq_pairs_to_onehots\u001b[0m\u001b[0;34m(\u001b[0m\u001b[0mseq_pairs\u001b[0m\u001b[0;34m)\u001b[0m\u001b[0;34m\u001b[0m\u001b[0;34m\u001b[0m\u001b[0m\n\u001b[0m",
      "\u001b[0;31mAttributeError\u001b[0m: 'PredictorModel' object has no attribute 'seq_pairs_to_onehots'"
     ]
    }
   ],
   "source": [
    "onehot_seq_pairs = predictor.seq_pairs_to_onehots(seq_pairs)"
   ]
  },
  {
   "cell_type": "code",
   "execution_count": null,
   "metadata": {},
   "outputs": [],
   "source": [
    "history = predictor.train(onehot_seq_pairs, sim_results, epochs=50, validation_split = 0.2)"
   ]
  },
  {
   "cell_type": "markdown",
   "metadata": {},
   "source": [
    "Visualize the model's accuracy by plotting the simulated yield against the pairwise Hamming distance, and coloring by the difference between the predicted yield and the simulated yield. The predictor should be most accurate along an S-shaped region in the center."
   ]
  },
  {
   "cell_type": "code",
   "execution_count": null,
   "metadata": {},
   "outputs": [],
   "source": [
    "pred_yield = predictor.model.predict(onehot_seq_pairs)"
   ]
  },
  {
   "cell_type": "code",
   "execution_count": null,
   "metadata": {},
   "outputs": [],
   "source": [
    "plt.figure(figsize=(15, 10))\n",
    "plt.scatter(mut_rates, sim_results, c = np.abs(pred_yield.flatten() - sim_results))\n",
    "plt.xlabel(\"Hamming distance\")\n",
    "plt.ylabel(\"Simulated yield\")\n",
    "plt.colorbar(label=\"|Simulated - Predicted|\")"
   ]
  },
  {
   "cell_type": "code",
   "execution_count": null,
   "metadata": {},
   "outputs": [],
   "source": [
    "errors = np.abs(pred_yield.flatten() - sim_results)\n",
    "plt.figure()\n",
    "plt.hist(errors)"
   ]
  },
  {
   "cell_type": "markdown",
   "metadata": {},
   "source": [
    "Save the predictor for future training and use:"
   ]
  },
  {
   "cell_type": "code",
   "execution_count": null,
   "metadata": {},
   "outputs": [],
   "source": [
    "predictor.save('/tf/primo/data/models/yield-model.h5')"
   ]
  },
  {
   "cell_type": "code",
   "execution_count": null,
   "metadata": {},
   "outputs": [],
   "source": []
  }
 ],
 "metadata": {
  "kernelspec": {
   "display_name": "Python 3",
   "language": "python",
   "name": "python3"
  },
  "language_info": {
   "codemirror_mode": {
    "name": "ipython",
    "version": 3
   },
   "file_extension": ".py",
   "mimetype": "text/x-python",
   "name": "python",
   "nbconvert_exporter": "python",
   "pygments_lexer": "ipython3",
   "version": "3.6.9"
  }
 },
 "nbformat": 4,
 "nbformat_minor": 2
}
