{
 "cells": [
  {
   "cell_type": "markdown",
   "metadata": {},
   "source": [
    "Predictor Training\n",
    "==============\n",
    "\n",
    "To maximize its accuracy, the yield predictor is periodically re-trained on encoder output during encoder training. However, it is beneficial to seed the predictor by training it on random sequences."
   ]
  },
  {
   "cell_type": "code",
   "execution_count": 1,
   "metadata": {},
   "outputs": [
    {
     "name": "stdout",
     "output_type": "stream",
     "text": [
      "/bin/sh: 1: Syntax error: word unexpected (expecting \")\")\r\n"
     ]
    }
   ],
   "source": [
    "# TODO: Delete this whole file once comments are ported to primo-sim-search https://github.com/uwmisl/cas9-similarity-search/issues/10\n",
    "\n",
    "# The following diagram illustrates what the predictor training does relative to the rest of the flow. \n",
    "\n",
    "\n",
    "![TrainPredictor](../../documentation/documentation_01_train_predictor)"
   ]
  },
  {
   "cell_type": "code",
   "execution_count": 2,
   "metadata": {},
   "outputs": [
    {
     "name": "stderr",
     "output_type": "stream",
     "text": [
      "Matplotlib created a temporary config/cache directory at /tmp/matplotlib-8kleb97b because the default path (/tf/.cache/matplotlib) is not a writable directory; it is highly recommended to set the MPLCONFIGDIR environment variable to a writable directory, in particular to speed up the import of Matplotlib and to better support multiprocessing.\n"
     ]
    }
   ],
   "source": [
    "import tensorflow as tf\n",
    "import numpy as np\n",
    "import pandas as pd\n",
    "import matplotlib.pyplot as plt\n",
    "\n",
    "#import cupyck\n",
    "import primo.models\n",
    "import primo.tools.sequences as seqtools\n",
    "import primo.models.cas9 as cas9\n"
   ]
  },
  {
   "cell_type": "markdown",
   "metadata": {},
   "source": [
    "Initialize the cupyck session first, otherwise Tensorflow will use up all available GPU memory:"
   ]
  },
  {
   "cell_type": "code",
   "execution_count": 3,
   "metadata": {},
   "outputs": [],
   "source": [
    "\n",
    "#cupyck_sess = cupyck.GPUSession(max_seqlen=200, nblocks=1024, nthreads=128)"
   ]
  },
  {
   "cell_type": "code",
   "execution_count": 4,
   "metadata": {},
   "outputs": [],
   "source": [
    "simulator = primo.models.Simulator()"
   ]
  },
  {
   "cell_type": "markdown",
   "metadata": {},
   "source": [
    "Generate a large set of pairs with various Hamming distances, then simulate their query-target yields with NUPACK:"
   ]
  },
  {
   "cell_type": "code",
   "execution_count": 5,
   "metadata": {},
   "outputs": [],
   "source": [
    "# Generate two random DNA sequences. First by creating a random sequence, then copying that sequence to another sequence, then mutating that second sequence at some given mutation rate, such that \n",
    "# the hamming distance between the sequences (i.e. how different they are) is sampled from a uniform distribution. This means that we could expect sequence that are nearly identical, and sequence pairs that are entirely opposite to occur at approximately the same rate. \n",
    "# Random_pairs: (arbitrary_sequence_1, arbitrary_sequence_2)\n",
    "\n",
    "# Generate 5,000 of these arbitrary sequence pairs.\n",
    "n_sequence_pairs_to_generate = 50000\n",
    "\n",
    "# ...of length 80 nucleotides each (80 was chosen because that's the length of the DNA sequence's feature region in callie original paper).\n",
    "sequence_length = 20\n",
    "\n",
    "random_pairs, mut_rates = seqtools.random_mutant_pairs(n_sequence_pairs_to_generate, sequence_length)"
   ]
  },
  {
   "cell_type": "code",
   "execution_count": 6,
   "metadata": {},
   "outputs": [],
   "source": [
    "# From here, we take the first arbitrary sequence, and its mutation (i.e. the random pairs), then we pretend that the first arbitrary sequence (i.e. at index 0) is a target DNA sequence, then we pretend the second arbitrary sequence (i.e. at index 1) is a query DNA sequences. \n",
    "seq_pairs = pd.DataFrame({\n",
    "    \"target_features\": random_pairs[:, 0],\n",
    "    \"query_features\": random_pairs[:, 1]\n",
    "})"
   ]
  },
  {
   "cell_type": "code",
   "execution_count": 8,
   "metadata": {},
   "outputs": [],
   "source": [
    "# Use NUPACK/CUPYCK to simulate the hybdrization yields of the two sequences in the pair (this is the Pink flow in the above diagram). \n",
    "\n",
    "# Note that this will not be used for Cas9 similarity search.\n",
    "# Q: Why?\n",
    "# A: This process of training a differentiable yield predictor from yields calculated by a *non*-differentiable yield simulator (i.e. NUPACK) is done becauase the non-differentiable simualtor is non-differentiable-- and therefore can't be used in a neural network (it would fail the backpropagation step).\n",
    "\n",
    "# However, in Cas9 similarity search, we are predicting how well Cas9 will cut a target DNA sequence # using differentiable predictor provided by Finklestein lab called Nucleaseq (https://github.com/finkelsteinlab/nucleaseq) \n",
    "\n",
    "sim_results = simulator.simulate(seq_pairs)"
   ]
  },
  {
   "cell_type": "markdown",
   "metadata": {},
   "source": [
    "Initialize a random predictor and train it on the sequences and simulated yields:"
   ]
  },
  {
   "cell_type": "code",
   "execution_count": 10,
   "metadata": {},
   "outputs": [],
   "source": [
    "predictor = primo.models.Predictor()"
   ]
  },
  {
   "cell_type": "code",
   "execution_count": 11,
   "metadata": {},
   "outputs": [],
   "source": [
    "onehot_seq_pairs = predictor.seq_pairs_to_onehots(seq_pairs)"
   ]
  },
  {
   "cell_type": "code",
   "execution_count": 12,
   "metadata": {},
   "outputs": [
    {
     "name": "stdout",
     "output_type": "stream",
     "text": [
      "Epoch 1/50\n",
      "1250/1250 [==============================] - 8s 5ms/step - loss: 0.1638 - val_loss: 0.1141\n",
      "Epoch 2/50\n",
      "1250/1250 [==============================] - 5s 4ms/step - loss: 0.1020 - val_loss: 0.0861\n",
      "Epoch 3/50\n",
      "1250/1250 [==============================] - 5s 4ms/step - loss: 0.0809 - val_loss: 0.0726\n",
      "Epoch 4/50\n",
      "1250/1250 [==============================] - 5s 4ms/step - loss: 0.0680 - val_loss: 0.0729\n",
      "Epoch 5/50\n",
      "1250/1250 [==============================] - 6s 4ms/step - loss: 0.0599 - val_loss: 0.0560\n",
      "Epoch 6/50\n",
      "1250/1250 [==============================] - 6s 4ms/step - loss: 0.0545 - val_loss: 0.0505\n",
      "Epoch 7/50\n",
      "1250/1250 [==============================] - 5s 4ms/step - loss: 0.0507 - val_loss: 0.0490\n",
      "Epoch 8/50\n",
      "1250/1250 [==============================] - 6s 4ms/step - loss: 0.0476 - val_loss: 0.0444\n",
      "Epoch 9/50\n",
      "1250/1250 [==============================] - 6s 5ms/step - loss: 0.0457 - val_loss: 0.0423\n",
      "Epoch 10/50\n",
      "1250/1250 [==============================] - 5s 4ms/step - loss: 0.0442 - val_loss: 0.0428\n",
      "Epoch 11/50\n",
      "1250/1250 [==============================] - 5s 4ms/step - loss: 0.0430 - val_loss: 0.0402\n",
      "Epoch 12/50\n",
      "1250/1250 [==============================] - 5s 4ms/step - loss: 0.0422 - val_loss: 0.0405\n",
      "Epoch 13/50\n",
      "1250/1250 [==============================] - 5s 4ms/step - loss: 0.0415 - val_loss: 0.0412\n",
      "Epoch 14/50\n",
      "1250/1250 [==============================] - 5s 4ms/step - loss: 0.0408 - val_loss: 0.0412\n",
      "Epoch 15/50\n",
      "1250/1250 [==============================] - 5s 4ms/step - loss: 0.0403 - val_loss: 0.0388\n",
      "Epoch 16/50\n",
      "1250/1250 [==============================] - 6s 4ms/step - loss: 0.0402 - val_loss: 0.0373\n",
      "Epoch 17/50\n",
      "1250/1250 [==============================] - 5s 4ms/step - loss: 0.0396 - val_loss: 0.0423\n",
      "Epoch 18/50\n",
      "1250/1250 [==============================] - 5s 4ms/step - loss: 0.0397 - val_loss: 0.0400\n",
      "Epoch 19/50\n",
      "1250/1250 [==============================] - 6s 5ms/step - loss: 0.0394 - val_loss: 0.0382\n",
      "Epoch 20/50\n",
      "1250/1250 [==============================] - 6s 4ms/step - loss: 0.0393 - val_loss: 0.0495\n",
      "Epoch 21/50\n",
      "1250/1250 [==============================] - 5s 4ms/step - loss: 0.0394 - val_loss: 0.0453\n",
      "Epoch 22/50\n",
      "1250/1250 [==============================] - 5s 4ms/step - loss: 0.0391 - val_loss: 0.0452\n",
      "Epoch 23/50\n",
      "1250/1250 [==============================] - 5s 4ms/step - loss: 0.0393 - val_loss: 0.0392\n",
      "Epoch 24/50\n",
      "1250/1250 [==============================] - 5s 4ms/step - loss: 0.0391 - val_loss: 0.0390\n",
      "Epoch 25/50\n",
      "1250/1250 [==============================] - 6s 4ms/step - loss: 0.0387 - val_loss: 0.0416\n",
      "Epoch 26/50\n",
      "1250/1250 [==============================] - 6s 4ms/step - loss: 0.0389 - val_loss: 0.0379\n",
      "Epoch 27/50\n",
      "1250/1250 [==============================] - 6s 4ms/step - loss: 0.0387 - val_loss: 0.0419\n",
      "Epoch 28/50\n",
      "1250/1250 [==============================] - 6s 4ms/step - loss: 0.0388 - val_loss: 0.0403\n",
      "Epoch 29/50\n",
      "1250/1250 [==============================] - 6s 4ms/step - loss: 0.0387 - val_loss: 0.0364\n",
      "Epoch 30/50\n",
      "1250/1250 [==============================] - 6s 4ms/step - loss: 0.0384 - val_loss: 0.0376\n",
      "Epoch 31/50\n",
      "1250/1250 [==============================] - 6s 4ms/step - loss: 0.0381 - val_loss: 0.0394\n",
      "Epoch 32/50\n",
      "1250/1250 [==============================] - 5s 4ms/step - loss: 0.0385 - val_loss: 0.0370\n",
      "Epoch 33/50\n",
      "1250/1250 [==============================] - 5s 4ms/step - loss: 0.0384 - val_loss: 0.0375\n",
      "Epoch 34/50\n",
      "1250/1250 [==============================] - 6s 5ms/step - loss: 0.0384 - val_loss: 0.0439\n",
      "Epoch 35/50\n",
      "1250/1250 [==============================] - 6s 4ms/step - loss: 0.0382 - val_loss: 0.0428\n",
      "Epoch 36/50\n",
      "1250/1250 [==============================] - 6s 5ms/step - loss: 0.0379 - val_loss: 0.0422\n",
      "Epoch 37/50\n",
      "1250/1250 [==============================] - 6s 4ms/step - loss: 0.0380 - val_loss: 0.0362\n",
      "Epoch 38/50\n",
      "1250/1250 [==============================] - 5s 4ms/step - loss: 0.0380 - val_loss: 0.0364\n",
      "Epoch 39/50\n",
      "1250/1250 [==============================] - 6s 4ms/step - loss: 0.0379 - val_loss: 0.0358\n",
      "Epoch 40/50\n",
      "1250/1250 [==============================] - 5s 4ms/step - loss: 0.0379 - val_loss: 0.0469\n",
      "Epoch 41/50\n",
      "1250/1250 [==============================] - 5s 4ms/step - loss: 0.0380 - val_loss: 0.0359\n",
      "Epoch 42/50\n",
      "1250/1250 [==============================] - 5s 4ms/step - loss: 0.0375 - val_loss: 0.0370\n",
      "Epoch 43/50\n",
      "1250/1250 [==============================] - 6s 4ms/step - loss: 0.0376 - val_loss: 0.0368\n",
      "Epoch 44/50\n",
      "1250/1250 [==============================] - 5s 4ms/step - loss: 0.0373 - val_loss: 0.0364\n",
      "Epoch 45/50\n",
      "1250/1250 [==============================] - 6s 4ms/step - loss: 0.0374 - val_loss: 0.0357\n",
      "Epoch 46/50\n",
      "1250/1250 [==============================] - 5s 4ms/step - loss: 0.0372 - val_loss: 0.0374\n",
      "Epoch 47/50\n",
      "1250/1250 [==============================] - 6s 4ms/step - loss: 0.0371 - val_loss: 0.0351\n",
      "Epoch 48/50\n",
      "1250/1250 [==============================] - 6s 4ms/step - loss: 0.0371 - val_loss: 0.0407\n",
      "Epoch 49/50\n",
      "1250/1250 [==============================] - 5s 4ms/step - loss: 0.0369 - val_loss: 0.0364\n",
      "Epoch 50/50\n",
      "1250/1250 [==============================] - 5s 4ms/step - loss: 0.0370 - val_loss: 0.0366\n"
     ]
    }
   ],
   "source": [
    "history = predictor.train(onehot_seq_pairs, sim_results, epochs=50, validation_split = 0.2)"
   ]
  },
  {
   "cell_type": "markdown",
   "metadata": {},
   "source": [
    "Visualize the model's accuracy by plotting the simulated yield against the pairwise Hamming distance, and coloring by the difference between the predicted yield and the simulated yield. The predictor should be most accurate along an S-shaped region in the center."
   ]
  },
  {
   "cell_type": "code",
   "execution_count": 16,
   "metadata": {},
   "outputs": [],
   "source": [
    "pred_yield = predictor.model.predict(onehot_seq_pairs)"
   ]
  },
  {
   "cell_type": "code",
   "execution_count": 17,
   "metadata": {},
   "outputs": [
    {
     "data": {
      "text/plain": [
       "<matplotlib.colorbar.Colorbar at 0x7fd4344460b8>"
      ]
     },
     "execution_count": 17,
     "metadata": {},
     "output_type": "execute_result"
    },
    {
     "data": {
      "image/png": "[encoded data removed]",
      "text/plain": [
       "<Figure size 1080x720 with 2 Axes>"
      ]
     },
     "metadata": {
      "needs_background": "light"
     },
     "output_type": "display_data"
    }
   ],
   "source": [
    "plt.figure(figsize=(15, 10))\n",
    "plt.scatter(mut_rates, sim_results, c = np.abs(pred_yield.flatten() - sim_results))\n",
    "plt.xlabel(\"Hamming distance\")\n",
    "plt.ylabel(\"Simulated yield\")\n",
    "plt.colorbar(label=\"|Simulated - Predicted|\")"
   ]
  },
  {
   "cell_type": "code",
   "execution_count": 21,
   "metadata": {},
   "outputs": [
    {
     "data": {
      "text/plain": [
       "(array([4.6925e+04, 2.5620e+03, 3.8100e+02, 7.1000e+01, 2.5000e+01,\n",
       "        1.8000e+01, 6.0000e+00, 3.0000e+00, 3.0000e+00, 6.0000e+00]),\n",
       " array([7.79350055e-08, 9.65847929e-02, 1.93169508e-01, 2.89754223e-01,\n",
       "        3.86338938e-01, 4.82923653e-01, 5.79508368e-01, 6.76093083e-01,\n",
       "        7.72677798e-01, 8.69262513e-01, 9.65847228e-01]),\n",
       " <BarContainer object of 10 artists>)"
      ]
     },
     "execution_count": 21,
     "metadata": {},
     "output_type": "execute_result"
    },
    {
     "data": {
      "image/png": "[encoded data removed]",
      "text/plain": [
       "<Figure size 432x288 with 1 Axes>"
      ]
     },
     "metadata": {
      "needs_background": "light"
     },
     "output_type": "display_data"
    }
   ],
   "source": [
    "errors = np.abs(pred_yield.flatten() - sim_results)\n",
    "plt.figure()\n",
    "plt.hist(errors)"
   ]
  },
  {
   "cell_type": "markdown",
   "metadata": {},
   "source": [
    "Save the predictor for future training and use:"
   ]
  },
  {
   "cell_type": "code",
   "execution_count": 18,
   "metadata": {},
   "outputs": [],
   "source": [
    "predictor.save('~/predictor-50ksamples-2021-12-16.h5')"
   ]
  },
  {
   "cell_type": "code",
   "execution_count": null,
   "metadata": {},
   "outputs": [],
   "source": []
  }
 ],
 "metadata": {
  "kernelspec": {
   "display_name": "Python 3",
   "language": "python",
   "name": "python3"
  },
  "language_info": {
   "codemirror_mode": {
    "name": "ipython",
    "version": 3
   },
   "file_extension": ".py",
   "mimetype": "text/x-python",
   "name": "python",
   "nbconvert_exporter": "python",
   "pygments_lexer": "ipython3",
   "version": "3.6.9"
  }
 },
 "nbformat": 4,
 "nbformat_minor": 2
}
