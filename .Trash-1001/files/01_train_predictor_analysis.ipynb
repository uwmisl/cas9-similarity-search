{
 "cells": [
  {
   "cell_type": "markdown",
   "metadata": {},
   "source": [
    "Predictor Training\n",
    "==============\n",
    "\n",
    "This notebook trains a model to learn the non-differentiable "
   ]
  },
  {
   "cell_type": "code",
   "execution_count": 1,
   "metadata": {},
   "outputs": [
    {
     "name": "stderr",
     "output_type": "stream",
     "text": [
      "Matplotlib created a temporary config/cache directory at /tmp/matplotlib-jhwzl7pj because the default path (/tf/.cache/matplotlib) is not a writable directory; it is highly recommended to set the MPLCONFIGDIR environment variable to a writable directory, in particular to speed up the import of Matplotlib and to better support multiprocessing.\n"
     ]
    }
   ],
   "source": [
    "import tensorflow as tf\n",
    "import numpy as np\n",
    "import pandas as pd\n",
    "import matplotlib.pyplot as plt\n",
    "\n",
    "#import cupyck\n",
    "import primo.models\n",
    "import primo.tools.sequences as seqtools\n",
    "import primo.models.cas9 as cas9\n"
   ]
  },
  {
   "cell_type": "markdown",
   "metadata": {},
   "source": [
    "Reserve space on the GPU for running simulations. It's important to do this before running any tensorflow code (which will take all available GPU memory):"
   ]
  },
  {
   "cell_type": "code",
   "execution_count": 3,
   "metadata": {},
   "outputs": [],
   "source": [
    "gpus = tf.config.list_physical_devices('GPU')\n",
    "if gpus:\n",
    "  try:\n",
    "    # Currently, memory growth needs to be the same across GPUs\n",
    "    for gpu in gpus:\n",
    "      tf.config.experimental.set_memory_growth(gpu, True)\n",
    "    logical_gpus = tf.config.list_logical_devices('GPU')\n",
    "    print(len(gpus), \"Physical GPUs,\", len(logical_gpus), \"Logical GPUs\")\n",
    "  except RuntimeError as e:\n",
    "    # Memory growth must be set before GPUs have been initialized\n",
    "    print(e)\n"
   ]
  },
  {
   "cell_type": "code",
   "execution_count": 2,
   "metadata": {},
   "outputs": [],
   "source": [
    "simulator = primo.models.Simulator()"
   ]
  },
  {
   "cell_type": "markdown",
   "metadata": {},
   "source": [
    "Generate a large set of pairs with various Hamming distances, then simulate their query-target yields with NUPACK:"
   ]
  },
  {
   "cell_type": "code",
   "execution_count": 3,
   "metadata": {},
   "outputs": [],
   "source": [
    "# Generate two random DNA sequences. First by creating a random sequence, then copying that sequence to another sequence, then mutating that second sequence at some given mutation rate, such that \n",
    "# the hamming distance between the sequences (i.e. how different they are) is sampled from a uniform distribution. This means that we could expect sequence that are nearly identical, and sequence pairs that are entirely opposite to occur at approximately the same rate. \n",
    "# Random_pairs: (arbitrary_sequence_1, arbitrary_sequence_2)\n",
    "\n",
    "# Generate 5,000 of these arbitrary sequence pairs.\n",
    "n_sequence_pairs_to_generate = 50000\n",
    "\n",
    "# ...of length 80 nucleotides each (80 was chosen because that's the length of the DNA sequence's feature region in callie original paper).\n",
    "sequence_length = 20\n",
    "\n",
    "random_pairs, mut_rates = seqtools.random_mutant_pairs(n_sequence_pairs_to_generate, sequence_length)"
   ]
  },
  {
   "cell_type": "code",
   "execution_count": 4,
   "metadata": {},
   "outputs": [],
   "source": [
    "# From here, we take the first arbitrary sequence, and its mutation (i.e. the random pairs), then we pretend that the first arbitrary sequence (i.e. at index 0) is a target DNA sequence, then we pretend the second arbitrary sequence (i.e. at index 1) is a query DNA sequences. \n",
    "seq_pairs = pd.DataFrame({\n",
    "    \"target_features\": random_pairs[:, 0],\n",
    "    \"query_features\": random_pairs[:, 1]\n",
    "})"
   ]
  },
  {
   "cell_type": "code",
   "execution_count": 6,
   "metadata": {},
   "outputs": [],
   "source": [
    "# Use NUPACK/CUPYCK to simulate the hybdrization yields of the two sequences in the pair (this is the Pink flow in the above diagram). \n",
    "\n",
    "# Note that this will not be used for Cas9 similarity search.\n",
    "# Q: Why?\n",
    "# A: This process of training a differentiable yield predictor from yields calculated by a *non*-differentiable yield simulator (i.e. NUPACK) is done becauase the non-differentiable simualtor is non-differentiable-- and therefore can't be used in a neural network (it would fail the backpropagation step).\n",
    "\n",
    "# However, in Cas9 similarity search, we are predicting how well Cas9 will cut a target DNA sequence # using differentiable predictor provided by Finklestein lab called Nucleaseq (https://github.com/finkelsteinlab/nucleaseq) \n",
    "\n",
    "sim_results = simulator.simulate(seq_pairs)"
   ]
  },
  {
   "cell_type": "code",
   "execution_count": 23,
   "metadata": {},
   "outputs": [
    {
     "data": {
      "image/png": "[encoded data removed]",
      "text/plain": [
       "<Figure size 432x288 with 1 Axes>"
      ]
     },
     "metadata": {
      "needs_background": "light"
     },
     "output_type": "display_data"
    },
    {
     "data": {
      "image/png": "[encoded data removed]",
      "text/plain": [
       "<Figure size 432x288 with 1 Axes>"
      ]
     },
     "metadata": {
      "needs_background": "light"
     },
     "output_type": "display_data"
    }
   ],
   "source": [
    "plt.hist(sim_results)\n",
    "plt.title('log scale')\n",
    "plt.yscale('log')\n",
    "plt.xlabel('score')\n",
    "plt.ylabel('num of pairs')\n",
    "plt.show()\n",
    "\n",
    "\n",
    "plt.hist(sim_results)\n",
    "plt.title('linear scale')\n",
    "plt.xlabel('score')\n",
    "plt.ylabel('num of pairs')\n",
    "plt.show()"
   ]
  },
  {
   "cell_type": "markdown",
   "metadata": {},
   "source": [
    "Initialize a random predictor and train it on the sequences and simulated yields:"
   ]
  },
  {
   "cell_type": "code",
   "execution_count": 24,
   "metadata": {},
   "outputs": [],
   "source": [
    "predictor = primo.models.PredictorModel()"
   ]
  },
  {
   "cell_type": "code",
   "execution_count": 27,
   "metadata": {},
   "outputs": [],
   "source": [
    "onehot_seq_pairs = predictor.seq_pairs_to_onehots(seq_pairs)"
   ]
  },
  {
   "cell_type": "code",
   "execution_count": 32,
   "metadata": {},
   "outputs": [
    {
     "name": "stdout",
     "output_type": "stream",
     "text": [
      "Epoch 1/50\n",
      "1250/1250 [==============================] - 9s 5ms/step - loss: 0.1560 - val_loss: 0.1132\n",
      "Epoch 2/50\n",
      "1250/1250 [==============================] - 5s 4ms/step - loss: 0.0999 - val_loss: 0.0870\n",
      "Epoch 3/50\n",
      "1250/1250 [==============================] - 5s 4ms/step - loss: 0.0793 - val_loss: 0.0705\n",
      "Epoch 4/50\n",
      "1250/1250 [==============================] - 5s 4ms/step - loss: 0.0673 - val_loss: 0.0670\n",
      "Epoch 5/50\n",
      "1250/1250 [==============================] - 5s 4ms/step - loss: 0.0595 - val_loss: 0.0545\n",
      "Epoch 6/50\n",
      "1250/1250 [==============================] - 6s 4ms/step - loss: 0.0546 - val_loss: 0.0521\n",
      "Epoch 7/50\n",
      "1250/1250 [==============================] - 5s 4ms/step - loss: 0.0508 - val_loss: 0.0487\n",
      "Epoch 8/50\n",
      "1250/1250 [==============================] - 5s 4ms/step - loss: 0.0483 - val_loss: 0.0496\n",
      "Epoch 9/50\n",
      "1250/1250 [==============================] - 5s 4ms/step - loss: 0.0464 - val_loss: 0.0424\n",
      "Epoch 10/50\n",
      "1250/1250 [==============================] - 5s 4ms/step - loss: 0.0448 - val_loss: 0.0481\n",
      "Epoch 11/50\n",
      "1250/1250 [==============================] - 7s 5ms/step - loss: 0.0438 - val_loss: 0.0396\n",
      "Epoch 12/50\n",
      "1250/1250 [==============================] - 6s 5ms/step - loss: 0.0428 - val_loss: 0.0375\n",
      "Epoch 13/50\n",
      "1250/1250 [==============================] - 5s 4ms/step - loss: 0.0424 - val_loss: 0.0376\n",
      "Epoch 14/50\n",
      "1250/1250 [==============================] - 5s 4ms/step - loss: 0.0419 - val_loss: 0.0472\n",
      "Epoch 15/50\n",
      "1250/1250 [==============================] - 5s 4ms/step - loss: 0.0414 - val_loss: 0.0373\n",
      "Epoch 16/50\n",
      "1250/1250 [==============================] - 6s 4ms/step - loss: 0.0410 - val_loss: 0.0407\n",
      "Epoch 17/50\n",
      "1250/1250 [==============================] - 6s 4ms/step - loss: 0.0405 - val_loss: 0.0372\n",
      "Epoch 18/50\n",
      "1250/1250 [==============================] - 6s 4ms/step - loss: 0.0405 - val_loss: 0.0408\n",
      "Epoch 19/50\n",
      "1250/1250 [==============================] - 5s 4ms/step - loss: 0.0402 - val_loss: 0.0384\n",
      "Epoch 20/50\n",
      "1250/1250 [==============================] - 5s 4ms/step - loss: 0.0403 - val_loss: 0.0365\n",
      "Epoch 21/50\n",
      "1250/1250 [==============================] - 5s 4ms/step - loss: 0.0399 - val_loss: 0.0430\n",
      "Epoch 22/50\n",
      "1250/1250 [==============================] - 5s 4ms/step - loss: 0.0397 - val_loss: 0.0351\n",
      "Epoch 23/50\n",
      "1250/1250 [==============================] - 5s 4ms/step - loss: 0.0396 - val_loss: 0.0405\n",
      "Epoch 24/50\n",
      "1250/1250 [==============================] - 5s 4ms/step - loss: 0.0396 - val_loss: 0.0348\n",
      "Epoch 25/50\n",
      "1250/1250 [==============================] - 6s 4ms/step - loss: 0.0395 - val_loss: 0.0395\n",
      "Epoch 26/50\n",
      "1250/1250 [==============================] - 5s 4ms/step - loss: 0.0392 - val_loss: 0.0433\n",
      "Epoch 27/50\n",
      "1250/1250 [==============================] - 5s 4ms/step - loss: 0.0394 - val_loss: 0.0352\n",
      "Epoch 28/50\n",
      "1250/1250 [==============================] - 5s 4ms/step - loss: 0.0395 - val_loss: 0.0370\n",
      "Epoch 29/50\n",
      "1250/1250 [==============================] - 5s 4ms/step - loss: 0.0390 - val_loss: 0.0393\n",
      "Epoch 30/50\n",
      "1250/1250 [==============================] - 5s 4ms/step - loss: 0.0394 - val_loss: 0.0351\n",
      "Epoch 31/50\n",
      "1250/1250 [==============================] - 5s 4ms/step - loss: 0.0393 - val_loss: 0.0346\n",
      "Epoch 32/50\n",
      "1250/1250 [==============================] - 5s 4ms/step - loss: 0.0389 - val_loss: 0.0360\n",
      "Epoch 33/50\n",
      "1250/1250 [==============================] - 5s 4ms/step - loss: 0.0390 - val_loss: 0.0394\n",
      "Epoch 34/50\n",
      "1250/1250 [==============================] - 6s 4ms/step - loss: 0.0389 - val_loss: 0.0362\n",
      "Epoch 35/50\n",
      "1250/1250 [==============================] - 5s 4ms/step - loss: 0.0388 - val_loss: 0.0352\n",
      "Epoch 36/50\n",
      "1250/1250 [==============================] - 5s 4ms/step - loss: 0.0388 - val_loss: 0.0370\n",
      "Epoch 37/50\n",
      "1250/1250 [==============================] - 5s 4ms/step - loss: 0.0386 - val_loss: 0.0348\n",
      "Epoch 38/50\n",
      "1250/1250 [==============================] - 5s 4ms/step - loss: 0.0385 - val_loss: 0.0364\n",
      "Epoch 39/50\n",
      "1250/1250 [==============================] - 5s 4ms/step - loss: 0.0386 - val_loss: 0.0376\n",
      "Epoch 40/50\n",
      "1250/1250 [==============================] - 5s 4ms/step - loss: 0.0383 - val_loss: 0.0360\n",
      "Epoch 41/50\n",
      "1250/1250 [==============================] - 5s 4ms/step - loss: 0.0384 - val_loss: 0.0428\n",
      "Epoch 42/50\n",
      "1250/1250 [==============================] - 5s 4ms/step - loss: 0.0383 - val_loss: 0.0339\n",
      "Epoch 43/50\n",
      "1250/1250 [==============================] - 6s 4ms/step - loss: 0.0383 - val_loss: 0.0369\n",
      "Epoch 44/50\n",
      "1250/1250 [==============================] - 6s 4ms/step - loss: 0.0382 - val_loss: 0.0341\n",
      "Epoch 45/50\n",
      "1250/1250 [==============================] - 5s 4ms/step - loss: 0.0379 - val_loss: 0.0337\n",
      "Epoch 46/50\n",
      "1250/1250 [==============================] - 5s 4ms/step - loss: 0.0382 - val_loss: 0.0353\n",
      "Epoch 47/50\n",
      "1250/1250 [==============================] - 5s 4ms/step - loss: 0.0379 - val_loss: 0.0343\n",
      "Epoch 48/50\n",
      "1250/1250 [==============================] - 5s 4ms/step - loss: 0.0380 - val_loss: 0.0367\n",
      "Epoch 49/50\n",
      "1250/1250 [==============================] - 5s 4ms/step - loss: 0.0378 - val_loss: 0.0359\n",
      "Epoch 50/50\n",
      "1250/1250 [==============================] - 5s 4ms/step - loss: 0.0376 - val_loss: 0.0347\n"
     ]
    }
   ],
   "source": [
    "history = predictor.train(onehot_seq_pairs, sim_results, epochs=50, validation_split = 0.2)"
   ]
  },
  {
   "cell_type": "markdown",
   "metadata": {},
   "source": [
    "Visualize the model's accuracy by plotting the simulated yield against the pairwise Hamming distance, and coloring by the difference between the predicted yield and the simulated yield. The predictor should be most accurate along an S-shaped region in the center."
   ]
  },
  {
   "cell_type": "code",
   "execution_count": null,
   "metadata": {},
   "outputs": [],
   "source": [
    "pred_yield = predictor.model.predict(onehot_seq_pairs)"
   ]
  },
  {
   "cell_type": "code",
   "execution_count": null,
   "metadata": {},
   "outputs": [],
   "source": [
    "plt.figure(figsize=(15, 10))\n",
    "plt.scatter(mut_rates, sim_results, c = np.abs(pred_yield.flatten() - sim_results))\n",
    "plt.xlabel(\"Hamming distance\")\n",
    "plt.ylabel(\"Simulated yield\")\n",
    "plt.colorbar(label=\"|Simulated - Predicted|\")"
   ]
  },
  {
   "cell_type": "code",
   "execution_count": null,
   "metadata": {},
   "outputs": [],
   "source": [
    "errors = np.abs(pred_yield.flatten() - sim_results)\n",
    "plt.figure()\n",
    "plt.hist(errors)"
   ]
  },
  {
   "cell_type": "markdown",
   "metadata": {},
   "source": [
    "Save the predictor for future training and use:"
   ]
  },
  {
   "cell_type": "code",
   "execution_count": null,
   "metadata": {},
   "outputs": [],
   "source": [
    "#predictor.save('/tf/primo/data/models/yield-model.h5')"
   ]
  },
  {
   "cell_type": "code",
   "execution_count": null,
   "metadata": {},
   "outputs": [],
   "source": []
  }
 ],
 "metadata": {
  "kernelspec": {
   "display_name": "Python 3",
   "language": "python",
   "name": "python3"
  },
  "language_info": {
   "codemirror_mode": {
    "name": "ipython",
    "version": 3
   },
   "file_extension": ".py",
   "mimetype": "text/x-python",
   "name": "python",
   "nbconvert_exporter": "python",
   "pygments_lexer": "ipython3",
   "version": "3.6.9"
  }
 },
 "nbformat": 4,
 "nbformat_minor": 2
}
